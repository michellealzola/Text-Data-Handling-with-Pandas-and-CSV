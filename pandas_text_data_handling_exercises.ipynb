{
 "cells": [
  {
   "metadata": {},
   "cell_type": "markdown",
   "source": [
    "# **\"Mastering Text Data Handling with Pandas and CSV: A Practical Problem Set using Sensor Logs\"**\n",
    "\n",
    "\n",
    "### Objectives:\n",
    "\n",
    "* Learn how to read large or delimited datasets in chunks.\n",
    "* Understand writing data using different formatting options.\n",
    "* Work with unusual delimiters and `csv` module integration.\n",
    "* Practice reading, cleaning, analyzing, and saving data.\n",
    " \n",
    "\n",
    "### Why Do This?\n",
    "\n",
    "Sensor-based logs often come in custom-delimited formats (`|`, `;`, `\\t`). These logs may contain missing data, unusual characters, or large records. This challenge will prepare you to:\n",
    "\n",
    "* Efficiently process real-world datasets\n",
    "* Handle missing data gracefully\n",
    "* Convert between different file formats\n",
    "* Create exportable, clean outputs for reports or storage\n",
    "\n",
    "\n"
   ],
   "id": "ba183dfba301abcf"
  },
  {
   "metadata": {},
   "cell_type": "markdown",
   "source": [
    "### Problem Set (20 Problems)\n",
    "\n"
   ],
   "id": "1dcdbdc9d47bedf5"
  },
  {
   "metadata": {
    "ExecuteTime": {
     "end_time": "2025-05-09T22:25:16.267960Z",
     "start_time": "2025-05-09T22:25:16.265468Z"
    }
   },
   "cell_type": "code",
   "source": [
    "import pandas as pd\n",
    "import numpy as np\n",
    "import csv"
   ],
   "id": "b638c9a4d7227d14",
   "outputs": [],
   "execution_count": 1586
  },
  {
   "metadata": {},
   "cell_type": "markdown",
   "source": [
    "#### **Part A: Reading Text Files in Pieces**\n",
    "\n",
    "1. **Read the dataset in chunks of 10 rows** using `pd.read_csv(..., chunksize=10)` and print the first chunk.\n"
   ],
   "id": "60fca7815c149e47"
  },
  {
   "metadata": {
    "ExecuteTime": {
     "end_time": "2025-05-09T22:25:18.199111Z",
     "start_time": "2025-05-09T22:25:18.195870Z"
    }
   },
   "cell_type": "code",
   "source": "chunks = pd.read_csv('sensor_data_pipe.txt', sep='|', chunksize=10)",
   "id": "72c4fd2053f1417a",
   "outputs": [],
   "execution_count": 1587
  },
  {
   "metadata": {
    "ExecuteTime": {
     "end_time": "2025-05-09T22:25:18.245765Z",
     "start_time": "2025-05-09T22:25:18.234698Z"
    }
   },
   "cell_type": "code",
   "source": [
    "for chunk in chunks:\n",
    "    print(chunk)"
   ],
   "id": "35b3b023c290fd0c",
   "outputs": [
    {
     "name": "stdout",
     "output_type": "stream",
     "text": [
      "   SensorID     Location  Temperature  Humidity    Status\n",
      "0      1001   North Wing          NaN      44.9        OK\n",
      "1      1002  Central Hub          NaN      40.6   Warning\n",
      "2      1003   South Wing         25.1       NaN       NaN\n",
      "3      1004    West Wing          NaN      45.6   Warning\n",
      "4      1005    West Wing         23.4       NaN        OK\n",
      "5      1006   North Wing          NaN       NaN  Critical\n",
      "6      1007   North Wing          NaN       NaN        OK\n",
      "7      1008  Central Hub          NaN       NaN       NaN\n",
      "8      1009   South Wing         27.0       NaN        OK\n",
      "9      1010   South Wing          NaN       NaN  Critical\n",
      "    SensorID     Location  Temperature  Humidity    Status\n",
      "10      1011   South Wing         23.7       NaN        OK\n",
      "11      1012  Central Hub          NaN      54.6       NaN\n",
      "12      1013    West Wing          NaN      53.8  Critical\n",
      "13      1014   North Wing         22.3       NaN  Critical\n",
      "14      1015   North Wing          NaN       NaN   Warning\n",
      "15      1016    West Wing          NaN       NaN   Warning\n",
      "16      1017   South Wing          NaN       NaN       NaN\n",
      "17      1018  Central Hub         24.0      59.9       NaN\n",
      "18      1019    West Wing         20.9      57.2   Warning\n",
      "19      1020    West Wing          NaN       NaN       NaN\n",
      "    SensorID     Location  Temperature  Humidity    Status\n",
      "20      1021    East Wing         29.7      53.6       NaN\n",
      "21      1022    East Wing          NaN       NaN   Warning\n",
      "22      1023    West Wing          NaN       NaN       NaN\n",
      "23      1024   South Wing         25.1       NaN       NaN\n",
      "24      1025  Central Hub          NaN       NaN       NaN\n",
      "25      1026   North Wing          NaN       NaN  Critical\n",
      "26      1027   South Wing          NaN      58.9       NaN\n",
      "27      1028   North Wing          NaN      55.3       NaN\n",
      "28      1029  Central Hub          NaN       NaN   Warning\n",
      "29      1030  Central Hub          NaN       NaN       NaN\n",
      "    SensorID     Location  Temperature  Humidity    Status\n",
      "30      1031    East Wing          NaN      49.0   Warning\n",
      "31      1032   North Wing          NaN       NaN   Warning\n",
      "32      1033   North Wing          NaN      41.2        OK\n",
      "33      1034    East Wing         20.7       NaN   Warning\n",
      "34      1035  Central Hub          NaN      51.5       NaN\n",
      "35      1036    West Wing         21.9       NaN       NaN\n",
      "36      1037    West Wing          NaN       NaN        OK\n",
      "37      1038   North Wing          NaN      56.0   Warning\n",
      "38      1039   South Wing          NaN      42.8  Critical\n",
      "39      1040    West Wing         22.5       NaN        OK\n",
      "    SensorID     Location  Temperature  Humidity    Status\n",
      "40      1041   North Wing          NaN      56.7   Warning\n",
      "41      1042   South Wing          NaN       NaN        OK\n",
      "42      1043   South Wing          NaN       NaN  Critical\n",
      "43      1044    West Wing          NaN       NaN       NaN\n",
      "44      1045   South Wing         21.9       NaN       NaN\n",
      "45      1046   North Wing         27.5       NaN       NaN\n",
      "46      1047  Central Hub          NaN      41.6        OK\n",
      "47      1048  Central Hub         20.7       NaN   Warning\n",
      "48      1049  Central Hub          NaN       NaN       NaN\n",
      "49      1050  Central Hub          NaN       NaN  Critical\n"
     ]
    }
   ],
   "execution_count": 1588
  },
  {
   "metadata": {},
   "cell_type": "markdown",
   "source": "*Create a dictionary out of chunks (optional)*",
   "id": "dd957fd85ec99150"
  },
  {
   "metadata": {
    "ExecuteTime": {
     "end_time": "2025-05-09T22:25:18.318731Z",
     "start_time": "2025-05-09T22:25:18.315182Z"
    }
   },
   "cell_type": "code",
   "source": [
    "# get column names from chunks\n",
    "chunks = pd.read_csv('sensor_data_pipe.txt', sep='|', chunksize=10)\n",
    "first_chunk = next(chunks)"
   ],
   "id": "ee9faa4ddea852c3",
   "outputs": [],
   "execution_count": 1589
  },
  {
   "metadata": {
    "ExecuteTime": {
     "end_time": "2025-05-09T22:25:18.394264Z",
     "start_time": "2025-05-09T22:25:18.391769Z"
    }
   },
   "cell_type": "code",
   "source": "column_names = first_chunk.columns.to_list()",
   "id": "265e2f72e5aaa920",
   "outputs": [],
   "execution_count": 1590
  },
  {
   "metadata": {
    "ExecuteTime": {
     "end_time": "2025-05-09T22:25:18.511547Z",
     "start_time": "2025-05-09T22:25:18.508116Z"
    }
   },
   "cell_type": "code",
   "source": "column_names",
   "id": "73d3ea314176e8a0",
   "outputs": [
    {
     "data": {
      "text/plain": [
       "['SensorID', 'Location', 'Temperature', 'Humidity', 'Status']"
      ]
     },
     "execution_count": 1591,
     "metadata": {},
     "output_type": "execute_result"
    }
   ],
   "execution_count": 1591
  },
  {
   "metadata": {
    "ExecuteTime": {
     "end_time": "2025-05-09T22:25:18.571664Z",
     "start_time": "2025-05-09T22:25:18.568728Z"
    }
   },
   "cell_type": "code",
   "source": "data_dict = {}",
   "id": "db6f4563fca94fab",
   "outputs": [],
   "execution_count": 1592
  },
  {
   "metadata": {
    "ExecuteTime": {
     "end_time": "2025-05-09T22:25:18.659485Z",
     "start_time": "2025-05-09T22:25:18.657167Z"
    }
   },
   "cell_type": "code",
   "source": [
    "for column_name in column_names:\n",
    "    data_dict[column_name] = []"
   ],
   "id": "5f68da1d8170518f",
   "outputs": [],
   "execution_count": 1593
  },
  {
   "metadata": {
    "ExecuteTime": {
     "end_time": "2025-05-09T22:25:18.714825Z",
     "start_time": "2025-05-09T22:25:18.711400Z"
    }
   },
   "cell_type": "code",
   "source": "data_dict",
   "id": "4c807716d9019c3d",
   "outputs": [
    {
     "data": {
      "text/plain": [
       "{'SensorID': [],\n",
       " 'Location': [],\n",
       " 'Temperature': [],\n",
       " 'Humidity': [],\n",
       " 'Status': []}"
      ]
     },
     "execution_count": 1594,
     "metadata": {},
     "output_type": "execute_result"
    }
   ],
   "execution_count": 1594
  },
  {
   "metadata": {
    "ExecuteTime": {
     "end_time": "2025-05-09T22:25:18.817361Z",
     "start_time": "2025-05-09T22:25:18.814813Z"
    }
   },
   "cell_type": "code",
   "source": "chunks = pd.read_csv('sensor_data_pipe.txt', sep='|', chunksize=10)",
   "id": "cddda65b6e829124",
   "outputs": [],
   "execution_count": 1595
  },
  {
   "metadata": {
    "ExecuteTime": {
     "end_time": "2025-05-09T22:25:18.886727Z",
     "start_time": "2025-05-09T22:25:18.880267Z"
    }
   },
   "cell_type": "code",
   "source": [
    "for chunk in chunks:\n",
    "    for column_name in data_dict.keys():\n",
    "        data_dict[column_name].extend(chunk[column_name].to_list())"
   ],
   "id": "dbc6a398c9612915",
   "outputs": [],
   "execution_count": 1596
  },
  {
   "metadata": {
    "ExecuteTime": {
     "end_time": "2025-05-09T22:25:18.985318Z",
     "start_time": "2025-05-09T22:25:18.982231Z"
    }
   },
   "cell_type": "code",
   "source": [
    "for k, v in data_dict.items():\n",
    "    print(f'\\n{k}: {v[:5]}')"
   ],
   "id": "4c5d48f4e1ba63ee",
   "outputs": [
    {
     "name": "stdout",
     "output_type": "stream",
     "text": [
      "\n",
      "SensorID: [1001, 1002, 1003, 1004, 1005]\n",
      "\n",
      "Location: ['North Wing', 'Central Hub', 'South Wing', 'West Wing', 'West Wing']\n",
      "\n",
      "Temperature: [nan, nan, 25.1, nan, 23.4]\n",
      "\n",
      "Humidity: [44.9, 40.6, nan, 45.6, nan]\n",
      "\n",
      "Status: ['OK', 'Warning', nan, 'Warning', 'OK']\n"
     ]
    }
   ],
   "execution_count": 1597
  },
  {
   "metadata": {},
   "cell_type": "markdown",
   "source": "2. **Count how many total rows are in the dataset** by iterating through chunks.",
   "id": "b5d67fddcbe3b7e5"
  },
  {
   "metadata": {
    "ExecuteTime": {
     "end_time": "2025-05-09T22:25:19.047100Z",
     "start_time": "2025-05-09T22:25:19.043938Z"
    }
   },
   "cell_type": "code",
   "source": "chunks = pd.read_csv('sensor_data_pipe.txt', sep='|', chunksize=10)",
   "id": "4f6ed6ea94c14759",
   "outputs": [],
   "execution_count": 1598
  },
  {
   "metadata": {
    "ExecuteTime": {
     "end_time": "2025-05-09T22:25:19.161915Z",
     "start_time": "2025-05-09T22:25:19.159232Z"
    }
   },
   "cell_type": "code",
   "source": "total_rows = 0",
   "id": "97d142714c38bdd1",
   "outputs": [],
   "execution_count": 1599
  },
  {
   "metadata": {
    "ExecuteTime": {
     "end_time": "2025-05-09T22:25:19.225402Z",
     "start_time": "2025-05-09T22:25:19.218771Z"
    }
   },
   "cell_type": "code",
   "source": [
    "for chunk in chunks:\n",
    "    total_rows += chunk.shape[0]\n",
    "    print(chunk.shape)"
   ],
   "id": "30a058394640182",
   "outputs": [
    {
     "name": "stdout",
     "output_type": "stream",
     "text": [
      "(10, 5)\n",
      "(10, 5)\n",
      "(10, 5)\n",
      "(10, 5)\n",
      "(10, 5)\n"
     ]
    }
   ],
   "execution_count": 1600
  },
  {
   "metadata": {
    "ExecuteTime": {
     "end_time": "2025-05-09T22:25:19.323770Z",
     "start_time": "2025-05-09T22:25:19.320161Z"
    }
   },
   "cell_type": "code",
   "source": "total_rows",
   "id": "7cc92a70c91e194e",
   "outputs": [
    {
     "data": {
      "text/plain": [
       "50"
      ]
     },
     "execution_count": 1601,
     "metadata": {},
     "output_type": "execute_result"
    }
   ],
   "execution_count": 1601
  },
  {
   "metadata": {},
   "cell_type": "markdown",
   "source": "3. **Calculate the average temperature** in each chunk and collect all chunk averages.",
   "id": "bf9f17ee4445a6ee"
  },
  {
   "metadata": {
    "ExecuteTime": {
     "end_time": "2025-05-09T22:25:19.382166Z",
     "start_time": "2025-05-09T22:25:19.379083Z"
    }
   },
   "cell_type": "code",
   "source": "chunks = pd.read_csv('sensor_data_pipe.txt', sep='|', chunksize=10)",
   "id": "4b68b3ec5ba67529",
   "outputs": [],
   "execution_count": 1602
  },
  {
   "metadata": {
    "ExecuteTime": {
     "end_time": "2025-05-09T22:25:19.486538Z",
     "start_time": "2025-05-09T22:25:19.483783Z"
    }
   },
   "cell_type": "code",
   "source": [
    "total_averages = 0\n",
    "chunk_count = 0"
   ],
   "id": "287b43ac7c87f689",
   "outputs": [],
   "execution_count": 1603
  },
  {
   "metadata": {
    "ExecuteTime": {
     "end_time": "2025-05-09T22:25:19.590316Z",
     "start_time": "2025-05-09T22:25:19.584135Z"
    }
   },
   "cell_type": "code",
   "source": [
    "print('Mean temperature per chunk:')\n",
    "for chunk in chunks:\n",
    "    chunk_count += 1\n",
    "    temp_mean_per_chunk = chunk.Temperature.mean()\n",
    "    total_averages += temp_mean_per_chunk\n",
    "    print(temp_mean_per_chunk)"
   ],
   "id": "5360669a799d7e",
   "outputs": [
    {
     "name": "stdout",
     "output_type": "stream",
     "text": [
      "Mean temperature per chunk:\n",
      "25.166666666666668\n",
      "22.725\n",
      "27.4\n",
      "21.7\n",
      "23.366666666666664\n"
     ]
    }
   ],
   "execution_count": 1604
  },
  {
   "metadata": {
    "ExecuteTime": {
     "end_time": "2025-05-09T22:25:19.667050Z",
     "start_time": "2025-05-09T22:25:19.664602Z"
    }
   },
   "cell_type": "code",
   "source": "temp_chunk_averages = total_averages / chunk_count",
   "id": "89aa88c8c7da919c",
   "outputs": [],
   "execution_count": 1605
  },
  {
   "metadata": {
    "ExecuteTime": {
     "end_time": "2025-05-09T22:25:19.707559Z",
     "start_time": "2025-05-09T22:25:19.703902Z"
    }
   },
   "cell_type": "code",
   "source": "temp_chunk_averages",
   "id": "77b9617786eccaf6",
   "outputs": [
    {
     "data": {
      "text/plain": [
       "np.float64(24.071666666666665)"
      ]
     },
     "execution_count": 1606,
     "metadata": {},
     "output_type": "execute_result"
    }
   ],
   "execution_count": 1606
  },
  {
   "metadata": {},
   "cell_type": "markdown",
   "source": "4. **Filter rows where Humidity is above 50**, across all chunks, and combine into a final DataFrame.",
   "id": "ed48b346d0c04bc"
  },
  {
   "metadata": {
    "ExecuteTime": {
     "end_time": "2025-05-09T22:25:19.807713Z",
     "start_time": "2025-05-09T22:25:19.804923Z"
    }
   },
   "cell_type": "code",
   "source": "chunks = pd.read_csv('sensor_data_pipe.txt', sep='|', chunksize=10)",
   "id": "95711eb32f8bad01",
   "outputs": [],
   "execution_count": 1607
  },
  {
   "metadata": {
    "ExecuteTime": {
     "end_time": "2025-05-09T22:25:19.871783Z",
     "start_time": "2025-05-09T22:25:19.869270Z"
    }
   },
   "cell_type": "code",
   "source": "humidity_above_50 = []",
   "id": "ab01d4a2c3520bea",
   "outputs": [],
   "execution_count": 1608
  },
  {
   "metadata": {
    "ExecuteTime": {
     "end_time": "2025-05-09T22:25:20.024063Z",
     "start_time": "2025-05-09T22:25:20.017575Z"
    }
   },
   "cell_type": "code",
   "source": [
    "for chunk in chunks:\n",
    "    filtered = chunk[chunk.Humidity > 50]\n",
    "    humidity_above_50.append(filtered)"
   ],
   "id": "6e58b031cb0aae3a",
   "outputs": [],
   "execution_count": 1609
  },
  {
   "metadata": {
    "ExecuteTime": {
     "end_time": "2025-05-09T22:25:20.077392Z",
     "start_time": "2025-05-09T22:25:20.070202Z"
    }
   },
   "cell_type": "code",
   "source": "humidity_above_50",
   "id": "60ac18e58f8be529",
   "outputs": [
    {
     "data": {
      "text/plain": [
       "[Empty DataFrame\n",
       " Columns: [SensorID, Location, Temperature, Humidity, Status]\n",
       " Index: [],\n",
       "     SensorID     Location  Temperature  Humidity    Status\n",
       " 11      1012  Central Hub          NaN      54.6       NaN\n",
       " 12      1013    West Wing          NaN      53.8  Critical\n",
       " 17      1018  Central Hub         24.0      59.9       NaN\n",
       " 18      1019    West Wing         20.9      57.2   Warning,\n",
       "     SensorID    Location  Temperature  Humidity Status\n",
       " 20      1021   East Wing         29.7      53.6    NaN\n",
       " 26      1027  South Wing          NaN      58.9    NaN\n",
       " 27      1028  North Wing          NaN      55.3    NaN,\n",
       "     SensorID     Location  Temperature  Humidity   Status\n",
       " 34      1035  Central Hub          NaN      51.5      NaN\n",
       " 37      1038   North Wing          NaN      56.0  Warning,\n",
       "     SensorID    Location  Temperature  Humidity   Status\n",
       " 40      1041  North Wing          NaN      56.7  Warning]"
      ]
     },
     "execution_count": 1610,
     "metadata": {},
     "output_type": "execute_result"
    }
   ],
   "execution_count": 1610
  },
  {
   "metadata": {
    "ExecuteTime": {
     "end_time": "2025-05-09T22:25:20.173309Z",
     "start_time": "2025-05-09T22:25:20.170409Z"
    }
   },
   "cell_type": "code",
   "source": "column_names",
   "id": "4231462cefd15005",
   "outputs": [
    {
     "data": {
      "text/plain": [
       "['SensorID', 'Location', 'Temperature', 'Humidity', 'Status']"
      ]
     },
     "execution_count": 1611,
     "metadata": {},
     "output_type": "execute_result"
    }
   ],
   "execution_count": 1611
  },
  {
   "metadata": {
    "ExecuteTime": {
     "end_time": "2025-05-09T22:25:20.219763Z",
     "start_time": "2025-05-09T22:25:20.217404Z"
    }
   },
   "cell_type": "code",
   "source": "data_dict = {}",
   "id": "9c0183d0d74bd875",
   "outputs": [],
   "execution_count": 1612
  },
  {
   "metadata": {
    "ExecuteTime": {
     "end_time": "2025-05-09T22:25:20.324903Z",
     "start_time": "2025-05-09T22:25:20.322783Z"
    }
   },
   "cell_type": "code",
   "source": [
    "for column_name in column_names:\n",
    "    data_dict[column_name] = []"
   ],
   "id": "c620a85c289df6d6",
   "outputs": [],
   "execution_count": 1613
  },
  {
   "metadata": {
    "ExecuteTime": {
     "end_time": "2025-05-09T22:25:20.400466Z",
     "start_time": "2025-05-09T22:25:20.397186Z"
    }
   },
   "cell_type": "code",
   "source": "data_dict",
   "id": "ea1d1404ee064d21",
   "outputs": [
    {
     "data": {
      "text/plain": [
       "{'SensorID': [],\n",
       " 'Location': [],\n",
       " 'Temperature': [],\n",
       " 'Humidity': [],\n",
       " 'Status': []}"
      ]
     },
     "execution_count": 1614,
     "metadata": {},
     "output_type": "execute_result"
    }
   ],
   "execution_count": 1614
  },
  {
   "metadata": {
    "ExecuteTime": {
     "end_time": "2025-05-09T22:25:20.470686Z",
     "start_time": "2025-05-09T22:25:20.467936Z"
    }
   },
   "cell_type": "code",
   "source": [
    "for row in humidity_above_50:\n",
    "    for column_name in data_dict.keys():\n",
    "        data_dict[column_name].extend(row[column_name].to_list())"
   ],
   "id": "c6cc69d8f0faf9e2",
   "outputs": [],
   "execution_count": 1615
  },
  {
   "metadata": {
    "ExecuteTime": {
     "end_time": "2025-05-09T22:25:20.542766Z",
     "start_time": "2025-05-09T22:25:20.539454Z"
    }
   },
   "cell_type": "code",
   "source": "df = pd.DataFrame(data=data_dict)",
   "id": "ef93beb6b74ee000",
   "outputs": [],
   "execution_count": 1616
  },
  {
   "metadata": {
    "ExecuteTime": {
     "end_time": "2025-05-09T22:25:20.709203Z",
     "start_time": "2025-05-09T22:25:20.700714Z"
    }
   },
   "cell_type": "code",
   "source": "df",
   "id": "57ff2c7b1a4eb108",
   "outputs": [
    {
     "data": {
      "text/plain": [
       "   SensorID     Location  Temperature  Humidity    Status\n",
       "0      1012  Central Hub          NaN      54.6       NaN\n",
       "1      1013    West Wing          NaN      53.8  Critical\n",
       "2      1018  Central Hub         24.0      59.9       NaN\n",
       "3      1019    West Wing         20.9      57.2   Warning\n",
       "4      1021    East Wing         29.7      53.6       NaN\n",
       "5      1027   South Wing          NaN      58.9       NaN\n",
       "6      1028   North Wing          NaN      55.3       NaN\n",
       "7      1035  Central Hub          NaN      51.5       NaN\n",
       "8      1038   North Wing          NaN      56.0   Warning\n",
       "9      1041   North Wing          NaN      56.7   Warning"
      ],
      "text/html": [
       "<div>\n",
       "<style scoped>\n",
       "    .dataframe tbody tr th:only-of-type {\n",
       "        vertical-align: middle;\n",
       "    }\n",
       "\n",
       "    .dataframe tbody tr th {\n",
       "        vertical-align: top;\n",
       "    }\n",
       "\n",
       "    .dataframe thead th {\n",
       "        text-align: right;\n",
       "    }\n",
       "</style>\n",
       "<table border=\"1\" class=\"dataframe\">\n",
       "  <thead>\n",
       "    <tr style=\"text-align: right;\">\n",
       "      <th></th>\n",
       "      <th>SensorID</th>\n",
       "      <th>Location</th>\n",
       "      <th>Temperature</th>\n",
       "      <th>Humidity</th>\n",
       "      <th>Status</th>\n",
       "    </tr>\n",
       "  </thead>\n",
       "  <tbody>\n",
       "    <tr>\n",
       "      <th>0</th>\n",
       "      <td>1012</td>\n",
       "      <td>Central Hub</td>\n",
       "      <td>NaN</td>\n",
       "      <td>54.6</td>\n",
       "      <td>NaN</td>\n",
       "    </tr>\n",
       "    <tr>\n",
       "      <th>1</th>\n",
       "      <td>1013</td>\n",
       "      <td>West Wing</td>\n",
       "      <td>NaN</td>\n",
       "      <td>53.8</td>\n",
       "      <td>Critical</td>\n",
       "    </tr>\n",
       "    <tr>\n",
       "      <th>2</th>\n",
       "      <td>1018</td>\n",
       "      <td>Central Hub</td>\n",
       "      <td>24.0</td>\n",
       "      <td>59.9</td>\n",
       "      <td>NaN</td>\n",
       "    </tr>\n",
       "    <tr>\n",
       "      <th>3</th>\n",
       "      <td>1019</td>\n",
       "      <td>West Wing</td>\n",
       "      <td>20.9</td>\n",
       "      <td>57.2</td>\n",
       "      <td>Warning</td>\n",
       "    </tr>\n",
       "    <tr>\n",
       "      <th>4</th>\n",
       "      <td>1021</td>\n",
       "      <td>East Wing</td>\n",
       "      <td>29.7</td>\n",
       "      <td>53.6</td>\n",
       "      <td>NaN</td>\n",
       "    </tr>\n",
       "    <tr>\n",
       "      <th>5</th>\n",
       "      <td>1027</td>\n",
       "      <td>South Wing</td>\n",
       "      <td>NaN</td>\n",
       "      <td>58.9</td>\n",
       "      <td>NaN</td>\n",
       "    </tr>\n",
       "    <tr>\n",
       "      <th>6</th>\n",
       "      <td>1028</td>\n",
       "      <td>North Wing</td>\n",
       "      <td>NaN</td>\n",
       "      <td>55.3</td>\n",
       "      <td>NaN</td>\n",
       "    </tr>\n",
       "    <tr>\n",
       "      <th>7</th>\n",
       "      <td>1035</td>\n",
       "      <td>Central Hub</td>\n",
       "      <td>NaN</td>\n",
       "      <td>51.5</td>\n",
       "      <td>NaN</td>\n",
       "    </tr>\n",
       "    <tr>\n",
       "      <th>8</th>\n",
       "      <td>1038</td>\n",
       "      <td>North Wing</td>\n",
       "      <td>NaN</td>\n",
       "      <td>56.0</td>\n",
       "      <td>Warning</td>\n",
       "    </tr>\n",
       "    <tr>\n",
       "      <th>9</th>\n",
       "      <td>1041</td>\n",
       "      <td>North Wing</td>\n",
       "      <td>NaN</td>\n",
       "      <td>56.7</td>\n",
       "      <td>Warning</td>\n",
       "    </tr>\n",
       "  </tbody>\n",
       "</table>\n",
       "</div>"
      ]
     },
     "execution_count": 1617,
     "metadata": {},
     "output_type": "execute_result"
    }
   ],
   "execution_count": 1617
  },
  {
   "metadata": {
    "ExecuteTime": {
     "end_time": "2025-05-09T22:25:20.761281Z",
     "start_time": "2025-05-09T22:25:20.758048Z"
    }
   },
   "cell_type": "code",
   "source": [
    "# alternative solution (short)\n",
    "df = pd.concat(humidity_above_50, ignore_index=True)"
   ],
   "id": "6f5227c184ab9f7e",
   "outputs": [],
   "execution_count": 1618
  },
  {
   "metadata": {
    "ExecuteTime": {
     "end_time": "2025-05-09T22:25:20.895015Z",
     "start_time": "2025-05-09T22:25:20.889062Z"
    }
   },
   "cell_type": "code",
   "source": "df",
   "id": "f0ac21983ea9e51",
   "outputs": [
    {
     "data": {
      "text/plain": [
       "   SensorID     Location  Temperature  Humidity    Status\n",
       "0      1012  Central Hub          NaN      54.6       NaN\n",
       "1      1013    West Wing          NaN      53.8  Critical\n",
       "2      1018  Central Hub         24.0      59.9       NaN\n",
       "3      1019    West Wing         20.9      57.2   Warning\n",
       "4      1021    East Wing         29.7      53.6       NaN\n",
       "5      1027   South Wing          NaN      58.9       NaN\n",
       "6      1028   North Wing          NaN      55.3       NaN\n",
       "7      1035  Central Hub          NaN      51.5       NaN\n",
       "8      1038   North Wing          NaN      56.0   Warning\n",
       "9      1041   North Wing          NaN      56.7   Warning"
      ],
      "text/html": [
       "<div>\n",
       "<style scoped>\n",
       "    .dataframe tbody tr th:only-of-type {\n",
       "        vertical-align: middle;\n",
       "    }\n",
       "\n",
       "    .dataframe tbody tr th {\n",
       "        vertical-align: top;\n",
       "    }\n",
       "\n",
       "    .dataframe thead th {\n",
       "        text-align: right;\n",
       "    }\n",
       "</style>\n",
       "<table border=\"1\" class=\"dataframe\">\n",
       "  <thead>\n",
       "    <tr style=\"text-align: right;\">\n",
       "      <th></th>\n",
       "      <th>SensorID</th>\n",
       "      <th>Location</th>\n",
       "      <th>Temperature</th>\n",
       "      <th>Humidity</th>\n",
       "      <th>Status</th>\n",
       "    </tr>\n",
       "  </thead>\n",
       "  <tbody>\n",
       "    <tr>\n",
       "      <th>0</th>\n",
       "      <td>1012</td>\n",
       "      <td>Central Hub</td>\n",
       "      <td>NaN</td>\n",
       "      <td>54.6</td>\n",
       "      <td>NaN</td>\n",
       "    </tr>\n",
       "    <tr>\n",
       "      <th>1</th>\n",
       "      <td>1013</td>\n",
       "      <td>West Wing</td>\n",
       "      <td>NaN</td>\n",
       "      <td>53.8</td>\n",
       "      <td>Critical</td>\n",
       "    </tr>\n",
       "    <tr>\n",
       "      <th>2</th>\n",
       "      <td>1018</td>\n",
       "      <td>Central Hub</td>\n",
       "      <td>24.0</td>\n",
       "      <td>59.9</td>\n",
       "      <td>NaN</td>\n",
       "    </tr>\n",
       "    <tr>\n",
       "      <th>3</th>\n",
       "      <td>1019</td>\n",
       "      <td>West Wing</td>\n",
       "      <td>20.9</td>\n",
       "      <td>57.2</td>\n",
       "      <td>Warning</td>\n",
       "    </tr>\n",
       "    <tr>\n",
       "      <th>4</th>\n",
       "      <td>1021</td>\n",
       "      <td>East Wing</td>\n",
       "      <td>29.7</td>\n",
       "      <td>53.6</td>\n",
       "      <td>NaN</td>\n",
       "    </tr>\n",
       "    <tr>\n",
       "      <th>5</th>\n",
       "      <td>1027</td>\n",
       "      <td>South Wing</td>\n",
       "      <td>NaN</td>\n",
       "      <td>58.9</td>\n",
       "      <td>NaN</td>\n",
       "    </tr>\n",
       "    <tr>\n",
       "      <th>6</th>\n",
       "      <td>1028</td>\n",
       "      <td>North Wing</td>\n",
       "      <td>NaN</td>\n",
       "      <td>55.3</td>\n",
       "      <td>NaN</td>\n",
       "    </tr>\n",
       "    <tr>\n",
       "      <th>7</th>\n",
       "      <td>1035</td>\n",
       "      <td>Central Hub</td>\n",
       "      <td>NaN</td>\n",
       "      <td>51.5</td>\n",
       "      <td>NaN</td>\n",
       "    </tr>\n",
       "    <tr>\n",
       "      <th>8</th>\n",
       "      <td>1038</td>\n",
       "      <td>North Wing</td>\n",
       "      <td>NaN</td>\n",
       "      <td>56.0</td>\n",
       "      <td>Warning</td>\n",
       "    </tr>\n",
       "    <tr>\n",
       "      <th>9</th>\n",
       "      <td>1041</td>\n",
       "      <td>North Wing</td>\n",
       "      <td>NaN</td>\n",
       "      <td>56.7</td>\n",
       "      <td>Warning</td>\n",
       "    </tr>\n",
       "  </tbody>\n",
       "</table>\n",
       "</div>"
      ]
     },
     "execution_count": 1619,
     "metadata": {},
     "output_type": "execute_result"
    }
   ],
   "execution_count": 1619
  },
  {
   "metadata": {},
   "cell_type": "markdown",
   "source": "5. **Find the count of missing `Status` entries** across chunks.",
   "id": "786bdc5382fc572e"
  },
  {
   "metadata": {
    "ExecuteTime": {
     "end_time": "2025-05-09T22:25:21.007367Z",
     "start_time": "2025-05-09T22:25:21.004682Z"
    }
   },
   "cell_type": "code",
   "source": "chunks = pd.read_csv('sensor_data_pipe.txt', sep='|', chunksize=10)",
   "id": "649806fb61037a9c",
   "outputs": [],
   "execution_count": 1620
  },
  {
   "metadata": {
    "ExecuteTime": {
     "end_time": "2025-05-09T22:25:21.182795Z",
     "start_time": "2025-05-09T22:25:21.180081Z"
    }
   },
   "cell_type": "code",
   "source": "status_na_count = 0",
   "id": "626aeed7d3e82990",
   "outputs": [],
   "execution_count": 1621
  },
  {
   "metadata": {
    "ExecuteTime": {
     "end_time": "2025-05-09T22:25:21.264591Z",
     "start_time": "2025-05-09T22:25:21.259063Z"
    }
   },
   "cell_type": "code",
   "source": [
    "for chunk in chunks:\n",
    "    status_na_count += chunk.Status.isna().sum()"
   ],
   "id": "b69731a933ccad4d",
   "outputs": [],
   "execution_count": 1622
  },
  {
   "metadata": {
    "ExecuteTime": {
     "end_time": "2025-05-09T22:25:21.434541Z",
     "start_time": "2025-05-09T22:25:21.431049Z"
    }
   },
   "cell_type": "code",
   "source": "status_na_count",
   "id": "4646373f51f28412",
   "outputs": [
    {
     "data": {
      "text/plain": [
       "np.int64(19)"
      ]
     },
     "execution_count": 1623,
     "metadata": {},
     "output_type": "execute_result"
    }
   ],
   "execution_count": 1623
  },
  {
   "metadata": {
    "ExecuteTime": {
     "end_time": "2025-05-09T22:25:21.511580Z",
     "start_time": "2025-05-09T22:25:21.508443Z"
    }
   },
   "cell_type": "code",
   "source": [
    "# alternative solution\n",
    "chunks = pd.read_csv('sensor_data_pipe.txt', sep='|', chunksize=10)"
   ],
   "id": "4796af7f0e126aca",
   "outputs": [],
   "execution_count": 1624
  },
  {
   "metadata": {
    "ExecuteTime": {
     "end_time": "2025-05-09T22:25:21.634483Z",
     "start_time": "2025-05-09T22:25:21.631506Z"
    }
   },
   "cell_type": "code",
   "source": "status_na = []",
   "id": "703fd086c35ef475",
   "outputs": [],
   "execution_count": 1625
  },
  {
   "metadata": {
    "ExecuteTime": {
     "end_time": "2025-05-09T22:25:21.716511Z",
     "start_time": "2025-05-09T22:25:21.710159Z"
    }
   },
   "cell_type": "code",
   "source": [
    "for chunk in chunks:\n",
    "    filtered = chunk[chunk.Status.isna()]\n",
    "    status_na.append(filtered)"
   ],
   "id": "da65f073650181ba",
   "outputs": [],
   "execution_count": 1626
  },
  {
   "metadata": {
    "ExecuteTime": {
     "end_time": "2025-05-09T22:25:21.821205Z",
     "start_time": "2025-05-09T22:25:21.817789Z"
    }
   },
   "cell_type": "code",
   "source": "df = pd.concat(status_na, ignore_index=True)",
   "id": "bcf85cfc2469c534",
   "outputs": [],
   "execution_count": 1627
  },
  {
   "metadata": {
    "ExecuteTime": {
     "end_time": "2025-05-09T22:25:21.889669Z",
     "start_time": "2025-05-09T22:25:21.880668Z"
    }
   },
   "cell_type": "code",
   "source": "df",
   "id": "2893ad0b5b370e17",
   "outputs": [
    {
     "data": {
      "text/plain": [
       "    SensorID     Location  Temperature  Humidity Status\n",
       "0       1003   South Wing         25.1       NaN    NaN\n",
       "1       1008  Central Hub          NaN       NaN    NaN\n",
       "2       1012  Central Hub          NaN      54.6    NaN\n",
       "3       1017   South Wing          NaN       NaN    NaN\n",
       "4       1018  Central Hub         24.0      59.9    NaN\n",
       "5       1020    West Wing          NaN       NaN    NaN\n",
       "6       1021    East Wing         29.7      53.6    NaN\n",
       "7       1023    West Wing          NaN       NaN    NaN\n",
       "8       1024   South Wing         25.1       NaN    NaN\n",
       "9       1025  Central Hub          NaN       NaN    NaN\n",
       "10      1027   South Wing          NaN      58.9    NaN\n",
       "11      1028   North Wing          NaN      55.3    NaN\n",
       "12      1030  Central Hub          NaN       NaN    NaN\n",
       "13      1035  Central Hub          NaN      51.5    NaN\n",
       "14      1036    West Wing         21.9       NaN    NaN\n",
       "15      1044    West Wing          NaN       NaN    NaN\n",
       "16      1045   South Wing         21.9       NaN    NaN\n",
       "17      1046   North Wing         27.5       NaN    NaN\n",
       "18      1049  Central Hub          NaN       NaN    NaN"
      ],
      "text/html": [
       "<div>\n",
       "<style scoped>\n",
       "    .dataframe tbody tr th:only-of-type {\n",
       "        vertical-align: middle;\n",
       "    }\n",
       "\n",
       "    .dataframe tbody tr th {\n",
       "        vertical-align: top;\n",
       "    }\n",
       "\n",
       "    .dataframe thead th {\n",
       "        text-align: right;\n",
       "    }\n",
       "</style>\n",
       "<table border=\"1\" class=\"dataframe\">\n",
       "  <thead>\n",
       "    <tr style=\"text-align: right;\">\n",
       "      <th></th>\n",
       "      <th>SensorID</th>\n",
       "      <th>Location</th>\n",
       "      <th>Temperature</th>\n",
       "      <th>Humidity</th>\n",
       "      <th>Status</th>\n",
       "    </tr>\n",
       "  </thead>\n",
       "  <tbody>\n",
       "    <tr>\n",
       "      <th>0</th>\n",
       "      <td>1003</td>\n",
       "      <td>South Wing</td>\n",
       "      <td>25.1</td>\n",
       "      <td>NaN</td>\n",
       "      <td>NaN</td>\n",
       "    </tr>\n",
       "    <tr>\n",
       "      <th>1</th>\n",
       "      <td>1008</td>\n",
       "      <td>Central Hub</td>\n",
       "      <td>NaN</td>\n",
       "      <td>NaN</td>\n",
       "      <td>NaN</td>\n",
       "    </tr>\n",
       "    <tr>\n",
       "      <th>2</th>\n",
       "      <td>1012</td>\n",
       "      <td>Central Hub</td>\n",
       "      <td>NaN</td>\n",
       "      <td>54.6</td>\n",
       "      <td>NaN</td>\n",
       "    </tr>\n",
       "    <tr>\n",
       "      <th>3</th>\n",
       "      <td>1017</td>\n",
       "      <td>South Wing</td>\n",
       "      <td>NaN</td>\n",
       "      <td>NaN</td>\n",
       "      <td>NaN</td>\n",
       "    </tr>\n",
       "    <tr>\n",
       "      <th>4</th>\n",
       "      <td>1018</td>\n",
       "      <td>Central Hub</td>\n",
       "      <td>24.0</td>\n",
       "      <td>59.9</td>\n",
       "      <td>NaN</td>\n",
       "    </tr>\n",
       "    <tr>\n",
       "      <th>5</th>\n",
       "      <td>1020</td>\n",
       "      <td>West Wing</td>\n",
       "      <td>NaN</td>\n",
       "      <td>NaN</td>\n",
       "      <td>NaN</td>\n",
       "    </tr>\n",
       "    <tr>\n",
       "      <th>6</th>\n",
       "      <td>1021</td>\n",
       "      <td>East Wing</td>\n",
       "      <td>29.7</td>\n",
       "      <td>53.6</td>\n",
       "      <td>NaN</td>\n",
       "    </tr>\n",
       "    <tr>\n",
       "      <th>7</th>\n",
       "      <td>1023</td>\n",
       "      <td>West Wing</td>\n",
       "      <td>NaN</td>\n",
       "      <td>NaN</td>\n",
       "      <td>NaN</td>\n",
       "    </tr>\n",
       "    <tr>\n",
       "      <th>8</th>\n",
       "      <td>1024</td>\n",
       "      <td>South Wing</td>\n",
       "      <td>25.1</td>\n",
       "      <td>NaN</td>\n",
       "      <td>NaN</td>\n",
       "    </tr>\n",
       "    <tr>\n",
       "      <th>9</th>\n",
       "      <td>1025</td>\n",
       "      <td>Central Hub</td>\n",
       "      <td>NaN</td>\n",
       "      <td>NaN</td>\n",
       "      <td>NaN</td>\n",
       "    </tr>\n",
       "    <tr>\n",
       "      <th>10</th>\n",
       "      <td>1027</td>\n",
       "      <td>South Wing</td>\n",
       "      <td>NaN</td>\n",
       "      <td>58.9</td>\n",
       "      <td>NaN</td>\n",
       "    </tr>\n",
       "    <tr>\n",
       "      <th>11</th>\n",
       "      <td>1028</td>\n",
       "      <td>North Wing</td>\n",
       "      <td>NaN</td>\n",
       "      <td>55.3</td>\n",
       "      <td>NaN</td>\n",
       "    </tr>\n",
       "    <tr>\n",
       "      <th>12</th>\n",
       "      <td>1030</td>\n",
       "      <td>Central Hub</td>\n",
       "      <td>NaN</td>\n",
       "      <td>NaN</td>\n",
       "      <td>NaN</td>\n",
       "    </tr>\n",
       "    <tr>\n",
       "      <th>13</th>\n",
       "      <td>1035</td>\n",
       "      <td>Central Hub</td>\n",
       "      <td>NaN</td>\n",
       "      <td>51.5</td>\n",
       "      <td>NaN</td>\n",
       "    </tr>\n",
       "    <tr>\n",
       "      <th>14</th>\n",
       "      <td>1036</td>\n",
       "      <td>West Wing</td>\n",
       "      <td>21.9</td>\n",
       "      <td>NaN</td>\n",
       "      <td>NaN</td>\n",
       "    </tr>\n",
       "    <tr>\n",
       "      <th>15</th>\n",
       "      <td>1044</td>\n",
       "      <td>West Wing</td>\n",
       "      <td>NaN</td>\n",
       "      <td>NaN</td>\n",
       "      <td>NaN</td>\n",
       "    </tr>\n",
       "    <tr>\n",
       "      <th>16</th>\n",
       "      <td>1045</td>\n",
       "      <td>South Wing</td>\n",
       "      <td>21.9</td>\n",
       "      <td>NaN</td>\n",
       "      <td>NaN</td>\n",
       "    </tr>\n",
       "    <tr>\n",
       "      <th>17</th>\n",
       "      <td>1046</td>\n",
       "      <td>North Wing</td>\n",
       "      <td>27.5</td>\n",
       "      <td>NaN</td>\n",
       "      <td>NaN</td>\n",
       "    </tr>\n",
       "    <tr>\n",
       "      <th>18</th>\n",
       "      <td>1049</td>\n",
       "      <td>Central Hub</td>\n",
       "      <td>NaN</td>\n",
       "      <td>NaN</td>\n",
       "      <td>NaN</td>\n",
       "    </tr>\n",
       "  </tbody>\n",
       "</table>\n",
       "</div>"
      ]
     },
     "execution_count": 1628,
     "metadata": {},
     "output_type": "execute_result"
    }
   ],
   "execution_count": 1628
  },
  {
   "metadata": {
    "ExecuteTime": {
     "end_time": "2025-05-09T22:25:21.992715Z",
     "start_time": "2025-05-09T22:25:21.989286Z"
    }
   },
   "cell_type": "code",
   "source": "df.shape",
   "id": "815ac0d4fbe973be",
   "outputs": [
    {
     "data": {
      "text/plain": [
       "(19, 5)"
      ]
     },
     "execution_count": 1629,
     "metadata": {},
     "output_type": "execute_result"
    }
   ],
   "execution_count": 1629
  },
  {
   "metadata": {},
   "cell_type": "markdown",
   "source": "6. **Read only specific columns** (`SensorID`, `Temperature`, `Status`) using chunking.",
   "id": "4ad1cc0867dc717d"
  },
  {
   "metadata": {
    "ExecuteTime": {
     "end_time": "2025-05-09T22:25:22.102178Z",
     "start_time": "2025-05-09T22:25:22.099053Z"
    }
   },
   "cell_type": "code",
   "source": "chunks = pd.read_csv('sensor_data_pipe.txt', sep='|', usecols=['SensorID', 'Temperature', 'Status'], chunksize=10)",
   "id": "8501426babed8dfc",
   "outputs": [],
   "execution_count": 1630
  },
  {
   "metadata": {
    "ExecuteTime": {
     "end_time": "2025-05-09T22:25:22.251393Z",
     "start_time": "2025-05-09T22:25:22.241240Z"
    }
   },
   "cell_type": "code",
   "source": [
    "for chunk in chunks:\n",
    "    print(chunk)"
   ],
   "id": "d65d0ec2c632c65",
   "outputs": [
    {
     "name": "stdout",
     "output_type": "stream",
     "text": [
      "   SensorID  Temperature    Status\n",
      "0      1001          NaN        OK\n",
      "1      1002          NaN   Warning\n",
      "2      1003         25.1       NaN\n",
      "3      1004          NaN   Warning\n",
      "4      1005         23.4        OK\n",
      "5      1006          NaN  Critical\n",
      "6      1007          NaN        OK\n",
      "7      1008          NaN       NaN\n",
      "8      1009         27.0        OK\n",
      "9      1010          NaN  Critical\n",
      "    SensorID  Temperature    Status\n",
      "10      1011         23.7        OK\n",
      "11      1012          NaN       NaN\n",
      "12      1013          NaN  Critical\n",
      "13      1014         22.3  Critical\n",
      "14      1015          NaN   Warning\n",
      "15      1016          NaN   Warning\n",
      "16      1017          NaN       NaN\n",
      "17      1018         24.0       NaN\n",
      "18      1019         20.9   Warning\n",
      "19      1020          NaN       NaN\n",
      "    SensorID  Temperature    Status\n",
      "20      1021         29.7       NaN\n",
      "21      1022          NaN   Warning\n",
      "22      1023          NaN       NaN\n",
      "23      1024         25.1       NaN\n",
      "24      1025          NaN       NaN\n",
      "25      1026          NaN  Critical\n",
      "26      1027          NaN       NaN\n",
      "27      1028          NaN       NaN\n",
      "28      1029          NaN   Warning\n",
      "29      1030          NaN       NaN\n",
      "    SensorID  Temperature    Status\n",
      "30      1031          NaN   Warning\n",
      "31      1032          NaN   Warning\n",
      "32      1033          NaN        OK\n",
      "33      1034         20.7   Warning\n",
      "34      1035          NaN       NaN\n",
      "35      1036         21.9       NaN\n",
      "36      1037          NaN        OK\n",
      "37      1038          NaN   Warning\n",
      "38      1039          NaN  Critical\n",
      "39      1040         22.5        OK\n",
      "    SensorID  Temperature    Status\n",
      "40      1041          NaN   Warning\n",
      "41      1042          NaN        OK\n",
      "42      1043          NaN  Critical\n",
      "43      1044          NaN       NaN\n",
      "44      1045         21.9       NaN\n",
      "45      1046         27.5       NaN\n",
      "46      1047          NaN        OK\n",
      "47      1048         20.7   Warning\n",
      "48      1049          NaN       NaN\n",
      "49      1050          NaN  Critical\n"
     ]
    }
   ],
   "execution_count": 1631
  },
  {
   "metadata": {},
   "cell_type": "markdown",
   "source": [
    "#### **Part B: Writing Data to Text Format**\n",
    "\n",
    "7. **Write the entire dataset into a CSV file using comma delimiter**, replacing NaNs with `'MISSING'`."
   ],
   "id": "89a64c80d7f2e0d0"
  },
  {
   "metadata": {
    "ExecuteTime": {
     "end_time": "2025-05-09T22:25:22.352365Z",
     "start_time": "2025-05-09T22:25:22.350085Z"
    }
   },
   "cell_type": "code",
   "source": "import sys",
   "id": "c1387b1a8072788d",
   "outputs": [],
   "execution_count": 1632
  },
  {
   "metadata": {
    "ExecuteTime": {
     "end_time": "2025-05-09T22:25:22.513334Z",
     "start_time": "2025-05-09T22:25:22.509629Z"
    }
   },
   "cell_type": "code",
   "source": "data = pd.read_csv('sensor_data_pipe.txt', sep='|')",
   "id": "ddd79d4789f009fc",
   "outputs": [],
   "execution_count": 1633
  },
  {
   "metadata": {
    "ExecuteTime": {
     "end_time": "2025-05-09T22:25:22.590390Z",
     "start_time": "2025-05-09T22:25:22.586975Z"
    }
   },
   "cell_type": "code",
   "source": "data.to_csv(sys.stdout, sep=',', na_rep='MISSING')",
   "id": "f1e7ee8e370403cf",
   "outputs": [
    {
     "name": "stdout",
     "output_type": "stream",
     "text": [
      ",SensorID,Location,Temperature,Humidity,Status\r\n",
      "0,1001,North Wing,MISSING,44.9,OK\r\n",
      "1,1002,Central Hub,MISSING,40.6,Warning\r\n",
      "2,1003,South Wing,25.1,MISSING,MISSING\r\n",
      "3,1004,West Wing,MISSING,45.6,Warning\r\n",
      "4,1005,West Wing,23.4,MISSING,OK\r\n",
      "5,1006,North Wing,MISSING,MISSING,Critical\r\n",
      "6,1007,North Wing,MISSING,MISSING,OK\r\n",
      "7,1008,Central Hub,MISSING,MISSING,MISSING\r\n",
      "8,1009,South Wing,27.0,MISSING,OK\r\n",
      "9,1010,South Wing,MISSING,MISSING,Critical\r\n",
      "10,1011,South Wing,23.7,MISSING,OK\r\n",
      "11,1012,Central Hub,MISSING,54.6,MISSING\r\n",
      "12,1013,West Wing,MISSING,53.8,Critical\r\n",
      "13,1014,North Wing,22.3,MISSING,Critical\r\n",
      "14,1015,North Wing,MISSING,MISSING,Warning\r\n",
      "15,1016,West Wing,MISSING,MISSING,Warning\r\n",
      "16,1017,South Wing,MISSING,MISSING,MISSING\r\n",
      "17,1018,Central Hub,24.0,59.9,MISSING\r\n",
      "18,1019,West Wing,20.9,57.2,Warning\r\n",
      "19,1020,West Wing,MISSING,MISSING,MISSING\r\n",
      "20,1021,East Wing,29.7,53.6,MISSING\r\n",
      "21,1022,East Wing,MISSING,MISSING,Warning\r\n",
      "22,1023,West Wing,MISSING,MISSING,MISSING\r\n",
      "23,1024,South Wing,25.1,MISSING,MISSING\r\n",
      "24,1025,Central Hub,MISSING,MISSING,MISSING\r\n",
      "25,1026,North Wing,MISSING,MISSING,Critical\r\n",
      "26,1027,South Wing,MISSING,58.9,MISSING\r\n",
      "27,1028,North Wing,MISSING,55.3,MISSING\r\n",
      "28,1029,Central Hub,MISSING,MISSING,Warning\r\n",
      "29,1030,Central Hub,MISSING,MISSING,MISSING\r\n",
      "30,1031,East Wing,MISSING,49.0,Warning\r\n",
      "31,1032,North Wing,MISSING,MISSING,Warning\r\n",
      "32,1033,North Wing,MISSING,41.2,OK\r\n",
      "33,1034,East Wing,20.7,MISSING,Warning\r\n",
      "34,1035,Central Hub,MISSING,51.5,MISSING\r\n",
      "35,1036,West Wing,21.9,MISSING,MISSING\r\n",
      "36,1037,West Wing,MISSING,MISSING,OK\r\n",
      "37,1038,North Wing,MISSING,56.0,Warning\r\n",
      "38,1039,South Wing,MISSING,42.8,Critical\r\n",
      "39,1040,West Wing,22.5,MISSING,OK\r\n",
      "40,1041,North Wing,MISSING,56.7,Warning\r\n",
      "41,1042,South Wing,MISSING,MISSING,OK\r\n",
      "42,1043,South Wing,MISSING,MISSING,Critical\r\n",
      "43,1044,West Wing,MISSING,MISSING,MISSING\r\n",
      "44,1045,South Wing,21.9,MISSING,MISSING\r\n",
      "45,1046,North Wing,27.5,MISSING,MISSING\r\n",
      "46,1047,Central Hub,MISSING,41.6,OK\r\n",
      "47,1048,Central Hub,20.7,MISSING,Warning\r\n",
      "48,1049,Central Hub,MISSING,MISSING,MISSING\r\n",
      "49,1050,Central Hub,MISSING,MISSING,Critical\r\n"
     ]
    }
   ],
   "execution_count": 1634
  },
  {
   "metadata": {
    "ExecuteTime": {
     "end_time": "2025-05-09T22:25:22.701266Z",
     "start_time": "2025-05-09T22:25:22.696560Z"
    }
   },
   "cell_type": "code",
   "source": "data.to_csv('cleaned_sensor_data.csv', sep=',', na_rep='MISSING', index=False)",
   "id": "dd7175e654e7716b",
   "outputs": [],
   "execution_count": 1635
  },
  {
   "metadata": {},
   "cell_type": "markdown",
   "source": "8. **Write only sensors from \"Central Hub\" into a new text file** with `tab` as delimiter.",
   "id": "8f7c8b09a6eba5db"
  },
  {
   "metadata": {
    "ExecuteTime": {
     "end_time": "2025-05-09T22:25:22.780598Z",
     "start_time": "2025-05-09T22:25:22.775741Z"
    }
   },
   "cell_type": "code",
   "source": "mask = data['Location'] == 'Central Hub'",
   "id": "dfc4b9edce790c67",
   "outputs": [],
   "execution_count": 1636
  },
  {
   "metadata": {
    "ExecuteTime": {
     "end_time": "2025-05-09T22:25:22.931445Z",
     "start_time": "2025-05-09T22:25:22.928660Z"
    }
   },
   "cell_type": "code",
   "source": "central_hub_data = data.loc[mask]",
   "id": "ba1badee21fdb920",
   "outputs": [],
   "execution_count": 1637
  },
  {
   "metadata": {
    "ExecuteTime": {
     "end_time": "2025-05-09T22:25:22.997841Z",
     "start_time": "2025-05-09T22:25:22.989617Z"
    }
   },
   "cell_type": "code",
   "source": "central_hub_data.to_csv('central_hub_filtered.txt', sep='\\t', index=False, na_rep='MISSING')",
   "id": "7df4a7dea7fe8dd6",
   "outputs": [],
   "execution_count": 1638
  },
  {
   "metadata": {},
   "cell_type": "markdown",
   "source": "9. **Save only rows with `Status == \"Critical\"`** into a file with semicolon (`;`) delimiter.",
   "id": "ed4fc2c047699ff8"
  },
  {
   "metadata": {
    "ExecuteTime": {
     "end_time": "2025-05-09T22:25:23.101689Z",
     "start_time": "2025-05-09T22:25:23.099094Z"
    }
   },
   "cell_type": "code",
   "source": "mask = data['Status'] == 'Critical'",
   "id": "3e00f06516a7694b",
   "outputs": [],
   "execution_count": 1639
  },
  {
   "metadata": {
    "ExecuteTime": {
     "end_time": "2025-05-09T22:25:23.149029Z",
     "start_time": "2025-05-09T22:25:23.145708Z"
    }
   },
   "cell_type": "code",
   "source": "critical_status = data.loc[mask]",
   "id": "b3a4bc24f1651a39",
   "outputs": [],
   "execution_count": 1640
  },
  {
   "metadata": {
    "ExecuteTime": {
     "end_time": "2025-05-09T22:25:23.278720Z",
     "start_time": "2025-05-09T22:25:23.269932Z"
    }
   },
   "cell_type": "code",
   "source": "critical_status.to_csv('critical_status.txt', sep=';', index=False, na_rep='MISSING')",
   "id": "5a6e82cadf079b92",
   "outputs": [],
   "execution_count": 1641
  },
  {
   "metadata": {},
   "cell_type": "markdown",
   "source": "10. **Export the dataset with custom formatting**, setting float precision to 1 decimal place and excluding the index.",
   "id": "fae7f9b4aa178ead"
  },
  {
   "metadata": {
    "ExecuteTime": {
     "end_time": "2025-05-09T22:25:23.351542Z",
     "start_time": "2025-05-09T22:25:23.347767Z"
    }
   },
   "cell_type": "code",
   "source": "data = pd.read_csv('sensor_data_pipe.txt', sep='|')",
   "id": "5ff33d7ab1595b90",
   "outputs": [],
   "execution_count": 1642
  },
  {
   "metadata": {
    "ExecuteTime": {
     "end_time": "2025-05-09T22:25:23.480537Z",
     "start_time": "2025-05-09T22:25:23.475418Z"
    }
   },
   "cell_type": "code",
   "source": "data.to_csv('sensor_data_formated.csv', sep=',', index=False, na_rep='MISSING', float_format='%.1f')",
   "id": "f3ff92c25a358027",
   "outputs": [],
   "execution_count": 1643
  },
  {
   "metadata": {},
   "cell_type": "markdown",
   "source": "11. **Convert the dataset to a string buffer using `to_string()`**, then write it to a `.txt` file.",
   "id": "f48276af8b7cbd48"
  },
  {
   "metadata": {
    "ExecuteTime": {
     "end_time": "2025-05-09T22:25:23.543152Z",
     "start_time": "2025-05-09T22:25:23.539121Z"
    }
   },
   "cell_type": "code",
   "source": "text_output = data.to_string(na_rep='MISSING', float_format='%.1f')",
   "id": "934f2adafb8d8e09",
   "outputs": [],
   "execution_count": 1644
  },
  {
   "metadata": {
    "ExecuteTime": {
     "end_time": "2025-05-09T22:25:23.699496Z",
     "start_time": "2025-05-09T22:25:23.695295Z"
    }
   },
   "cell_type": "code",
   "source": [
    "with open('sensor_data_string_output.txt', 'w') as text_file:\n",
    "    text_file.write(text_output)"
   ],
   "id": "2a8a273f3f461859",
   "outputs": [],
   "execution_count": 1645
  },
  {
   "metadata": {},
   "cell_type": "markdown",
   "source": "12. **Write only non-missing values to a new file**, dropping all rows with any NaN or empty value.",
   "id": "2c8f0546bf68e07a"
  },
  {
   "metadata": {
    "ExecuteTime": {
     "end_time": "2025-05-09T22:25:23.791563Z",
     "start_time": "2025-05-09T22:25:23.789208Z"
    }
   },
   "cell_type": "code",
   "source": "clean_data = data.replace('', pd.NA)",
   "id": "9dd05370adf790d0",
   "outputs": [],
   "execution_count": 1646
  },
  {
   "metadata": {
    "ExecuteTime": {
     "end_time": "2025-05-09T22:25:23.901033Z",
     "start_time": "2025-05-09T22:25:23.898053Z"
    }
   },
   "cell_type": "code",
   "source": "na_dropped = clean_data.dropna()",
   "id": "25219d0098970801",
   "outputs": [],
   "execution_count": 1647
  },
  {
   "metadata": {
    "ExecuteTime": {
     "end_time": "2025-05-09T22:25:23.999404Z",
     "start_time": "2025-05-09T22:25:23.991181Z"
    }
   },
   "cell_type": "code",
   "source": "na_dropped.to_csv('na_dropped.txt', sep=',', index=False)",
   "id": "911a1193bec4e0a",
   "outputs": [],
   "execution_count": 1648
  },
  {
   "metadata": {},
   "cell_type": "markdown",
   "source": [
    "#### **Part C: Working with Other Delimited Formats**\n",
    "\n",
    "13. **Read the original pipe-delimited file using Python’s `csv.reader()`** and print the rows."
   ],
   "id": "c3cebae68da178c"
  },
  {
   "metadata": {
    "ExecuteTime": {
     "end_time": "2025-05-09T22:25:24.089271Z",
     "start_time": "2025-05-09T22:25:24.085733Z"
    }
   },
   "cell_type": "code",
   "source": [
    "with open('sensor_data_pipe.txt', newline='') as f:\n",
    "    reader = csv.reader(f, delimiter='|')\n",
    "    for row in reader:\n",
    "        print(row)"
   ],
   "id": "e71fd607d17f5d81",
   "outputs": [
    {
     "name": "stdout",
     "output_type": "stream",
     "text": [
      "['SensorID', 'Location', 'Temperature', 'Humidity', 'Status']\n",
      "['1001', 'North Wing', '', '44.9', 'OK']\n",
      "['1002', 'Central Hub', '', '40.6', 'Warning']\n",
      "['1003', 'South Wing', '25.1', 'nan', '']\n",
      "['1004', 'West Wing', 'nan', '45.6', 'Warning']\n",
      "['1005', 'West Wing', '23.4', '', 'OK']\n",
      "['1006', 'North Wing', '', 'nan', 'Critical']\n",
      "['1007', 'North Wing', 'nan', '', 'OK']\n",
      "['1008', 'Central Hub', 'nan', '', '']\n",
      "['1009', 'South Wing', '27.0', '', 'OK']\n",
      "['1010', 'South Wing', '', 'nan', 'Critical']\n",
      "['1011', 'South Wing', '23.7', 'nan', 'OK']\n",
      "['1012', 'Central Hub', 'nan', '54.6', '']\n",
      "['1013', 'West Wing', 'nan', '53.8', 'Critical']\n",
      "['1014', 'North Wing', '22.3', '', 'Critical']\n",
      "['1015', 'North Wing', 'nan', '', 'Warning']\n",
      "['1016', 'West Wing', 'nan', '', 'Warning']\n",
      "['1017', 'South Wing', 'nan', 'nan', '']\n",
      "['1018', 'Central Hub', '24.0', '59.9', '']\n",
      "['1019', 'West Wing', '20.9', '57.2', 'Warning']\n",
      "['1020', 'West Wing', '', '', '']\n",
      "['1021', 'East Wing', '29.7', '53.6', '']\n",
      "['1022', 'East Wing', '', '', 'Warning']\n",
      "['1023', 'West Wing', 'nan', '', '']\n",
      "['1024', 'South Wing', '25.1', '', '']\n",
      "['1025', 'Central Hub', '', 'nan', '']\n",
      "['1026', 'North Wing', '', '', 'Critical']\n",
      "['1027', 'South Wing', 'nan', '58.9', '']\n",
      "['1028', 'North Wing', 'nan', '55.3', '']\n",
      "['1029', 'Central Hub', 'nan', '', 'Warning']\n",
      "['1030', 'Central Hub', 'nan', '', '']\n",
      "['1031', 'East Wing', 'nan', '49.0', 'Warning']\n",
      "['1032', 'North Wing', 'nan', 'nan', 'Warning']\n",
      "['1033', 'North Wing', 'nan', '41.2', 'OK']\n",
      "['1034', 'East Wing', '20.7', '', 'Warning']\n",
      "['1035', 'Central Hub', 'nan', '51.5', '']\n",
      "['1036', 'West Wing', '21.9', '', '']\n",
      "['1037', 'West Wing', 'nan', 'nan', 'OK']\n",
      "['1038', 'North Wing', '', '56.0', 'Warning']\n",
      "['1039', 'South Wing', '', '42.8', 'Critical']\n",
      "['1040', 'West Wing', '22.5', 'nan', 'OK']\n",
      "['1041', 'North Wing', 'nan', '56.7', 'Warning']\n",
      "['1042', 'South Wing', '', '', 'OK']\n",
      "['1043', 'South Wing', '', '', 'Critical']\n",
      "['1044', 'West Wing', 'nan', 'nan', '']\n",
      "['1045', 'South Wing', '21.9', 'nan', '']\n",
      "['1046', 'North Wing', '27.5', '', '']\n",
      "['1047', 'Central Hub', 'nan', '41.6', 'OK']\n",
      "['1048', 'Central Hub', '20.7', 'nan', 'Warning']\n",
      "['1049', 'Central Hub', 'nan', 'nan', '']\n",
      "['1050', 'Central Hub', '', 'nan', 'Critical']\n"
     ]
    }
   ],
   "execution_count": 1649
  },
  {
   "metadata": {},
   "cell_type": "markdown",
   "source": "14. **Skip the header and manually convert the result into a pandas DataFrame**.",
   "id": "b33f792283bb711c"
  },
  {
   "metadata": {
    "ExecuteTime": {
     "end_time": "2025-05-09T22:25:24.152105Z",
     "start_time": "2025-05-09T22:25:24.148929Z"
    }
   },
   "cell_type": "code",
   "source": [
    "data = []\n",
    "with open('sensor_data_pipe.txt', newline='') as f:\n",
    "    reader = csv.reader(f, delimiter='|')\n",
    "    header = next(reader)\n",
    "    for row in reader:\n",
    "        data.append(row)"
   ],
   "id": "1c52474dd08e0230",
   "outputs": [],
   "execution_count": 1650
  },
  {
   "metadata": {
    "ExecuteTime": {
     "end_time": "2025-05-09T22:25:24.276061Z",
     "start_time": "2025-05-09T22:25:24.273290Z"
    }
   },
   "cell_type": "code",
   "source": "df = pd.DataFrame(data, columns=header)",
   "id": "92cc411755fc506f",
   "outputs": [],
   "execution_count": 1651
  },
  {
   "metadata": {
    "ExecuteTime": {
     "end_time": "2025-05-09T22:25:24.373745Z",
     "start_time": "2025-05-09T22:25:24.367128Z"
    }
   },
   "cell_type": "code",
   "source": "df",
   "id": "8877d923f1c7ac0d",
   "outputs": [
    {
     "data": {
      "text/plain": [
       "   SensorID     Location Temperature Humidity    Status\n",
       "0      1001   North Wing                 44.9        OK\n",
       "1      1002  Central Hub                 40.6   Warning\n",
       "2      1003   South Wing        25.1      nan          \n",
       "3      1004    West Wing         nan     45.6   Warning\n",
       "4      1005    West Wing        23.4                 OK\n",
       "5      1006   North Wing                  nan  Critical\n",
       "6      1007   North Wing         nan                 OK\n",
       "7      1008  Central Hub         nan                   \n",
       "8      1009   South Wing        27.0                 OK\n",
       "9      1010   South Wing                  nan  Critical\n",
       "10     1011   South Wing        23.7      nan        OK\n",
       "11     1012  Central Hub         nan     54.6          \n",
       "12     1013    West Wing         nan     53.8  Critical\n",
       "13     1014   North Wing        22.3           Critical\n",
       "14     1015   North Wing         nan            Warning\n",
       "15     1016    West Wing         nan            Warning\n",
       "16     1017   South Wing         nan      nan          \n",
       "17     1018  Central Hub        24.0     59.9          \n",
       "18     1019    West Wing        20.9     57.2   Warning\n",
       "19     1020    West Wing                               \n",
       "20     1021    East Wing        29.7     53.6          \n",
       "21     1022    East Wing                        Warning\n",
       "22     1023    West Wing         nan                   \n",
       "23     1024   South Wing        25.1                   \n",
       "24     1025  Central Hub                  nan          \n",
       "25     1026   North Wing                       Critical\n",
       "26     1027   South Wing         nan     58.9          \n",
       "27     1028   North Wing         nan     55.3          \n",
       "28     1029  Central Hub         nan            Warning\n",
       "29     1030  Central Hub         nan                   \n",
       "30     1031    East Wing         nan     49.0   Warning\n",
       "31     1032   North Wing         nan      nan   Warning\n",
       "32     1033   North Wing         nan     41.2        OK\n",
       "33     1034    East Wing        20.7            Warning\n",
       "34     1035  Central Hub         nan     51.5          \n",
       "35     1036    West Wing        21.9                   \n",
       "36     1037    West Wing         nan      nan        OK\n",
       "37     1038   North Wing                 56.0   Warning\n",
       "38     1039   South Wing                 42.8  Critical\n",
       "39     1040    West Wing        22.5      nan        OK\n",
       "40     1041   North Wing         nan     56.7   Warning\n",
       "41     1042   South Wing                             OK\n",
       "42     1043   South Wing                       Critical\n",
       "43     1044    West Wing         nan      nan          \n",
       "44     1045   South Wing        21.9      nan          \n",
       "45     1046   North Wing        27.5                   \n",
       "46     1047  Central Hub         nan     41.6        OK\n",
       "47     1048  Central Hub        20.7      nan   Warning\n",
       "48     1049  Central Hub         nan      nan          \n",
       "49     1050  Central Hub                  nan  Critical"
      ],
      "text/html": [
       "<div>\n",
       "<style scoped>\n",
       "    .dataframe tbody tr th:only-of-type {\n",
       "        vertical-align: middle;\n",
       "    }\n",
       "\n",
       "    .dataframe tbody tr th {\n",
       "        vertical-align: top;\n",
       "    }\n",
       "\n",
       "    .dataframe thead th {\n",
       "        text-align: right;\n",
       "    }\n",
       "</style>\n",
       "<table border=\"1\" class=\"dataframe\">\n",
       "  <thead>\n",
       "    <tr style=\"text-align: right;\">\n",
       "      <th></th>\n",
       "      <th>SensorID</th>\n",
       "      <th>Location</th>\n",
       "      <th>Temperature</th>\n",
       "      <th>Humidity</th>\n",
       "      <th>Status</th>\n",
       "    </tr>\n",
       "  </thead>\n",
       "  <tbody>\n",
       "    <tr>\n",
       "      <th>0</th>\n",
       "      <td>1001</td>\n",
       "      <td>North Wing</td>\n",
       "      <td></td>\n",
       "      <td>44.9</td>\n",
       "      <td>OK</td>\n",
       "    </tr>\n",
       "    <tr>\n",
       "      <th>1</th>\n",
       "      <td>1002</td>\n",
       "      <td>Central Hub</td>\n",
       "      <td></td>\n",
       "      <td>40.6</td>\n",
       "      <td>Warning</td>\n",
       "    </tr>\n",
       "    <tr>\n",
       "      <th>2</th>\n",
       "      <td>1003</td>\n",
       "      <td>South Wing</td>\n",
       "      <td>25.1</td>\n",
       "      <td>nan</td>\n",
       "      <td></td>\n",
       "    </tr>\n",
       "    <tr>\n",
       "      <th>3</th>\n",
       "      <td>1004</td>\n",
       "      <td>West Wing</td>\n",
       "      <td>nan</td>\n",
       "      <td>45.6</td>\n",
       "      <td>Warning</td>\n",
       "    </tr>\n",
       "    <tr>\n",
       "      <th>4</th>\n",
       "      <td>1005</td>\n",
       "      <td>West Wing</td>\n",
       "      <td>23.4</td>\n",
       "      <td></td>\n",
       "      <td>OK</td>\n",
       "    </tr>\n",
       "    <tr>\n",
       "      <th>5</th>\n",
       "      <td>1006</td>\n",
       "      <td>North Wing</td>\n",
       "      <td></td>\n",
       "      <td>nan</td>\n",
       "      <td>Critical</td>\n",
       "    </tr>\n",
       "    <tr>\n",
       "      <th>6</th>\n",
       "      <td>1007</td>\n",
       "      <td>North Wing</td>\n",
       "      <td>nan</td>\n",
       "      <td></td>\n",
       "      <td>OK</td>\n",
       "    </tr>\n",
       "    <tr>\n",
       "      <th>7</th>\n",
       "      <td>1008</td>\n",
       "      <td>Central Hub</td>\n",
       "      <td>nan</td>\n",
       "      <td></td>\n",
       "      <td></td>\n",
       "    </tr>\n",
       "    <tr>\n",
       "      <th>8</th>\n",
       "      <td>1009</td>\n",
       "      <td>South Wing</td>\n",
       "      <td>27.0</td>\n",
       "      <td></td>\n",
       "      <td>OK</td>\n",
       "    </tr>\n",
       "    <tr>\n",
       "      <th>9</th>\n",
       "      <td>1010</td>\n",
       "      <td>South Wing</td>\n",
       "      <td></td>\n",
       "      <td>nan</td>\n",
       "      <td>Critical</td>\n",
       "    </tr>\n",
       "    <tr>\n",
       "      <th>10</th>\n",
       "      <td>1011</td>\n",
       "      <td>South Wing</td>\n",
       "      <td>23.7</td>\n",
       "      <td>nan</td>\n",
       "      <td>OK</td>\n",
       "    </tr>\n",
       "    <tr>\n",
       "      <th>11</th>\n",
       "      <td>1012</td>\n",
       "      <td>Central Hub</td>\n",
       "      <td>nan</td>\n",
       "      <td>54.6</td>\n",
       "      <td></td>\n",
       "    </tr>\n",
       "    <tr>\n",
       "      <th>12</th>\n",
       "      <td>1013</td>\n",
       "      <td>West Wing</td>\n",
       "      <td>nan</td>\n",
       "      <td>53.8</td>\n",
       "      <td>Critical</td>\n",
       "    </tr>\n",
       "    <tr>\n",
       "      <th>13</th>\n",
       "      <td>1014</td>\n",
       "      <td>North Wing</td>\n",
       "      <td>22.3</td>\n",
       "      <td></td>\n",
       "      <td>Critical</td>\n",
       "    </tr>\n",
       "    <tr>\n",
       "      <th>14</th>\n",
       "      <td>1015</td>\n",
       "      <td>North Wing</td>\n",
       "      <td>nan</td>\n",
       "      <td></td>\n",
       "      <td>Warning</td>\n",
       "    </tr>\n",
       "    <tr>\n",
       "      <th>15</th>\n",
       "      <td>1016</td>\n",
       "      <td>West Wing</td>\n",
       "      <td>nan</td>\n",
       "      <td></td>\n",
       "      <td>Warning</td>\n",
       "    </tr>\n",
       "    <tr>\n",
       "      <th>16</th>\n",
       "      <td>1017</td>\n",
       "      <td>South Wing</td>\n",
       "      <td>nan</td>\n",
       "      <td>nan</td>\n",
       "      <td></td>\n",
       "    </tr>\n",
       "    <tr>\n",
       "      <th>17</th>\n",
       "      <td>1018</td>\n",
       "      <td>Central Hub</td>\n",
       "      <td>24.0</td>\n",
       "      <td>59.9</td>\n",
       "      <td></td>\n",
       "    </tr>\n",
       "    <tr>\n",
       "      <th>18</th>\n",
       "      <td>1019</td>\n",
       "      <td>West Wing</td>\n",
       "      <td>20.9</td>\n",
       "      <td>57.2</td>\n",
       "      <td>Warning</td>\n",
       "    </tr>\n",
       "    <tr>\n",
       "      <th>19</th>\n",
       "      <td>1020</td>\n",
       "      <td>West Wing</td>\n",
       "      <td></td>\n",
       "      <td></td>\n",
       "      <td></td>\n",
       "    </tr>\n",
       "    <tr>\n",
       "      <th>20</th>\n",
       "      <td>1021</td>\n",
       "      <td>East Wing</td>\n",
       "      <td>29.7</td>\n",
       "      <td>53.6</td>\n",
       "      <td></td>\n",
       "    </tr>\n",
       "    <tr>\n",
       "      <th>21</th>\n",
       "      <td>1022</td>\n",
       "      <td>East Wing</td>\n",
       "      <td></td>\n",
       "      <td></td>\n",
       "      <td>Warning</td>\n",
       "    </tr>\n",
       "    <tr>\n",
       "      <th>22</th>\n",
       "      <td>1023</td>\n",
       "      <td>West Wing</td>\n",
       "      <td>nan</td>\n",
       "      <td></td>\n",
       "      <td></td>\n",
       "    </tr>\n",
       "    <tr>\n",
       "      <th>23</th>\n",
       "      <td>1024</td>\n",
       "      <td>South Wing</td>\n",
       "      <td>25.1</td>\n",
       "      <td></td>\n",
       "      <td></td>\n",
       "    </tr>\n",
       "    <tr>\n",
       "      <th>24</th>\n",
       "      <td>1025</td>\n",
       "      <td>Central Hub</td>\n",
       "      <td></td>\n",
       "      <td>nan</td>\n",
       "      <td></td>\n",
       "    </tr>\n",
       "    <tr>\n",
       "      <th>25</th>\n",
       "      <td>1026</td>\n",
       "      <td>North Wing</td>\n",
       "      <td></td>\n",
       "      <td></td>\n",
       "      <td>Critical</td>\n",
       "    </tr>\n",
       "    <tr>\n",
       "      <th>26</th>\n",
       "      <td>1027</td>\n",
       "      <td>South Wing</td>\n",
       "      <td>nan</td>\n",
       "      <td>58.9</td>\n",
       "      <td></td>\n",
       "    </tr>\n",
       "    <tr>\n",
       "      <th>27</th>\n",
       "      <td>1028</td>\n",
       "      <td>North Wing</td>\n",
       "      <td>nan</td>\n",
       "      <td>55.3</td>\n",
       "      <td></td>\n",
       "    </tr>\n",
       "    <tr>\n",
       "      <th>28</th>\n",
       "      <td>1029</td>\n",
       "      <td>Central Hub</td>\n",
       "      <td>nan</td>\n",
       "      <td></td>\n",
       "      <td>Warning</td>\n",
       "    </tr>\n",
       "    <tr>\n",
       "      <th>29</th>\n",
       "      <td>1030</td>\n",
       "      <td>Central Hub</td>\n",
       "      <td>nan</td>\n",
       "      <td></td>\n",
       "      <td></td>\n",
       "    </tr>\n",
       "    <tr>\n",
       "      <th>30</th>\n",
       "      <td>1031</td>\n",
       "      <td>East Wing</td>\n",
       "      <td>nan</td>\n",
       "      <td>49.0</td>\n",
       "      <td>Warning</td>\n",
       "    </tr>\n",
       "    <tr>\n",
       "      <th>31</th>\n",
       "      <td>1032</td>\n",
       "      <td>North Wing</td>\n",
       "      <td>nan</td>\n",
       "      <td>nan</td>\n",
       "      <td>Warning</td>\n",
       "    </tr>\n",
       "    <tr>\n",
       "      <th>32</th>\n",
       "      <td>1033</td>\n",
       "      <td>North Wing</td>\n",
       "      <td>nan</td>\n",
       "      <td>41.2</td>\n",
       "      <td>OK</td>\n",
       "    </tr>\n",
       "    <tr>\n",
       "      <th>33</th>\n",
       "      <td>1034</td>\n",
       "      <td>East Wing</td>\n",
       "      <td>20.7</td>\n",
       "      <td></td>\n",
       "      <td>Warning</td>\n",
       "    </tr>\n",
       "    <tr>\n",
       "      <th>34</th>\n",
       "      <td>1035</td>\n",
       "      <td>Central Hub</td>\n",
       "      <td>nan</td>\n",
       "      <td>51.5</td>\n",
       "      <td></td>\n",
       "    </tr>\n",
       "    <tr>\n",
       "      <th>35</th>\n",
       "      <td>1036</td>\n",
       "      <td>West Wing</td>\n",
       "      <td>21.9</td>\n",
       "      <td></td>\n",
       "      <td></td>\n",
       "    </tr>\n",
       "    <tr>\n",
       "      <th>36</th>\n",
       "      <td>1037</td>\n",
       "      <td>West Wing</td>\n",
       "      <td>nan</td>\n",
       "      <td>nan</td>\n",
       "      <td>OK</td>\n",
       "    </tr>\n",
       "    <tr>\n",
       "      <th>37</th>\n",
       "      <td>1038</td>\n",
       "      <td>North Wing</td>\n",
       "      <td></td>\n",
       "      <td>56.0</td>\n",
       "      <td>Warning</td>\n",
       "    </tr>\n",
       "    <tr>\n",
       "      <th>38</th>\n",
       "      <td>1039</td>\n",
       "      <td>South Wing</td>\n",
       "      <td></td>\n",
       "      <td>42.8</td>\n",
       "      <td>Critical</td>\n",
       "    </tr>\n",
       "    <tr>\n",
       "      <th>39</th>\n",
       "      <td>1040</td>\n",
       "      <td>West Wing</td>\n",
       "      <td>22.5</td>\n",
       "      <td>nan</td>\n",
       "      <td>OK</td>\n",
       "    </tr>\n",
       "    <tr>\n",
       "      <th>40</th>\n",
       "      <td>1041</td>\n",
       "      <td>North Wing</td>\n",
       "      <td>nan</td>\n",
       "      <td>56.7</td>\n",
       "      <td>Warning</td>\n",
       "    </tr>\n",
       "    <tr>\n",
       "      <th>41</th>\n",
       "      <td>1042</td>\n",
       "      <td>South Wing</td>\n",
       "      <td></td>\n",
       "      <td></td>\n",
       "      <td>OK</td>\n",
       "    </tr>\n",
       "    <tr>\n",
       "      <th>42</th>\n",
       "      <td>1043</td>\n",
       "      <td>South Wing</td>\n",
       "      <td></td>\n",
       "      <td></td>\n",
       "      <td>Critical</td>\n",
       "    </tr>\n",
       "    <tr>\n",
       "      <th>43</th>\n",
       "      <td>1044</td>\n",
       "      <td>West Wing</td>\n",
       "      <td>nan</td>\n",
       "      <td>nan</td>\n",
       "      <td></td>\n",
       "    </tr>\n",
       "    <tr>\n",
       "      <th>44</th>\n",
       "      <td>1045</td>\n",
       "      <td>South Wing</td>\n",
       "      <td>21.9</td>\n",
       "      <td>nan</td>\n",
       "      <td></td>\n",
       "    </tr>\n",
       "    <tr>\n",
       "      <th>45</th>\n",
       "      <td>1046</td>\n",
       "      <td>North Wing</td>\n",
       "      <td>27.5</td>\n",
       "      <td></td>\n",
       "      <td></td>\n",
       "    </tr>\n",
       "    <tr>\n",
       "      <th>46</th>\n",
       "      <td>1047</td>\n",
       "      <td>Central Hub</td>\n",
       "      <td>nan</td>\n",
       "      <td>41.6</td>\n",
       "      <td>OK</td>\n",
       "    </tr>\n",
       "    <tr>\n",
       "      <th>47</th>\n",
       "      <td>1048</td>\n",
       "      <td>Central Hub</td>\n",
       "      <td>20.7</td>\n",
       "      <td>nan</td>\n",
       "      <td>Warning</td>\n",
       "    </tr>\n",
       "    <tr>\n",
       "      <th>48</th>\n",
       "      <td>1049</td>\n",
       "      <td>Central Hub</td>\n",
       "      <td>nan</td>\n",
       "      <td>nan</td>\n",
       "      <td></td>\n",
       "    </tr>\n",
       "    <tr>\n",
       "      <th>49</th>\n",
       "      <td>1050</td>\n",
       "      <td>Central Hub</td>\n",
       "      <td></td>\n",
       "      <td>nan</td>\n",
       "      <td>Critical</td>\n",
       "    </tr>\n",
       "  </tbody>\n",
       "</table>\n",
       "</div>"
      ]
     },
     "execution_count": 1652,
     "metadata": {},
     "output_type": "execute_result"
    }
   ],
   "execution_count": 1652
  },
  {
   "metadata": {},
   "cell_type": "markdown",
   "source": "15. **Create a dictionary using column names as keys and row values as lists**, then convert to DataFrame.",
   "id": "a4eac19f5a91f90e"
  },
  {
   "metadata": {
    "ExecuteTime": {
     "end_time": "2025-05-09T22:25:24.462527Z",
     "start_time": "2025-05-09T22:25:24.459893Z"
    }
   },
   "cell_type": "code",
   "source": [
    "with open('sensor_data_pipe.txt', newline='') as f:\n",
    "    lines = list(csv.reader(f, delimiter='|'))\n",
    "    headers = lines[0]\n",
    "    header, values = lines[0], lines[1:]\n"
   ],
   "id": "649cb1398896d7ef",
   "outputs": [],
   "execution_count": 1653
  },
  {
   "metadata": {
    "ExecuteTime": {
     "end_time": "2025-05-09T22:25:24.507703Z",
     "start_time": "2025-05-09T22:25:24.504861Z"
    }
   },
   "cell_type": "code",
   "source": "data = {h: v for h, v in zip(header, zip(*values))}",
   "id": "25896b7843f515c6",
   "outputs": [],
   "execution_count": 1654
  },
  {
   "metadata": {
    "ExecuteTime": {
     "end_time": "2025-05-09T22:25:24.648167Z",
     "start_time": "2025-05-09T22:25:24.644879Z"
    }
   },
   "cell_type": "code",
   "source": "df = pd.DataFrame(data, columns=headers)",
   "id": "2257208cdfde497b",
   "outputs": [],
   "execution_count": 1655
  },
  {
   "metadata": {
    "ExecuteTime": {
     "end_time": "2025-05-09T22:25:24.775500Z",
     "start_time": "2025-05-09T22:25:24.768762Z"
    }
   },
   "cell_type": "code",
   "source": "df",
   "id": "c54d1b71975b4c89",
   "outputs": [
    {
     "data": {
      "text/plain": [
       "   SensorID     Location Temperature Humidity    Status\n",
       "0      1001   North Wing                 44.9        OK\n",
       "1      1002  Central Hub                 40.6   Warning\n",
       "2      1003   South Wing        25.1      nan          \n",
       "3      1004    West Wing         nan     45.6   Warning\n",
       "4      1005    West Wing        23.4                 OK\n",
       "5      1006   North Wing                  nan  Critical\n",
       "6      1007   North Wing         nan                 OK\n",
       "7      1008  Central Hub         nan                   \n",
       "8      1009   South Wing        27.0                 OK\n",
       "9      1010   South Wing                  nan  Critical\n",
       "10     1011   South Wing        23.7      nan        OK\n",
       "11     1012  Central Hub         nan     54.6          \n",
       "12     1013    West Wing         nan     53.8  Critical\n",
       "13     1014   North Wing        22.3           Critical\n",
       "14     1015   North Wing         nan            Warning\n",
       "15     1016    West Wing         nan            Warning\n",
       "16     1017   South Wing         nan      nan          \n",
       "17     1018  Central Hub        24.0     59.9          \n",
       "18     1019    West Wing        20.9     57.2   Warning\n",
       "19     1020    West Wing                               \n",
       "20     1021    East Wing        29.7     53.6          \n",
       "21     1022    East Wing                        Warning\n",
       "22     1023    West Wing         nan                   \n",
       "23     1024   South Wing        25.1                   \n",
       "24     1025  Central Hub                  nan          \n",
       "25     1026   North Wing                       Critical\n",
       "26     1027   South Wing         nan     58.9          \n",
       "27     1028   North Wing         nan     55.3          \n",
       "28     1029  Central Hub         nan            Warning\n",
       "29     1030  Central Hub         nan                   \n",
       "30     1031    East Wing         nan     49.0   Warning\n",
       "31     1032   North Wing         nan      nan   Warning\n",
       "32     1033   North Wing         nan     41.2        OK\n",
       "33     1034    East Wing        20.7            Warning\n",
       "34     1035  Central Hub         nan     51.5          \n",
       "35     1036    West Wing        21.9                   \n",
       "36     1037    West Wing         nan      nan        OK\n",
       "37     1038   North Wing                 56.0   Warning\n",
       "38     1039   South Wing                 42.8  Critical\n",
       "39     1040    West Wing        22.5      nan        OK\n",
       "40     1041   North Wing         nan     56.7   Warning\n",
       "41     1042   South Wing                             OK\n",
       "42     1043   South Wing                       Critical\n",
       "43     1044    West Wing         nan      nan          \n",
       "44     1045   South Wing        21.9      nan          \n",
       "45     1046   North Wing        27.5                   \n",
       "46     1047  Central Hub         nan     41.6        OK\n",
       "47     1048  Central Hub        20.7      nan   Warning\n",
       "48     1049  Central Hub         nan      nan          \n",
       "49     1050  Central Hub                  nan  Critical"
      ],
      "text/html": [
       "<div>\n",
       "<style scoped>\n",
       "    .dataframe tbody tr th:only-of-type {\n",
       "        vertical-align: middle;\n",
       "    }\n",
       "\n",
       "    .dataframe tbody tr th {\n",
       "        vertical-align: top;\n",
       "    }\n",
       "\n",
       "    .dataframe thead th {\n",
       "        text-align: right;\n",
       "    }\n",
       "</style>\n",
       "<table border=\"1\" class=\"dataframe\">\n",
       "  <thead>\n",
       "    <tr style=\"text-align: right;\">\n",
       "      <th></th>\n",
       "      <th>SensorID</th>\n",
       "      <th>Location</th>\n",
       "      <th>Temperature</th>\n",
       "      <th>Humidity</th>\n",
       "      <th>Status</th>\n",
       "    </tr>\n",
       "  </thead>\n",
       "  <tbody>\n",
       "    <tr>\n",
       "      <th>0</th>\n",
       "      <td>1001</td>\n",
       "      <td>North Wing</td>\n",
       "      <td></td>\n",
       "      <td>44.9</td>\n",
       "      <td>OK</td>\n",
       "    </tr>\n",
       "    <tr>\n",
       "      <th>1</th>\n",
       "      <td>1002</td>\n",
       "      <td>Central Hub</td>\n",
       "      <td></td>\n",
       "      <td>40.6</td>\n",
       "      <td>Warning</td>\n",
       "    </tr>\n",
       "    <tr>\n",
       "      <th>2</th>\n",
       "      <td>1003</td>\n",
       "      <td>South Wing</td>\n",
       "      <td>25.1</td>\n",
       "      <td>nan</td>\n",
       "      <td></td>\n",
       "    </tr>\n",
       "    <tr>\n",
       "      <th>3</th>\n",
       "      <td>1004</td>\n",
       "      <td>West Wing</td>\n",
       "      <td>nan</td>\n",
       "      <td>45.6</td>\n",
       "      <td>Warning</td>\n",
       "    </tr>\n",
       "    <tr>\n",
       "      <th>4</th>\n",
       "      <td>1005</td>\n",
       "      <td>West Wing</td>\n",
       "      <td>23.4</td>\n",
       "      <td></td>\n",
       "      <td>OK</td>\n",
       "    </tr>\n",
       "    <tr>\n",
       "      <th>5</th>\n",
       "      <td>1006</td>\n",
       "      <td>North Wing</td>\n",
       "      <td></td>\n",
       "      <td>nan</td>\n",
       "      <td>Critical</td>\n",
       "    </tr>\n",
       "    <tr>\n",
       "      <th>6</th>\n",
       "      <td>1007</td>\n",
       "      <td>North Wing</td>\n",
       "      <td>nan</td>\n",
       "      <td></td>\n",
       "      <td>OK</td>\n",
       "    </tr>\n",
       "    <tr>\n",
       "      <th>7</th>\n",
       "      <td>1008</td>\n",
       "      <td>Central Hub</td>\n",
       "      <td>nan</td>\n",
       "      <td></td>\n",
       "      <td></td>\n",
       "    </tr>\n",
       "    <tr>\n",
       "      <th>8</th>\n",
       "      <td>1009</td>\n",
       "      <td>South Wing</td>\n",
       "      <td>27.0</td>\n",
       "      <td></td>\n",
       "      <td>OK</td>\n",
       "    </tr>\n",
       "    <tr>\n",
       "      <th>9</th>\n",
       "      <td>1010</td>\n",
       "      <td>South Wing</td>\n",
       "      <td></td>\n",
       "      <td>nan</td>\n",
       "      <td>Critical</td>\n",
       "    </tr>\n",
       "    <tr>\n",
       "      <th>10</th>\n",
       "      <td>1011</td>\n",
       "      <td>South Wing</td>\n",
       "      <td>23.7</td>\n",
       "      <td>nan</td>\n",
       "      <td>OK</td>\n",
       "    </tr>\n",
       "    <tr>\n",
       "      <th>11</th>\n",
       "      <td>1012</td>\n",
       "      <td>Central Hub</td>\n",
       "      <td>nan</td>\n",
       "      <td>54.6</td>\n",
       "      <td></td>\n",
       "    </tr>\n",
       "    <tr>\n",
       "      <th>12</th>\n",
       "      <td>1013</td>\n",
       "      <td>West Wing</td>\n",
       "      <td>nan</td>\n",
       "      <td>53.8</td>\n",
       "      <td>Critical</td>\n",
       "    </tr>\n",
       "    <tr>\n",
       "      <th>13</th>\n",
       "      <td>1014</td>\n",
       "      <td>North Wing</td>\n",
       "      <td>22.3</td>\n",
       "      <td></td>\n",
       "      <td>Critical</td>\n",
       "    </tr>\n",
       "    <tr>\n",
       "      <th>14</th>\n",
       "      <td>1015</td>\n",
       "      <td>North Wing</td>\n",
       "      <td>nan</td>\n",
       "      <td></td>\n",
       "      <td>Warning</td>\n",
       "    </tr>\n",
       "    <tr>\n",
       "      <th>15</th>\n",
       "      <td>1016</td>\n",
       "      <td>West Wing</td>\n",
       "      <td>nan</td>\n",
       "      <td></td>\n",
       "      <td>Warning</td>\n",
       "    </tr>\n",
       "    <tr>\n",
       "      <th>16</th>\n",
       "      <td>1017</td>\n",
       "      <td>South Wing</td>\n",
       "      <td>nan</td>\n",
       "      <td>nan</td>\n",
       "      <td></td>\n",
       "    </tr>\n",
       "    <tr>\n",
       "      <th>17</th>\n",
       "      <td>1018</td>\n",
       "      <td>Central Hub</td>\n",
       "      <td>24.0</td>\n",
       "      <td>59.9</td>\n",
       "      <td></td>\n",
       "    </tr>\n",
       "    <tr>\n",
       "      <th>18</th>\n",
       "      <td>1019</td>\n",
       "      <td>West Wing</td>\n",
       "      <td>20.9</td>\n",
       "      <td>57.2</td>\n",
       "      <td>Warning</td>\n",
       "    </tr>\n",
       "    <tr>\n",
       "      <th>19</th>\n",
       "      <td>1020</td>\n",
       "      <td>West Wing</td>\n",
       "      <td></td>\n",
       "      <td></td>\n",
       "      <td></td>\n",
       "    </tr>\n",
       "    <tr>\n",
       "      <th>20</th>\n",
       "      <td>1021</td>\n",
       "      <td>East Wing</td>\n",
       "      <td>29.7</td>\n",
       "      <td>53.6</td>\n",
       "      <td></td>\n",
       "    </tr>\n",
       "    <tr>\n",
       "      <th>21</th>\n",
       "      <td>1022</td>\n",
       "      <td>East Wing</td>\n",
       "      <td></td>\n",
       "      <td></td>\n",
       "      <td>Warning</td>\n",
       "    </tr>\n",
       "    <tr>\n",
       "      <th>22</th>\n",
       "      <td>1023</td>\n",
       "      <td>West Wing</td>\n",
       "      <td>nan</td>\n",
       "      <td></td>\n",
       "      <td></td>\n",
       "    </tr>\n",
       "    <tr>\n",
       "      <th>23</th>\n",
       "      <td>1024</td>\n",
       "      <td>South Wing</td>\n",
       "      <td>25.1</td>\n",
       "      <td></td>\n",
       "      <td></td>\n",
       "    </tr>\n",
       "    <tr>\n",
       "      <th>24</th>\n",
       "      <td>1025</td>\n",
       "      <td>Central Hub</td>\n",
       "      <td></td>\n",
       "      <td>nan</td>\n",
       "      <td></td>\n",
       "    </tr>\n",
       "    <tr>\n",
       "      <th>25</th>\n",
       "      <td>1026</td>\n",
       "      <td>North Wing</td>\n",
       "      <td></td>\n",
       "      <td></td>\n",
       "      <td>Critical</td>\n",
       "    </tr>\n",
       "    <tr>\n",
       "      <th>26</th>\n",
       "      <td>1027</td>\n",
       "      <td>South Wing</td>\n",
       "      <td>nan</td>\n",
       "      <td>58.9</td>\n",
       "      <td></td>\n",
       "    </tr>\n",
       "    <tr>\n",
       "      <th>27</th>\n",
       "      <td>1028</td>\n",
       "      <td>North Wing</td>\n",
       "      <td>nan</td>\n",
       "      <td>55.3</td>\n",
       "      <td></td>\n",
       "    </tr>\n",
       "    <tr>\n",
       "      <th>28</th>\n",
       "      <td>1029</td>\n",
       "      <td>Central Hub</td>\n",
       "      <td>nan</td>\n",
       "      <td></td>\n",
       "      <td>Warning</td>\n",
       "    </tr>\n",
       "    <tr>\n",
       "      <th>29</th>\n",
       "      <td>1030</td>\n",
       "      <td>Central Hub</td>\n",
       "      <td>nan</td>\n",
       "      <td></td>\n",
       "      <td></td>\n",
       "    </tr>\n",
       "    <tr>\n",
       "      <th>30</th>\n",
       "      <td>1031</td>\n",
       "      <td>East Wing</td>\n",
       "      <td>nan</td>\n",
       "      <td>49.0</td>\n",
       "      <td>Warning</td>\n",
       "    </tr>\n",
       "    <tr>\n",
       "      <th>31</th>\n",
       "      <td>1032</td>\n",
       "      <td>North Wing</td>\n",
       "      <td>nan</td>\n",
       "      <td>nan</td>\n",
       "      <td>Warning</td>\n",
       "    </tr>\n",
       "    <tr>\n",
       "      <th>32</th>\n",
       "      <td>1033</td>\n",
       "      <td>North Wing</td>\n",
       "      <td>nan</td>\n",
       "      <td>41.2</td>\n",
       "      <td>OK</td>\n",
       "    </tr>\n",
       "    <tr>\n",
       "      <th>33</th>\n",
       "      <td>1034</td>\n",
       "      <td>East Wing</td>\n",
       "      <td>20.7</td>\n",
       "      <td></td>\n",
       "      <td>Warning</td>\n",
       "    </tr>\n",
       "    <tr>\n",
       "      <th>34</th>\n",
       "      <td>1035</td>\n",
       "      <td>Central Hub</td>\n",
       "      <td>nan</td>\n",
       "      <td>51.5</td>\n",
       "      <td></td>\n",
       "    </tr>\n",
       "    <tr>\n",
       "      <th>35</th>\n",
       "      <td>1036</td>\n",
       "      <td>West Wing</td>\n",
       "      <td>21.9</td>\n",
       "      <td></td>\n",
       "      <td></td>\n",
       "    </tr>\n",
       "    <tr>\n",
       "      <th>36</th>\n",
       "      <td>1037</td>\n",
       "      <td>West Wing</td>\n",
       "      <td>nan</td>\n",
       "      <td>nan</td>\n",
       "      <td>OK</td>\n",
       "    </tr>\n",
       "    <tr>\n",
       "      <th>37</th>\n",
       "      <td>1038</td>\n",
       "      <td>North Wing</td>\n",
       "      <td></td>\n",
       "      <td>56.0</td>\n",
       "      <td>Warning</td>\n",
       "    </tr>\n",
       "    <tr>\n",
       "      <th>38</th>\n",
       "      <td>1039</td>\n",
       "      <td>South Wing</td>\n",
       "      <td></td>\n",
       "      <td>42.8</td>\n",
       "      <td>Critical</td>\n",
       "    </tr>\n",
       "    <tr>\n",
       "      <th>39</th>\n",
       "      <td>1040</td>\n",
       "      <td>West Wing</td>\n",
       "      <td>22.5</td>\n",
       "      <td>nan</td>\n",
       "      <td>OK</td>\n",
       "    </tr>\n",
       "    <tr>\n",
       "      <th>40</th>\n",
       "      <td>1041</td>\n",
       "      <td>North Wing</td>\n",
       "      <td>nan</td>\n",
       "      <td>56.7</td>\n",
       "      <td>Warning</td>\n",
       "    </tr>\n",
       "    <tr>\n",
       "      <th>41</th>\n",
       "      <td>1042</td>\n",
       "      <td>South Wing</td>\n",
       "      <td></td>\n",
       "      <td></td>\n",
       "      <td>OK</td>\n",
       "    </tr>\n",
       "    <tr>\n",
       "      <th>42</th>\n",
       "      <td>1043</td>\n",
       "      <td>South Wing</td>\n",
       "      <td></td>\n",
       "      <td></td>\n",
       "      <td>Critical</td>\n",
       "    </tr>\n",
       "    <tr>\n",
       "      <th>43</th>\n",
       "      <td>1044</td>\n",
       "      <td>West Wing</td>\n",
       "      <td>nan</td>\n",
       "      <td>nan</td>\n",
       "      <td></td>\n",
       "    </tr>\n",
       "    <tr>\n",
       "      <th>44</th>\n",
       "      <td>1045</td>\n",
       "      <td>South Wing</td>\n",
       "      <td>21.9</td>\n",
       "      <td>nan</td>\n",
       "      <td></td>\n",
       "    </tr>\n",
       "    <tr>\n",
       "      <th>45</th>\n",
       "      <td>1046</td>\n",
       "      <td>North Wing</td>\n",
       "      <td>27.5</td>\n",
       "      <td></td>\n",
       "      <td></td>\n",
       "    </tr>\n",
       "    <tr>\n",
       "      <th>46</th>\n",
       "      <td>1047</td>\n",
       "      <td>Central Hub</td>\n",
       "      <td>nan</td>\n",
       "      <td>41.6</td>\n",
       "      <td>OK</td>\n",
       "    </tr>\n",
       "    <tr>\n",
       "      <th>47</th>\n",
       "      <td>1048</td>\n",
       "      <td>Central Hub</td>\n",
       "      <td>20.7</td>\n",
       "      <td>nan</td>\n",
       "      <td>Warning</td>\n",
       "    </tr>\n",
       "    <tr>\n",
       "      <th>48</th>\n",
       "      <td>1049</td>\n",
       "      <td>Central Hub</td>\n",
       "      <td>nan</td>\n",
       "      <td>nan</td>\n",
       "      <td></td>\n",
       "    </tr>\n",
       "    <tr>\n",
       "      <th>49</th>\n",
       "      <td>1050</td>\n",
       "      <td>Central Hub</td>\n",
       "      <td></td>\n",
       "      <td>nan</td>\n",
       "      <td>Critical</td>\n",
       "    </tr>\n",
       "  </tbody>\n",
       "</table>\n",
       "</div>"
      ]
     },
     "execution_count": 1656,
     "metadata": {},
     "output_type": "execute_result"
    }
   ],
   "execution_count": 1656
  },
  {
   "metadata": {},
   "cell_type": "markdown",
   "source": "16. **Register a custom dialect named `'pipe_sensor'`**, and use it to write the dataset again.",
   "id": "615f4c87e3e3f8a7"
  },
  {
   "metadata": {
    "ExecuteTime": {
     "end_time": "2025-05-09T22:25:24.897449Z",
     "start_time": "2025-05-09T22:25:24.894599Z"
    }
   },
   "cell_type": "code",
   "source": [
    "class PipeSensor(csv.Dialect):\n",
    "    lineterminator = '\\n'\n",
    "    delimiter = ','\n",
    "    quotechar = '\"'\n",
    "    quoting = csv.QUOTE_MINIMAL\n",
    "\n",
    "\n",
    "csv.register_dialect('pipe_sensor', PipeSensor)\n"
   ],
   "id": "facdf78a29257bba",
   "outputs": [],
   "execution_count": 1657
  },
  {
   "metadata": {
    "ExecuteTime": {
     "end_time": "2025-05-09T22:25:24.993168Z",
     "start_time": "2025-05-09T22:25:24.987971Z"
    }
   },
   "cell_type": "code",
   "source": [
    "with open('sensor_data_pipe.txt', 'r') as input_file, open('sensor_data_pipe_output.txt', 'w',\n",
    "                                                           newline='') as output_file:\n",
    "    reader = csv.reader(input_file, delimiter='|')\n",
    "    writer = csv.writer(output_file, dialect='pipe_sensor')\n",
    "    for row in reader:\n",
    "        writer.writerow(row)\n"
   ],
   "id": "90d1ce72178e7a5",
   "outputs": [],
   "execution_count": 1658
  },
  {
   "metadata": {},
   "cell_type": "markdown",
   "source": "17. **Re-read the dataset using the `'pipe_sensor'` dialect**, and display the first 5 rows.",
   "id": "50af3863b6de6d4f"
  },
  {
   "metadata": {
    "ExecuteTime": {
     "end_time": "2025-05-09T22:25:25.130501Z",
     "start_time": "2025-05-09T22:25:25.126772Z"
    }
   },
   "cell_type": "code",
   "source": [
    "with open('sensor_data_pipe_output.txt', newline='') as f:\n",
    "    reader = csv.reader(f, dialect='pipe_sensor')\n",
    "    for i, row in enumerate(reader):\n",
    "        print(row)\n",
    "        if i == 4:\n",
    "            break"
   ],
   "id": "e316c152f76e02",
   "outputs": [
    {
     "name": "stdout",
     "output_type": "stream",
     "text": [
      "['SensorID', 'Location', 'Temperature', 'Humidity', 'Status']\n",
      "['1001', 'North Wing', '', '44.9', 'OK']\n",
      "['1002', 'Central Hub', '', '40.6', 'Warning']\n",
      "['1003', 'South Wing', '25.1', 'nan', '']\n",
      "['1004', 'West Wing', 'nan', '45.6', 'Warning']\n"
     ]
    }
   ],
   "execution_count": 1659
  },
  {
   "metadata": {},
   "cell_type": "markdown",
   "source": "18. **Replace all empty strings with `np.nan` manually** after reading with `csv.reader()`, then load to DataFrame.",
   "id": "23d964ee8cd677ed"
  },
  {
   "metadata": {
    "ExecuteTime": {
     "end_time": "2025-05-09T22:25:25.241286Z",
     "start_time": "2025-05-09T22:25:25.238049Z"
    }
   },
   "cell_type": "code",
   "source": [
    "with open('sensor_data_pipe.txt', newline='') as f:\n",
    "    reader = csv.reader(f, delimiter='|')\n",
    "    rows = list(reader)"
   ],
   "id": "1ef5167d846a3b60",
   "outputs": [],
   "execution_count": 1660
  },
  {
   "metadata": {
    "ExecuteTime": {
     "end_time": "2025-05-09T22:25:25.411096Z",
     "start_time": "2025-05-09T22:25:25.408680Z"
    }
   },
   "cell_type": "code",
   "source": "header, data_rows = rows[0], rows[1:]",
   "id": "3ae75c3338c32edb",
   "outputs": [],
   "execution_count": 1661
  },
  {
   "metadata": {
    "ExecuteTime": {
     "end_time": "2025-05-09T22:25:25.489484Z",
     "start_time": "2025-05-09T22:25:25.486998Z"
    }
   },
   "cell_type": "code",
   "source": "cleaned_rows = [[np.nan if cell == '' else cell for cell in row] for row in data_rows]",
   "id": "8edca2de769a38b3",
   "outputs": [],
   "execution_count": 1662
  },
  {
   "metadata": {
    "ExecuteTime": {
     "end_time": "2025-05-09T22:25:25.568754Z",
     "start_time": "2025-05-09T22:25:25.565603Z"
    }
   },
   "cell_type": "code",
   "source": "df = pd.DataFrame(cleaned_rows, columns=header)",
   "id": "4d3e3b7e66687eda",
   "outputs": [],
   "execution_count": 1663
  },
  {
   "metadata": {
    "ExecuteTime": {
     "end_time": "2025-05-09T22:25:25.648605Z",
     "start_time": "2025-05-09T22:25:25.641775Z"
    }
   },
   "cell_type": "code",
   "source": "df",
   "id": "894b184bf7890f2d",
   "outputs": [
    {
     "data": {
      "text/plain": [
       "   SensorID     Location Temperature Humidity    Status\n",
       "0      1001   North Wing         NaN     44.9        OK\n",
       "1      1002  Central Hub         NaN     40.6   Warning\n",
       "2      1003   South Wing        25.1      nan       NaN\n",
       "3      1004    West Wing         nan     45.6   Warning\n",
       "4      1005    West Wing        23.4      NaN        OK\n",
       "5      1006   North Wing         NaN      nan  Critical\n",
       "6      1007   North Wing         nan      NaN        OK\n",
       "7      1008  Central Hub         nan      NaN       NaN\n",
       "8      1009   South Wing        27.0      NaN        OK\n",
       "9      1010   South Wing         NaN      nan  Critical\n",
       "10     1011   South Wing        23.7      nan        OK\n",
       "11     1012  Central Hub         nan     54.6       NaN\n",
       "12     1013    West Wing         nan     53.8  Critical\n",
       "13     1014   North Wing        22.3      NaN  Critical\n",
       "14     1015   North Wing         nan      NaN   Warning\n",
       "15     1016    West Wing         nan      NaN   Warning\n",
       "16     1017   South Wing         nan      nan       NaN\n",
       "17     1018  Central Hub        24.0     59.9       NaN\n",
       "18     1019    West Wing        20.9     57.2   Warning\n",
       "19     1020    West Wing         NaN      NaN       NaN\n",
       "20     1021    East Wing        29.7     53.6       NaN\n",
       "21     1022    East Wing         NaN      NaN   Warning\n",
       "22     1023    West Wing         nan      NaN       NaN\n",
       "23     1024   South Wing        25.1      NaN       NaN\n",
       "24     1025  Central Hub         NaN      nan       NaN\n",
       "25     1026   North Wing         NaN      NaN  Critical\n",
       "26     1027   South Wing         nan     58.9       NaN\n",
       "27     1028   North Wing         nan     55.3       NaN\n",
       "28     1029  Central Hub         nan      NaN   Warning\n",
       "29     1030  Central Hub         nan      NaN       NaN\n",
       "30     1031    East Wing         nan     49.0   Warning\n",
       "31     1032   North Wing         nan      nan   Warning\n",
       "32     1033   North Wing         nan     41.2        OK\n",
       "33     1034    East Wing        20.7      NaN   Warning\n",
       "34     1035  Central Hub         nan     51.5       NaN\n",
       "35     1036    West Wing        21.9      NaN       NaN\n",
       "36     1037    West Wing         nan      nan        OK\n",
       "37     1038   North Wing         NaN     56.0   Warning\n",
       "38     1039   South Wing         NaN     42.8  Critical\n",
       "39     1040    West Wing        22.5      nan        OK\n",
       "40     1041   North Wing         nan     56.7   Warning\n",
       "41     1042   South Wing         NaN      NaN        OK\n",
       "42     1043   South Wing         NaN      NaN  Critical\n",
       "43     1044    West Wing         nan      nan       NaN\n",
       "44     1045   South Wing        21.9      nan       NaN\n",
       "45     1046   North Wing        27.5      NaN       NaN\n",
       "46     1047  Central Hub         nan     41.6        OK\n",
       "47     1048  Central Hub        20.7      nan   Warning\n",
       "48     1049  Central Hub         nan      nan       NaN\n",
       "49     1050  Central Hub         NaN      nan  Critical"
      ],
      "text/html": [
       "<div>\n",
       "<style scoped>\n",
       "    .dataframe tbody tr th:only-of-type {\n",
       "        vertical-align: middle;\n",
       "    }\n",
       "\n",
       "    .dataframe tbody tr th {\n",
       "        vertical-align: top;\n",
       "    }\n",
       "\n",
       "    .dataframe thead th {\n",
       "        text-align: right;\n",
       "    }\n",
       "</style>\n",
       "<table border=\"1\" class=\"dataframe\">\n",
       "  <thead>\n",
       "    <tr style=\"text-align: right;\">\n",
       "      <th></th>\n",
       "      <th>SensorID</th>\n",
       "      <th>Location</th>\n",
       "      <th>Temperature</th>\n",
       "      <th>Humidity</th>\n",
       "      <th>Status</th>\n",
       "    </tr>\n",
       "  </thead>\n",
       "  <tbody>\n",
       "    <tr>\n",
       "      <th>0</th>\n",
       "      <td>1001</td>\n",
       "      <td>North Wing</td>\n",
       "      <td>NaN</td>\n",
       "      <td>44.9</td>\n",
       "      <td>OK</td>\n",
       "    </tr>\n",
       "    <tr>\n",
       "      <th>1</th>\n",
       "      <td>1002</td>\n",
       "      <td>Central Hub</td>\n",
       "      <td>NaN</td>\n",
       "      <td>40.6</td>\n",
       "      <td>Warning</td>\n",
       "    </tr>\n",
       "    <tr>\n",
       "      <th>2</th>\n",
       "      <td>1003</td>\n",
       "      <td>South Wing</td>\n",
       "      <td>25.1</td>\n",
       "      <td>nan</td>\n",
       "      <td>NaN</td>\n",
       "    </tr>\n",
       "    <tr>\n",
       "      <th>3</th>\n",
       "      <td>1004</td>\n",
       "      <td>West Wing</td>\n",
       "      <td>nan</td>\n",
       "      <td>45.6</td>\n",
       "      <td>Warning</td>\n",
       "    </tr>\n",
       "    <tr>\n",
       "      <th>4</th>\n",
       "      <td>1005</td>\n",
       "      <td>West Wing</td>\n",
       "      <td>23.4</td>\n",
       "      <td>NaN</td>\n",
       "      <td>OK</td>\n",
       "    </tr>\n",
       "    <tr>\n",
       "      <th>5</th>\n",
       "      <td>1006</td>\n",
       "      <td>North Wing</td>\n",
       "      <td>NaN</td>\n",
       "      <td>nan</td>\n",
       "      <td>Critical</td>\n",
       "    </tr>\n",
       "    <tr>\n",
       "      <th>6</th>\n",
       "      <td>1007</td>\n",
       "      <td>North Wing</td>\n",
       "      <td>nan</td>\n",
       "      <td>NaN</td>\n",
       "      <td>OK</td>\n",
       "    </tr>\n",
       "    <tr>\n",
       "      <th>7</th>\n",
       "      <td>1008</td>\n",
       "      <td>Central Hub</td>\n",
       "      <td>nan</td>\n",
       "      <td>NaN</td>\n",
       "      <td>NaN</td>\n",
       "    </tr>\n",
       "    <tr>\n",
       "      <th>8</th>\n",
       "      <td>1009</td>\n",
       "      <td>South Wing</td>\n",
       "      <td>27.0</td>\n",
       "      <td>NaN</td>\n",
       "      <td>OK</td>\n",
       "    </tr>\n",
       "    <tr>\n",
       "      <th>9</th>\n",
       "      <td>1010</td>\n",
       "      <td>South Wing</td>\n",
       "      <td>NaN</td>\n",
       "      <td>nan</td>\n",
       "      <td>Critical</td>\n",
       "    </tr>\n",
       "    <tr>\n",
       "      <th>10</th>\n",
       "      <td>1011</td>\n",
       "      <td>South Wing</td>\n",
       "      <td>23.7</td>\n",
       "      <td>nan</td>\n",
       "      <td>OK</td>\n",
       "    </tr>\n",
       "    <tr>\n",
       "      <th>11</th>\n",
       "      <td>1012</td>\n",
       "      <td>Central Hub</td>\n",
       "      <td>nan</td>\n",
       "      <td>54.6</td>\n",
       "      <td>NaN</td>\n",
       "    </tr>\n",
       "    <tr>\n",
       "      <th>12</th>\n",
       "      <td>1013</td>\n",
       "      <td>West Wing</td>\n",
       "      <td>nan</td>\n",
       "      <td>53.8</td>\n",
       "      <td>Critical</td>\n",
       "    </tr>\n",
       "    <tr>\n",
       "      <th>13</th>\n",
       "      <td>1014</td>\n",
       "      <td>North Wing</td>\n",
       "      <td>22.3</td>\n",
       "      <td>NaN</td>\n",
       "      <td>Critical</td>\n",
       "    </tr>\n",
       "    <tr>\n",
       "      <th>14</th>\n",
       "      <td>1015</td>\n",
       "      <td>North Wing</td>\n",
       "      <td>nan</td>\n",
       "      <td>NaN</td>\n",
       "      <td>Warning</td>\n",
       "    </tr>\n",
       "    <tr>\n",
       "      <th>15</th>\n",
       "      <td>1016</td>\n",
       "      <td>West Wing</td>\n",
       "      <td>nan</td>\n",
       "      <td>NaN</td>\n",
       "      <td>Warning</td>\n",
       "    </tr>\n",
       "    <tr>\n",
       "      <th>16</th>\n",
       "      <td>1017</td>\n",
       "      <td>South Wing</td>\n",
       "      <td>nan</td>\n",
       "      <td>nan</td>\n",
       "      <td>NaN</td>\n",
       "    </tr>\n",
       "    <tr>\n",
       "      <th>17</th>\n",
       "      <td>1018</td>\n",
       "      <td>Central Hub</td>\n",
       "      <td>24.0</td>\n",
       "      <td>59.9</td>\n",
       "      <td>NaN</td>\n",
       "    </tr>\n",
       "    <tr>\n",
       "      <th>18</th>\n",
       "      <td>1019</td>\n",
       "      <td>West Wing</td>\n",
       "      <td>20.9</td>\n",
       "      <td>57.2</td>\n",
       "      <td>Warning</td>\n",
       "    </tr>\n",
       "    <tr>\n",
       "      <th>19</th>\n",
       "      <td>1020</td>\n",
       "      <td>West Wing</td>\n",
       "      <td>NaN</td>\n",
       "      <td>NaN</td>\n",
       "      <td>NaN</td>\n",
       "    </tr>\n",
       "    <tr>\n",
       "      <th>20</th>\n",
       "      <td>1021</td>\n",
       "      <td>East Wing</td>\n",
       "      <td>29.7</td>\n",
       "      <td>53.6</td>\n",
       "      <td>NaN</td>\n",
       "    </tr>\n",
       "    <tr>\n",
       "      <th>21</th>\n",
       "      <td>1022</td>\n",
       "      <td>East Wing</td>\n",
       "      <td>NaN</td>\n",
       "      <td>NaN</td>\n",
       "      <td>Warning</td>\n",
       "    </tr>\n",
       "    <tr>\n",
       "      <th>22</th>\n",
       "      <td>1023</td>\n",
       "      <td>West Wing</td>\n",
       "      <td>nan</td>\n",
       "      <td>NaN</td>\n",
       "      <td>NaN</td>\n",
       "    </tr>\n",
       "    <tr>\n",
       "      <th>23</th>\n",
       "      <td>1024</td>\n",
       "      <td>South Wing</td>\n",
       "      <td>25.1</td>\n",
       "      <td>NaN</td>\n",
       "      <td>NaN</td>\n",
       "    </tr>\n",
       "    <tr>\n",
       "      <th>24</th>\n",
       "      <td>1025</td>\n",
       "      <td>Central Hub</td>\n",
       "      <td>NaN</td>\n",
       "      <td>nan</td>\n",
       "      <td>NaN</td>\n",
       "    </tr>\n",
       "    <tr>\n",
       "      <th>25</th>\n",
       "      <td>1026</td>\n",
       "      <td>North Wing</td>\n",
       "      <td>NaN</td>\n",
       "      <td>NaN</td>\n",
       "      <td>Critical</td>\n",
       "    </tr>\n",
       "    <tr>\n",
       "      <th>26</th>\n",
       "      <td>1027</td>\n",
       "      <td>South Wing</td>\n",
       "      <td>nan</td>\n",
       "      <td>58.9</td>\n",
       "      <td>NaN</td>\n",
       "    </tr>\n",
       "    <tr>\n",
       "      <th>27</th>\n",
       "      <td>1028</td>\n",
       "      <td>North Wing</td>\n",
       "      <td>nan</td>\n",
       "      <td>55.3</td>\n",
       "      <td>NaN</td>\n",
       "    </tr>\n",
       "    <tr>\n",
       "      <th>28</th>\n",
       "      <td>1029</td>\n",
       "      <td>Central Hub</td>\n",
       "      <td>nan</td>\n",
       "      <td>NaN</td>\n",
       "      <td>Warning</td>\n",
       "    </tr>\n",
       "    <tr>\n",
       "      <th>29</th>\n",
       "      <td>1030</td>\n",
       "      <td>Central Hub</td>\n",
       "      <td>nan</td>\n",
       "      <td>NaN</td>\n",
       "      <td>NaN</td>\n",
       "    </tr>\n",
       "    <tr>\n",
       "      <th>30</th>\n",
       "      <td>1031</td>\n",
       "      <td>East Wing</td>\n",
       "      <td>nan</td>\n",
       "      <td>49.0</td>\n",
       "      <td>Warning</td>\n",
       "    </tr>\n",
       "    <tr>\n",
       "      <th>31</th>\n",
       "      <td>1032</td>\n",
       "      <td>North Wing</td>\n",
       "      <td>nan</td>\n",
       "      <td>nan</td>\n",
       "      <td>Warning</td>\n",
       "    </tr>\n",
       "    <tr>\n",
       "      <th>32</th>\n",
       "      <td>1033</td>\n",
       "      <td>North Wing</td>\n",
       "      <td>nan</td>\n",
       "      <td>41.2</td>\n",
       "      <td>OK</td>\n",
       "    </tr>\n",
       "    <tr>\n",
       "      <th>33</th>\n",
       "      <td>1034</td>\n",
       "      <td>East Wing</td>\n",
       "      <td>20.7</td>\n",
       "      <td>NaN</td>\n",
       "      <td>Warning</td>\n",
       "    </tr>\n",
       "    <tr>\n",
       "      <th>34</th>\n",
       "      <td>1035</td>\n",
       "      <td>Central Hub</td>\n",
       "      <td>nan</td>\n",
       "      <td>51.5</td>\n",
       "      <td>NaN</td>\n",
       "    </tr>\n",
       "    <tr>\n",
       "      <th>35</th>\n",
       "      <td>1036</td>\n",
       "      <td>West Wing</td>\n",
       "      <td>21.9</td>\n",
       "      <td>NaN</td>\n",
       "      <td>NaN</td>\n",
       "    </tr>\n",
       "    <tr>\n",
       "      <th>36</th>\n",
       "      <td>1037</td>\n",
       "      <td>West Wing</td>\n",
       "      <td>nan</td>\n",
       "      <td>nan</td>\n",
       "      <td>OK</td>\n",
       "    </tr>\n",
       "    <tr>\n",
       "      <th>37</th>\n",
       "      <td>1038</td>\n",
       "      <td>North Wing</td>\n",
       "      <td>NaN</td>\n",
       "      <td>56.0</td>\n",
       "      <td>Warning</td>\n",
       "    </tr>\n",
       "    <tr>\n",
       "      <th>38</th>\n",
       "      <td>1039</td>\n",
       "      <td>South Wing</td>\n",
       "      <td>NaN</td>\n",
       "      <td>42.8</td>\n",
       "      <td>Critical</td>\n",
       "    </tr>\n",
       "    <tr>\n",
       "      <th>39</th>\n",
       "      <td>1040</td>\n",
       "      <td>West Wing</td>\n",
       "      <td>22.5</td>\n",
       "      <td>nan</td>\n",
       "      <td>OK</td>\n",
       "    </tr>\n",
       "    <tr>\n",
       "      <th>40</th>\n",
       "      <td>1041</td>\n",
       "      <td>North Wing</td>\n",
       "      <td>nan</td>\n",
       "      <td>56.7</td>\n",
       "      <td>Warning</td>\n",
       "    </tr>\n",
       "    <tr>\n",
       "      <th>41</th>\n",
       "      <td>1042</td>\n",
       "      <td>South Wing</td>\n",
       "      <td>NaN</td>\n",
       "      <td>NaN</td>\n",
       "      <td>OK</td>\n",
       "    </tr>\n",
       "    <tr>\n",
       "      <th>42</th>\n",
       "      <td>1043</td>\n",
       "      <td>South Wing</td>\n",
       "      <td>NaN</td>\n",
       "      <td>NaN</td>\n",
       "      <td>Critical</td>\n",
       "    </tr>\n",
       "    <tr>\n",
       "      <th>43</th>\n",
       "      <td>1044</td>\n",
       "      <td>West Wing</td>\n",
       "      <td>nan</td>\n",
       "      <td>nan</td>\n",
       "      <td>NaN</td>\n",
       "    </tr>\n",
       "    <tr>\n",
       "      <th>44</th>\n",
       "      <td>1045</td>\n",
       "      <td>South Wing</td>\n",
       "      <td>21.9</td>\n",
       "      <td>nan</td>\n",
       "      <td>NaN</td>\n",
       "    </tr>\n",
       "    <tr>\n",
       "      <th>45</th>\n",
       "      <td>1046</td>\n",
       "      <td>North Wing</td>\n",
       "      <td>27.5</td>\n",
       "      <td>NaN</td>\n",
       "      <td>NaN</td>\n",
       "    </tr>\n",
       "    <tr>\n",
       "      <th>46</th>\n",
       "      <td>1047</td>\n",
       "      <td>Central Hub</td>\n",
       "      <td>nan</td>\n",
       "      <td>41.6</td>\n",
       "      <td>OK</td>\n",
       "    </tr>\n",
       "    <tr>\n",
       "      <th>47</th>\n",
       "      <td>1048</td>\n",
       "      <td>Central Hub</td>\n",
       "      <td>20.7</td>\n",
       "      <td>nan</td>\n",
       "      <td>Warning</td>\n",
       "    </tr>\n",
       "    <tr>\n",
       "      <th>48</th>\n",
       "      <td>1049</td>\n",
       "      <td>Central Hub</td>\n",
       "      <td>nan</td>\n",
       "      <td>nan</td>\n",
       "      <td>NaN</td>\n",
       "    </tr>\n",
       "    <tr>\n",
       "      <th>49</th>\n",
       "      <td>1050</td>\n",
       "      <td>Central Hub</td>\n",
       "      <td>NaN</td>\n",
       "      <td>nan</td>\n",
       "      <td>Critical</td>\n",
       "    </tr>\n",
       "  </tbody>\n",
       "</table>\n",
       "</div>"
      ]
     },
     "execution_count": 1664,
     "metadata": {},
     "output_type": "execute_result"
    }
   ],
   "execution_count": 1664
  },
  {
   "metadata": {},
   "cell_type": "markdown",
   "source": [
    "#### **Part D: Additional Real-World Tasks**\n",
    "\n",
    "19. **Clean the dataset** by filling missing temperature and humidity with their respective means.\n",
    "\n"
   ],
   "id": "36b78caf0c90d589"
  },
  {
   "metadata": {
    "ExecuteTime": {
     "end_time": "2025-05-09T22:25:25.753769Z",
     "start_time": "2025-05-09T22:25:25.749660Z"
    }
   },
   "cell_type": "code",
   "source": "data = pd.read_csv('sensor_data_pipe.txt', sep='|')",
   "id": "7e93d25ba254623",
   "outputs": [],
   "execution_count": 1665
  },
  {
   "metadata": {
    "ExecuteTime": {
     "end_time": "2025-05-09T22:25:25.829979Z",
     "start_time": "2025-05-09T22:25:25.827387Z"
    }
   },
   "cell_type": "code",
   "source": "temperature_mean = data.Temperature.mean(skipna=True)",
   "id": "f6319189647f1bc0",
   "outputs": [],
   "execution_count": 1666
  },
  {
   "metadata": {
    "ExecuteTime": {
     "end_time": "2025-05-09T22:25:25.970324Z",
     "start_time": "2025-05-09T22:25:25.966873Z"
    }
   },
   "cell_type": "code",
   "source": "temperature_mean",
   "id": "aca57c6af751d3e7",
   "outputs": [
    {
     "data": {
      "text/plain": [
       "np.float64(23.759999999999998)"
      ]
     },
     "execution_count": 1667,
     "metadata": {},
     "output_type": "execute_result"
    }
   ],
   "execution_count": 1667
  },
  {
   "metadata": {
    "ExecuteTime": {
     "end_time": "2025-05-09T22:25:26.094732Z",
     "start_time": "2025-05-09T22:25:26.092218Z"
    }
   },
   "cell_type": "code",
   "source": "humidity_mean = data.Humidity.mean(skipna=True)",
   "id": "a9fe276bbd06f5b2",
   "outputs": [],
   "execution_count": 1668
  },
  {
   "metadata": {
    "ExecuteTime": {
     "end_time": "2025-05-09T22:25:26.253768Z",
     "start_time": "2025-05-09T22:25:26.250162Z"
    }
   },
   "cell_type": "code",
   "source": "humidity_mean",
   "id": "ae75d57787b41ab0",
   "outputs": [
    {
     "data": {
      "text/plain": [
       "np.float64(50.7764705882353)"
      ]
     },
     "execution_count": 1669,
     "metadata": {},
     "output_type": "execute_result"
    }
   ],
   "execution_count": 1669
  },
  {
   "metadata": {
    "ExecuteTime": {
     "end_time": "2025-05-09T22:25:26.347528Z",
     "start_time": "2025-05-09T22:25:26.344217Z"
    }
   },
   "cell_type": "code",
   "source": "data.Temperature = data.Temperature.fillna(temperature_mean)",
   "id": "2a921aef9062098b",
   "outputs": [],
   "execution_count": 1670
  },
  {
   "metadata": {
    "ExecuteTime": {
     "end_time": "2025-05-09T22:25:26.485326Z",
     "start_time": "2025-05-09T22:25:26.481645Z"
    }
   },
   "cell_type": "code",
   "source": "data.Humidity = data.Humidity.fillna(humidity_mean)",
   "id": "dac78f608acd71c9",
   "outputs": [],
   "execution_count": 1671
  },
  {
   "metadata": {
    "ExecuteTime": {
     "end_time": "2025-05-09T22:25:26.581337Z",
     "start_time": "2025-05-09T22:25:26.575900Z"
    }
   },
   "cell_type": "code",
   "source": "data.head()",
   "id": "dd8a6894b61729ae",
   "outputs": [
    {
     "data": {
      "text/plain": [
       "   SensorID     Location  Temperature   Humidity   Status\n",
       "0      1001   North Wing        23.76  44.900000       OK\n",
       "1      1002  Central Hub        23.76  40.600000  Warning\n",
       "2      1003   South Wing        25.10  50.776471      NaN\n",
       "3      1004    West Wing        23.76  45.600000  Warning\n",
       "4      1005    West Wing        23.40  50.776471       OK"
      ],
      "text/html": [
       "<div>\n",
       "<style scoped>\n",
       "    .dataframe tbody tr th:only-of-type {\n",
       "        vertical-align: middle;\n",
       "    }\n",
       "\n",
       "    .dataframe tbody tr th {\n",
       "        vertical-align: top;\n",
       "    }\n",
       "\n",
       "    .dataframe thead th {\n",
       "        text-align: right;\n",
       "    }\n",
       "</style>\n",
       "<table border=\"1\" class=\"dataframe\">\n",
       "  <thead>\n",
       "    <tr style=\"text-align: right;\">\n",
       "      <th></th>\n",
       "      <th>SensorID</th>\n",
       "      <th>Location</th>\n",
       "      <th>Temperature</th>\n",
       "      <th>Humidity</th>\n",
       "      <th>Status</th>\n",
       "    </tr>\n",
       "  </thead>\n",
       "  <tbody>\n",
       "    <tr>\n",
       "      <th>0</th>\n",
       "      <td>1001</td>\n",
       "      <td>North Wing</td>\n",
       "      <td>23.76</td>\n",
       "      <td>44.900000</td>\n",
       "      <td>OK</td>\n",
       "    </tr>\n",
       "    <tr>\n",
       "      <th>1</th>\n",
       "      <td>1002</td>\n",
       "      <td>Central Hub</td>\n",
       "      <td>23.76</td>\n",
       "      <td>40.600000</td>\n",
       "      <td>Warning</td>\n",
       "    </tr>\n",
       "    <tr>\n",
       "      <th>2</th>\n",
       "      <td>1003</td>\n",
       "      <td>South Wing</td>\n",
       "      <td>25.10</td>\n",
       "      <td>50.776471</td>\n",
       "      <td>NaN</td>\n",
       "    </tr>\n",
       "    <tr>\n",
       "      <th>3</th>\n",
       "      <td>1004</td>\n",
       "      <td>West Wing</td>\n",
       "      <td>23.76</td>\n",
       "      <td>45.600000</td>\n",
       "      <td>Warning</td>\n",
       "    </tr>\n",
       "    <tr>\n",
       "      <th>4</th>\n",
       "      <td>1005</td>\n",
       "      <td>West Wing</td>\n",
       "      <td>23.40</td>\n",
       "      <td>50.776471</td>\n",
       "      <td>OK</td>\n",
       "    </tr>\n",
       "  </tbody>\n",
       "</table>\n",
       "</div>"
      ]
     },
     "execution_count": 1672,
     "metadata": {},
     "output_type": "execute_result"
    }
   ],
   "execution_count": 1672
  },
  {
   "metadata": {
    "ExecuteTime": {
     "end_time": "2025-05-09T22:25:26.691730Z",
     "start_time": "2025-05-09T22:25:26.686517Z"
    }
   },
   "cell_type": "code",
   "source": "data.to_csv('sensor_data_filled.csv', sep=',', index=False, float_format='%.1f')",
   "id": "8860536c3c01b6a4",
   "outputs": [],
   "execution_count": 1673
  },
  {
   "metadata": {},
   "cell_type": "markdown",
   "source": "20. **Summarize the cleaned data**: Group by `Location` and count how many sensors have `Status == OK`.",
   "id": "19fb9f4b4d5a3593"
  },
  {
   "metadata": {
    "ExecuteTime": {
     "end_time": "2025-05-09T22:25:26.752967Z",
     "start_time": "2025-05-09T22:25:26.749897Z"
    }
   },
   "cell_type": "code",
   "source": "OK_data = data[data.Status == 'OK']",
   "id": "ab563a247df13c7",
   "outputs": [],
   "execution_count": 1674
  },
  {
   "metadata": {
    "ExecuteTime": {
     "end_time": "2025-05-09T22:25:26.895038Z",
     "start_time": "2025-05-09T22:25:26.888856Z"
    }
   },
   "cell_type": "code",
   "source": "OK_data",
   "id": "be6aa733b69ba138",
   "outputs": [
    {
     "data": {
      "text/plain": [
       "    SensorID     Location  Temperature   Humidity Status\n",
       "0       1001   North Wing        23.76  44.900000     OK\n",
       "4       1005    West Wing        23.40  50.776471     OK\n",
       "6       1007   North Wing        23.76  50.776471     OK\n",
       "8       1009   South Wing        27.00  50.776471     OK\n",
       "10      1011   South Wing        23.70  50.776471     OK\n",
       "32      1033   North Wing        23.76  41.200000     OK\n",
       "36      1037    West Wing        23.76  50.776471     OK\n",
       "39      1040    West Wing        22.50  50.776471     OK\n",
       "41      1042   South Wing        23.76  50.776471     OK\n",
       "46      1047  Central Hub        23.76  41.600000     OK"
      ],
      "text/html": [
       "<div>\n",
       "<style scoped>\n",
       "    .dataframe tbody tr th:only-of-type {\n",
       "        vertical-align: middle;\n",
       "    }\n",
       "\n",
       "    .dataframe tbody tr th {\n",
       "        vertical-align: top;\n",
       "    }\n",
       "\n",
       "    .dataframe thead th {\n",
       "        text-align: right;\n",
       "    }\n",
       "</style>\n",
       "<table border=\"1\" class=\"dataframe\">\n",
       "  <thead>\n",
       "    <tr style=\"text-align: right;\">\n",
       "      <th></th>\n",
       "      <th>SensorID</th>\n",
       "      <th>Location</th>\n",
       "      <th>Temperature</th>\n",
       "      <th>Humidity</th>\n",
       "      <th>Status</th>\n",
       "    </tr>\n",
       "  </thead>\n",
       "  <tbody>\n",
       "    <tr>\n",
       "      <th>0</th>\n",
       "      <td>1001</td>\n",
       "      <td>North Wing</td>\n",
       "      <td>23.76</td>\n",
       "      <td>44.900000</td>\n",
       "      <td>OK</td>\n",
       "    </tr>\n",
       "    <tr>\n",
       "      <th>4</th>\n",
       "      <td>1005</td>\n",
       "      <td>West Wing</td>\n",
       "      <td>23.40</td>\n",
       "      <td>50.776471</td>\n",
       "      <td>OK</td>\n",
       "    </tr>\n",
       "    <tr>\n",
       "      <th>6</th>\n",
       "      <td>1007</td>\n",
       "      <td>North Wing</td>\n",
       "      <td>23.76</td>\n",
       "      <td>50.776471</td>\n",
       "      <td>OK</td>\n",
       "    </tr>\n",
       "    <tr>\n",
       "      <th>8</th>\n",
       "      <td>1009</td>\n",
       "      <td>South Wing</td>\n",
       "      <td>27.00</td>\n",
       "      <td>50.776471</td>\n",
       "      <td>OK</td>\n",
       "    </tr>\n",
       "    <tr>\n",
       "      <th>10</th>\n",
       "      <td>1011</td>\n",
       "      <td>South Wing</td>\n",
       "      <td>23.70</td>\n",
       "      <td>50.776471</td>\n",
       "      <td>OK</td>\n",
       "    </tr>\n",
       "    <tr>\n",
       "      <th>32</th>\n",
       "      <td>1033</td>\n",
       "      <td>North Wing</td>\n",
       "      <td>23.76</td>\n",
       "      <td>41.200000</td>\n",
       "      <td>OK</td>\n",
       "    </tr>\n",
       "    <tr>\n",
       "      <th>36</th>\n",
       "      <td>1037</td>\n",
       "      <td>West Wing</td>\n",
       "      <td>23.76</td>\n",
       "      <td>50.776471</td>\n",
       "      <td>OK</td>\n",
       "    </tr>\n",
       "    <tr>\n",
       "      <th>39</th>\n",
       "      <td>1040</td>\n",
       "      <td>West Wing</td>\n",
       "      <td>22.50</td>\n",
       "      <td>50.776471</td>\n",
       "      <td>OK</td>\n",
       "    </tr>\n",
       "    <tr>\n",
       "      <th>41</th>\n",
       "      <td>1042</td>\n",
       "      <td>South Wing</td>\n",
       "      <td>23.76</td>\n",
       "      <td>50.776471</td>\n",
       "      <td>OK</td>\n",
       "    </tr>\n",
       "    <tr>\n",
       "      <th>46</th>\n",
       "      <td>1047</td>\n",
       "      <td>Central Hub</td>\n",
       "      <td>23.76</td>\n",
       "      <td>41.600000</td>\n",
       "      <td>OK</td>\n",
       "    </tr>\n",
       "  </tbody>\n",
       "</table>\n",
       "</div>"
      ]
     },
     "execution_count": 1675,
     "metadata": {},
     "output_type": "execute_result"
    }
   ],
   "execution_count": 1675
  },
  {
   "metadata": {
    "ExecuteTime": {
     "end_time": "2025-05-09T22:25:26.986046Z",
     "start_time": "2025-05-09T22:25:26.982744Z"
    }
   },
   "cell_type": "code",
   "source": "ok_counts = OK_data.groupby('Location').size()",
   "id": "8b9eb02014707a6e",
   "outputs": [],
   "execution_count": 1676
  },
  {
   "metadata": {
    "ExecuteTime": {
     "end_time": "2025-05-09T22:25:27.173695Z",
     "start_time": "2025-05-09T22:25:27.169693Z"
    }
   },
   "cell_type": "code",
   "source": "ok_counts",
   "id": "2706a1c06f90eb9",
   "outputs": [
    {
     "data": {
      "text/plain": [
       "Location\n",
       "Central Hub    1\n",
       "North Wing     3\n",
       "South Wing     3\n",
       "West Wing      3\n",
       "dtype: int64"
      ]
     },
     "execution_count": 1677,
     "metadata": {},
     "output_type": "execute_result"
    }
   ],
   "execution_count": 1677
  },
  {
   "metadata": {},
   "cell_type": "markdown",
   "source": [
    "## **Part C – Reading and Preprocessing with `csv.reader()`**\n",
    "\n",
    "### 1. **Read the pipe-delimited file using `csv.reader()` and skip rows that are completely empty.**\n",
    "\n",
    "> Goal: Manually build a clean list of rows (no blank lines), then convert to a DataFrame.\n"
   ],
   "id": "670bfecb0df08f70"
  },
  {
   "metadata": {
    "ExecuteTime": {
     "end_time": "2025-05-09T22:25:27.267376Z",
     "start_time": "2025-05-09T22:25:27.264125Z"
    }
   },
   "cell_type": "code",
   "source": [
    "with open('sensor_data_pipe.txt', newline='') as f:\n",
    "    reader = csv.reader(f, delimiter='|')\n",
    "    rows = list(reader)"
   ],
   "id": "c7bd805fd7d33063",
   "outputs": [],
   "execution_count": 1678
  },
  {
   "metadata": {
    "ExecuteTime": {
     "end_time": "2025-05-09T22:25:27.515885Z",
     "start_time": "2025-05-09T22:25:27.513344Z"
    }
   },
   "cell_type": "code",
   "source": "header, data_rows = rows[0], rows[1:]",
   "id": "c09a025d695889a",
   "outputs": [],
   "execution_count": 1679
  },
  {
   "metadata": {
    "ExecuteTime": {
     "end_time": "2025-05-09T22:25:27.594673Z",
     "start_time": "2025-05-09T22:25:27.591424Z"
    }
   },
   "cell_type": "code",
   "source": "cleaned_rows = [[np.nan if cell == '' else cell for cell in row] for row in data_rows]",
   "id": "bb6481bb7b2706ad",
   "outputs": [],
   "execution_count": 1680
  },
  {
   "metadata": {
    "ExecuteTime": {
     "end_time": "2025-05-09T22:25:27.703680Z",
     "start_time": "2025-05-09T22:25:27.700401Z"
    }
   },
   "cell_type": "code",
   "source": "df = pd.DataFrame(cleaned_rows, columns=header)",
   "id": "2aaee73465627d78",
   "outputs": [],
   "execution_count": 1681
  },
  {
   "metadata": {
    "ExecuteTime": {
     "end_time": "2025-05-09T22:25:27.769677Z",
     "start_time": "2025-05-09T22:25:27.764108Z"
    }
   },
   "cell_type": "code",
   "source": "df.head()",
   "id": "8aa66ad220e8f468",
   "outputs": [
    {
     "data": {
      "text/plain": [
       "  SensorID     Location Temperature Humidity   Status\n",
       "0     1001   North Wing         NaN     44.9       OK\n",
       "1     1002  Central Hub         NaN     40.6  Warning\n",
       "2     1003   South Wing        25.1      nan      NaN\n",
       "3     1004    West Wing         nan     45.6  Warning\n",
       "4     1005    West Wing        23.4      NaN       OK"
      ],
      "text/html": [
       "<div>\n",
       "<style scoped>\n",
       "    .dataframe tbody tr th:only-of-type {\n",
       "        vertical-align: middle;\n",
       "    }\n",
       "\n",
       "    .dataframe tbody tr th {\n",
       "        vertical-align: top;\n",
       "    }\n",
       "\n",
       "    .dataframe thead th {\n",
       "        text-align: right;\n",
       "    }\n",
       "</style>\n",
       "<table border=\"1\" class=\"dataframe\">\n",
       "  <thead>\n",
       "    <tr style=\"text-align: right;\">\n",
       "      <th></th>\n",
       "      <th>SensorID</th>\n",
       "      <th>Location</th>\n",
       "      <th>Temperature</th>\n",
       "      <th>Humidity</th>\n",
       "      <th>Status</th>\n",
       "    </tr>\n",
       "  </thead>\n",
       "  <tbody>\n",
       "    <tr>\n",
       "      <th>0</th>\n",
       "      <td>1001</td>\n",
       "      <td>North Wing</td>\n",
       "      <td>NaN</td>\n",
       "      <td>44.9</td>\n",
       "      <td>OK</td>\n",
       "    </tr>\n",
       "    <tr>\n",
       "      <th>1</th>\n",
       "      <td>1002</td>\n",
       "      <td>Central Hub</td>\n",
       "      <td>NaN</td>\n",
       "      <td>40.6</td>\n",
       "      <td>Warning</td>\n",
       "    </tr>\n",
       "    <tr>\n",
       "      <th>2</th>\n",
       "      <td>1003</td>\n",
       "      <td>South Wing</td>\n",
       "      <td>25.1</td>\n",
       "      <td>nan</td>\n",
       "      <td>NaN</td>\n",
       "    </tr>\n",
       "    <tr>\n",
       "      <th>3</th>\n",
       "      <td>1004</td>\n",
       "      <td>West Wing</td>\n",
       "      <td>nan</td>\n",
       "      <td>45.6</td>\n",
       "      <td>Warning</td>\n",
       "    </tr>\n",
       "    <tr>\n",
       "      <th>4</th>\n",
       "      <td>1005</td>\n",
       "      <td>West Wing</td>\n",
       "      <td>23.4</td>\n",
       "      <td>NaN</td>\n",
       "      <td>OK</td>\n",
       "    </tr>\n",
       "  </tbody>\n",
       "</table>\n",
       "</div>"
      ]
     },
     "execution_count": 1682,
     "metadata": {},
     "output_type": "execute_result"
    }
   ],
   "execution_count": 1682
  },
  {
   "metadata": {
    "ExecuteTime": {
     "end_time": "2025-05-09T22:25:27.890161Z",
     "start_time": "2025-05-09T22:25:27.886815Z"
    }
   },
   "cell_type": "code",
   "source": [
    "# if file includes completely empty rows\n",
    "with open('sensor_data_pipe.txt', newline='') as f:\n",
    "    reader = csv.reader(f, delimiter='|')\n",
    "    # rows = [row for row in reader if any(cell.strip() for cell in row)]\n",
    "    rows = []\n",
    "    for row in reader:\n",
    "        has_data = False\n",
    "        for cell in row:\n",
    "            if cell.strip():  # if not just spaces or empty\n",
    "                has_data = True\n",
    "                break\n",
    "        if has_data:\n",
    "            rows.append(row)"
   ],
   "id": "9cc0ebf144215093",
   "outputs": [],
   "execution_count": 1683
  },
  {
   "metadata": {
    "ExecuteTime": {
     "end_time": "2025-05-09T22:25:27.953023Z",
     "start_time": "2025-05-09T22:25:27.950233Z"
    }
   },
   "cell_type": "code",
   "source": "cleaned_rows = [[np.nan if cell == '' else cell for cell in row] for row in cleaned_rows]",
   "id": "78c95f8d7b2b44d8",
   "outputs": [],
   "execution_count": 1684
  },
  {
   "metadata": {
    "ExecuteTime": {
     "end_time": "2025-05-09T22:25:28.078193Z",
     "start_time": "2025-05-09T22:25:28.075189Z"
    }
   },
   "cell_type": "code",
   "source": "df = pd.DataFrame(cleaned_rows, columns=header)",
   "id": "747741445c3d42c7",
   "outputs": [],
   "execution_count": 1685
  },
  {
   "metadata": {
    "ExecuteTime": {
     "end_time": "2025-05-09T22:25:28.174025Z",
     "start_time": "2025-05-09T22:25:28.168804Z"
    }
   },
   "cell_type": "code",
   "source": "df.head()",
   "id": "4e8e6a95f495220",
   "outputs": [
    {
     "data": {
      "text/plain": [
       "  SensorID     Location Temperature Humidity   Status\n",
       "0     1001   North Wing         NaN     44.9       OK\n",
       "1     1002  Central Hub         NaN     40.6  Warning\n",
       "2     1003   South Wing        25.1      nan      NaN\n",
       "3     1004    West Wing         nan     45.6  Warning\n",
       "4     1005    West Wing        23.4      NaN       OK"
      ],
      "text/html": [
       "<div>\n",
       "<style scoped>\n",
       "    .dataframe tbody tr th:only-of-type {\n",
       "        vertical-align: middle;\n",
       "    }\n",
       "\n",
       "    .dataframe tbody tr th {\n",
       "        vertical-align: top;\n",
       "    }\n",
       "\n",
       "    .dataframe thead th {\n",
       "        text-align: right;\n",
       "    }\n",
       "</style>\n",
       "<table border=\"1\" class=\"dataframe\">\n",
       "  <thead>\n",
       "    <tr style=\"text-align: right;\">\n",
       "      <th></th>\n",
       "      <th>SensorID</th>\n",
       "      <th>Location</th>\n",
       "      <th>Temperature</th>\n",
       "      <th>Humidity</th>\n",
       "      <th>Status</th>\n",
       "    </tr>\n",
       "  </thead>\n",
       "  <tbody>\n",
       "    <tr>\n",
       "      <th>0</th>\n",
       "      <td>1001</td>\n",
       "      <td>North Wing</td>\n",
       "      <td>NaN</td>\n",
       "      <td>44.9</td>\n",
       "      <td>OK</td>\n",
       "    </tr>\n",
       "    <tr>\n",
       "      <th>1</th>\n",
       "      <td>1002</td>\n",
       "      <td>Central Hub</td>\n",
       "      <td>NaN</td>\n",
       "      <td>40.6</td>\n",
       "      <td>Warning</td>\n",
       "    </tr>\n",
       "    <tr>\n",
       "      <th>2</th>\n",
       "      <td>1003</td>\n",
       "      <td>South Wing</td>\n",
       "      <td>25.1</td>\n",
       "      <td>nan</td>\n",
       "      <td>NaN</td>\n",
       "    </tr>\n",
       "    <tr>\n",
       "      <th>3</th>\n",
       "      <td>1004</td>\n",
       "      <td>West Wing</td>\n",
       "      <td>nan</td>\n",
       "      <td>45.6</td>\n",
       "      <td>Warning</td>\n",
       "    </tr>\n",
       "    <tr>\n",
       "      <th>4</th>\n",
       "      <td>1005</td>\n",
       "      <td>West Wing</td>\n",
       "      <td>23.4</td>\n",
       "      <td>NaN</td>\n",
       "      <td>OK</td>\n",
       "    </tr>\n",
       "  </tbody>\n",
       "</table>\n",
       "</div>"
      ]
     },
     "execution_count": 1686,
     "metadata": {},
     "output_type": "execute_result"
    }
   ],
   "execution_count": 1686
  },
  {
   "metadata": {},
   "cell_type": "markdown",
   "source": [
    "### 2. **Convert the dataset into a dictionary where each key is the column name and values are lists, but skip any row with missing values.**\n",
    "\n",
    "> Goal: Practice row validation before DataFrame construction."
   ],
   "id": "899865fc1d329263"
  },
  {
   "metadata": {
    "ExecuteTime": {
     "end_time": "2025-05-09T22:25:28.360208Z",
     "start_time": "2025-05-09T22:25:28.357299Z"
    }
   },
   "cell_type": "code",
   "source": [
    "with open('sensor_data_pipe.txt', newline='') as f:\n",
    "    reader = csv.reader(f, delimiter='|')\n",
    "    rows = list(reader)"
   ],
   "id": "95b6c32d074daf63",
   "outputs": [],
   "execution_count": 1687
  },
  {
   "metadata": {
    "ExecuteTime": {
     "end_time": "2025-05-09T22:25:28.438809Z",
     "start_time": "2025-05-09T22:25:28.436060Z"
    }
   },
   "cell_type": "code",
   "source": [
    "cleaned_rows = []\n",
    "for row in rows:\n",
    "    has_data = False\n",
    "    for cell in row:\n",
    "        if cell.strip(): \n",
    "            has_data = True\n",
    "            break\n",
    "    if has_data:\n",
    "        cleaned_rows.append(row)            "
   ],
   "id": "eff9764840c9141",
   "outputs": [],
   "execution_count": 1688
  },
  {
   "metadata": {
    "ExecuteTime": {
     "end_time": "2025-05-09T22:25:28.611225Z",
     "start_time": "2025-05-09T22:25:28.608376Z"
    }
   },
   "cell_type": "code",
   "source": "columns = cleaned_rows[0]",
   "id": "f17c3ec48848efd4",
   "outputs": [],
   "execution_count": 1689
  },
  {
   "metadata": {
    "ExecuteTime": {
     "end_time": "2025-05-09T22:25:28.724076Z",
     "start_time": "2025-05-09T22:25:28.720561Z"
    }
   },
   "cell_type": "code",
   "source": "columns",
   "id": "85c60f28c264ecad",
   "outputs": [
    {
     "data": {
      "text/plain": [
       "['SensorID', 'Location', 'Temperature', 'Humidity', 'Status']"
      ]
     },
     "execution_count": 1690,
     "metadata": {},
     "output_type": "execute_result"
    }
   ],
   "execution_count": 1690
  },
  {
   "metadata": {
    "ExecuteTime": {
     "end_time": "2025-05-09T22:25:28.863997Z",
     "start_time": "2025-05-09T22:25:28.861521Z"
    }
   },
   "cell_type": "code",
   "source": "data_rows = cleaned_rows[1:]",
   "id": "20fa736d4c90a150",
   "outputs": [],
   "execution_count": 1691
  },
  {
   "metadata": {
    "ExecuteTime": {
     "end_time": "2025-05-09T22:25:28.960068Z",
     "start_time": "2025-05-09T22:25:28.956557Z"
    }
   },
   "cell_type": "code",
   "source": "data_rows[:5]",
   "id": "72c6b0876a83ea1b",
   "outputs": [
    {
     "data": {
      "text/plain": [
       "[['1001', 'North Wing', '', '44.9', 'OK'],\n",
       " ['1002', 'Central Hub', '', '40.6', 'Warning'],\n",
       " ['1003', 'South Wing', '25.1', 'nan', ''],\n",
       " ['1004', 'West Wing', 'nan', '45.6', 'Warning'],\n",
       " ['1005', 'West Wing', '23.4', '', 'OK']]"
      ]
     },
     "execution_count": 1692,
     "metadata": {},
     "output_type": "execute_result"
    }
   ],
   "execution_count": 1692
  },
  {
   "metadata": {
    "ExecuteTime": {
     "end_time": "2025-05-09T22:25:29.098029Z",
     "start_time": "2025-05-09T22:25:29.095590Z"
    }
   },
   "cell_type": "code",
   "source": "cleaned_dict = {}",
   "id": "fb6d550b5130e436",
   "outputs": [],
   "execution_count": 1693
  },
  {
   "metadata": {
    "ExecuteTime": {
     "end_time": "2025-05-09T22:25:29.223925Z",
     "start_time": "2025-05-09T22:25:29.221805Z"
    }
   },
   "cell_type": "code",
   "source": [
    "for column in columns:\n",
    "    cleaned_dict[column] = []"
   ],
   "id": "e912ecac680486e",
   "outputs": [],
   "execution_count": 1694
  },
  {
   "metadata": {
    "ExecuteTime": {
     "end_time": "2025-05-09T22:25:29.336268Z",
     "start_time": "2025-05-09T22:25:29.333332Z"
    }
   },
   "cell_type": "code",
   "source": [
    "for row in data_rows:\n",
    "    for i, column in enumerate(columns):\n",
    "        cleaned_dict[column].append(row[i])"
   ],
   "id": "c12c901053429a8e",
   "outputs": [],
   "execution_count": 1695
  },
  {
   "metadata": {
    "ExecuteTime": {
     "end_time": "2025-05-09T22:25:29.399413Z",
     "start_time": "2025-05-09T22:25:29.394974Z"
    }
   },
   "cell_type": "code",
   "source": "cleaned_dict",
   "id": "1e0675c6198e4fc7",
   "outputs": [
    {
     "data": {
      "text/plain": [
       "{'SensorID': ['1001',\n",
       "  '1002',\n",
       "  '1003',\n",
       "  '1004',\n",
       "  '1005',\n",
       "  '1006',\n",
       "  '1007',\n",
       "  '1008',\n",
       "  '1009',\n",
       "  '1010',\n",
       "  '1011',\n",
       "  '1012',\n",
       "  '1013',\n",
       "  '1014',\n",
       "  '1015',\n",
       "  '1016',\n",
       "  '1017',\n",
       "  '1018',\n",
       "  '1019',\n",
       "  '1020',\n",
       "  '1021',\n",
       "  '1022',\n",
       "  '1023',\n",
       "  '1024',\n",
       "  '1025',\n",
       "  '1026',\n",
       "  '1027',\n",
       "  '1028',\n",
       "  '1029',\n",
       "  '1030',\n",
       "  '1031',\n",
       "  '1032',\n",
       "  '1033',\n",
       "  '1034',\n",
       "  '1035',\n",
       "  '1036',\n",
       "  '1037',\n",
       "  '1038',\n",
       "  '1039',\n",
       "  '1040',\n",
       "  '1041',\n",
       "  '1042',\n",
       "  '1043',\n",
       "  '1044',\n",
       "  '1045',\n",
       "  '1046',\n",
       "  '1047',\n",
       "  '1048',\n",
       "  '1049',\n",
       "  '1050'],\n",
       " 'Location': ['North Wing',\n",
       "  'Central Hub',\n",
       "  'South Wing',\n",
       "  'West Wing',\n",
       "  'West Wing',\n",
       "  'North Wing',\n",
       "  'North Wing',\n",
       "  'Central Hub',\n",
       "  'South Wing',\n",
       "  'South Wing',\n",
       "  'South Wing',\n",
       "  'Central Hub',\n",
       "  'West Wing',\n",
       "  'North Wing',\n",
       "  'North Wing',\n",
       "  'West Wing',\n",
       "  'South Wing',\n",
       "  'Central Hub',\n",
       "  'West Wing',\n",
       "  'West Wing',\n",
       "  'East Wing',\n",
       "  'East Wing',\n",
       "  'West Wing',\n",
       "  'South Wing',\n",
       "  'Central Hub',\n",
       "  'North Wing',\n",
       "  'South Wing',\n",
       "  'North Wing',\n",
       "  'Central Hub',\n",
       "  'Central Hub',\n",
       "  'East Wing',\n",
       "  'North Wing',\n",
       "  'North Wing',\n",
       "  'East Wing',\n",
       "  'Central Hub',\n",
       "  'West Wing',\n",
       "  'West Wing',\n",
       "  'North Wing',\n",
       "  'South Wing',\n",
       "  'West Wing',\n",
       "  'North Wing',\n",
       "  'South Wing',\n",
       "  'South Wing',\n",
       "  'West Wing',\n",
       "  'South Wing',\n",
       "  'North Wing',\n",
       "  'Central Hub',\n",
       "  'Central Hub',\n",
       "  'Central Hub',\n",
       "  'Central Hub'],\n",
       " 'Temperature': ['',\n",
       "  '',\n",
       "  '25.1',\n",
       "  'nan',\n",
       "  '23.4',\n",
       "  '',\n",
       "  'nan',\n",
       "  'nan',\n",
       "  '27.0',\n",
       "  '',\n",
       "  '23.7',\n",
       "  'nan',\n",
       "  'nan',\n",
       "  '22.3',\n",
       "  'nan',\n",
       "  'nan',\n",
       "  'nan',\n",
       "  '24.0',\n",
       "  '20.9',\n",
       "  '',\n",
       "  '29.7',\n",
       "  '',\n",
       "  'nan',\n",
       "  '25.1',\n",
       "  '',\n",
       "  '',\n",
       "  'nan',\n",
       "  'nan',\n",
       "  'nan',\n",
       "  'nan',\n",
       "  'nan',\n",
       "  'nan',\n",
       "  'nan',\n",
       "  '20.7',\n",
       "  'nan',\n",
       "  '21.9',\n",
       "  'nan',\n",
       "  '',\n",
       "  '',\n",
       "  '22.5',\n",
       "  'nan',\n",
       "  '',\n",
       "  '',\n",
       "  'nan',\n",
       "  '21.9',\n",
       "  '27.5',\n",
       "  'nan',\n",
       "  '20.7',\n",
       "  'nan',\n",
       "  ''],\n",
       " 'Humidity': ['44.9',\n",
       "  '40.6',\n",
       "  'nan',\n",
       "  '45.6',\n",
       "  '',\n",
       "  'nan',\n",
       "  '',\n",
       "  '',\n",
       "  '',\n",
       "  'nan',\n",
       "  'nan',\n",
       "  '54.6',\n",
       "  '53.8',\n",
       "  '',\n",
       "  '',\n",
       "  '',\n",
       "  'nan',\n",
       "  '59.9',\n",
       "  '57.2',\n",
       "  '',\n",
       "  '53.6',\n",
       "  '',\n",
       "  '',\n",
       "  '',\n",
       "  'nan',\n",
       "  '',\n",
       "  '58.9',\n",
       "  '55.3',\n",
       "  '',\n",
       "  '',\n",
       "  '49.0',\n",
       "  'nan',\n",
       "  '41.2',\n",
       "  '',\n",
       "  '51.5',\n",
       "  '',\n",
       "  'nan',\n",
       "  '56.0',\n",
       "  '42.8',\n",
       "  'nan',\n",
       "  '56.7',\n",
       "  '',\n",
       "  '',\n",
       "  'nan',\n",
       "  'nan',\n",
       "  '',\n",
       "  '41.6',\n",
       "  'nan',\n",
       "  'nan',\n",
       "  'nan'],\n",
       " 'Status': ['OK',\n",
       "  'Warning',\n",
       "  '',\n",
       "  'Warning',\n",
       "  'OK',\n",
       "  'Critical',\n",
       "  'OK',\n",
       "  '',\n",
       "  'OK',\n",
       "  'Critical',\n",
       "  'OK',\n",
       "  '',\n",
       "  'Critical',\n",
       "  'Critical',\n",
       "  'Warning',\n",
       "  'Warning',\n",
       "  '',\n",
       "  '',\n",
       "  'Warning',\n",
       "  '',\n",
       "  '',\n",
       "  'Warning',\n",
       "  '',\n",
       "  '',\n",
       "  '',\n",
       "  'Critical',\n",
       "  '',\n",
       "  '',\n",
       "  'Warning',\n",
       "  '',\n",
       "  'Warning',\n",
       "  'Warning',\n",
       "  'OK',\n",
       "  'Warning',\n",
       "  '',\n",
       "  '',\n",
       "  'OK',\n",
       "  'Warning',\n",
       "  'Critical',\n",
       "  'OK',\n",
       "  'Warning',\n",
       "  'OK',\n",
       "  'Critical',\n",
       "  '',\n",
       "  '',\n",
       "  '',\n",
       "  'OK',\n",
       "  'Warning',\n",
       "  '',\n",
       "  'Critical']}"
      ]
     },
     "execution_count": 1696,
     "metadata": {},
     "output_type": "execute_result"
    }
   ],
   "execution_count": 1696
  },
  {
   "metadata": {
    "ExecuteTime": {
     "end_time": "2025-05-09T22:25:29.493836Z",
     "start_time": "2025-05-09T22:25:29.490810Z"
    }
   },
   "cell_type": "code",
   "source": "df = pd.DataFrame(cleaned_dict, columns=columns)",
   "id": "40cff99982c95218",
   "outputs": [],
   "execution_count": 1697
  },
  {
   "metadata": {
    "ExecuteTime": {
     "end_time": "2025-05-09T22:25:29.591275Z",
     "start_time": "2025-05-09T22:25:29.584669Z"
    }
   },
   "cell_type": "code",
   "source": "df.head()",
   "id": "166e33cc06d20d3",
   "outputs": [
    {
     "data": {
      "text/plain": [
       "  SensorID     Location Temperature Humidity   Status\n",
       "0     1001   North Wing                 44.9       OK\n",
       "1     1002  Central Hub                 40.6  Warning\n",
       "2     1003   South Wing        25.1      nan         \n",
       "3     1004    West Wing         nan     45.6  Warning\n",
       "4     1005    West Wing        23.4                OK"
      ],
      "text/html": [
       "<div>\n",
       "<style scoped>\n",
       "    .dataframe tbody tr th:only-of-type {\n",
       "        vertical-align: middle;\n",
       "    }\n",
       "\n",
       "    .dataframe tbody tr th {\n",
       "        vertical-align: top;\n",
       "    }\n",
       "\n",
       "    .dataframe thead th {\n",
       "        text-align: right;\n",
       "    }\n",
       "</style>\n",
       "<table border=\"1\" class=\"dataframe\">\n",
       "  <thead>\n",
       "    <tr style=\"text-align: right;\">\n",
       "      <th></th>\n",
       "      <th>SensorID</th>\n",
       "      <th>Location</th>\n",
       "      <th>Temperature</th>\n",
       "      <th>Humidity</th>\n",
       "      <th>Status</th>\n",
       "    </tr>\n",
       "  </thead>\n",
       "  <tbody>\n",
       "    <tr>\n",
       "      <th>0</th>\n",
       "      <td>1001</td>\n",
       "      <td>North Wing</td>\n",
       "      <td></td>\n",
       "      <td>44.9</td>\n",
       "      <td>OK</td>\n",
       "    </tr>\n",
       "    <tr>\n",
       "      <th>1</th>\n",
       "      <td>1002</td>\n",
       "      <td>Central Hub</td>\n",
       "      <td></td>\n",
       "      <td>40.6</td>\n",
       "      <td>Warning</td>\n",
       "    </tr>\n",
       "    <tr>\n",
       "      <th>2</th>\n",
       "      <td>1003</td>\n",
       "      <td>South Wing</td>\n",
       "      <td>25.1</td>\n",
       "      <td>nan</td>\n",
       "      <td></td>\n",
       "    </tr>\n",
       "    <tr>\n",
       "      <th>3</th>\n",
       "      <td>1004</td>\n",
       "      <td>West Wing</td>\n",
       "      <td>nan</td>\n",
       "      <td>45.6</td>\n",
       "      <td>Warning</td>\n",
       "    </tr>\n",
       "    <tr>\n",
       "      <th>4</th>\n",
       "      <td>1005</td>\n",
       "      <td>West Wing</td>\n",
       "      <td>23.4</td>\n",
       "      <td></td>\n",
       "      <td>OK</td>\n",
       "    </tr>\n",
       "  </tbody>\n",
       "</table>\n",
       "</div>"
      ]
     },
     "execution_count": 1698,
     "metadata": {},
     "output_type": "execute_result"
    }
   ],
   "execution_count": 1698
  },
  {
   "metadata": {},
   "cell_type": "markdown",
   "source": [
    "### 3. **Count how many rows have empty strings in *any* of the first three columns using `csv.reader()`.**\n",
    "\n",
    "> Hint: Use conditional checks per row."
   ],
   "id": "c7ca32305db2d3fa"
  },
  {
   "metadata": {
    "ExecuteTime": {
     "end_time": "2025-05-09T22:25:29.714231Z",
     "start_time": "2025-05-09T22:25:29.711805Z"
    }
   },
   "cell_type": "code",
   "source": [
    "with open('sensor_data_pipe.txt', newline='') as f:\n",
    "    reader = csv.reader(f, delimiter='|')\n",
    "    rows = list(reader)"
   ],
   "id": "39b3667b1c1ee23",
   "outputs": [],
   "execution_count": 1699
  },
  {
   "metadata": {
    "ExecuteTime": {
     "end_time": "2025-05-09T22:25:29.809065Z",
     "start_time": "2025-05-09T22:25:29.806593Z"
    }
   },
   "cell_type": "code",
   "source": "data_rows = rows[1:]",
   "id": "93bfd70ec26dcbf5",
   "outputs": [],
   "execution_count": 1700
  },
  {
   "metadata": {
    "ExecuteTime": {
     "end_time": "2025-05-09T22:25:29.934713Z",
     "start_time": "2025-05-09T22:25:29.931966Z"
    }
   },
   "cell_type": "code",
   "source": "empty_count = 0",
   "id": "302b1afc2967f970",
   "outputs": [],
   "execution_count": 1701
  },
  {
   "metadata": {
    "ExecuteTime": {
     "end_time": "2025-05-09T22:25:30.013425Z",
     "start_time": "2025-05-09T22:25:30.010702Z"
    }
   },
   "cell_type": "code",
   "source": [
    "for row in data_rows:\n",
    "    if len(row) >= 3:\n",
    "        if row[0].strip() == '' or row[1].strip() == '' or row[2].strip() == '':\n",
    "            empty_count += 1"
   ],
   "id": "a59091648a2c9e84",
   "outputs": [],
   "execution_count": 1702
  },
  {
   "metadata": {
    "ExecuteTime": {
     "end_time": "2025-05-09T22:25:30.155903Z",
     "start_time": "2025-05-09T22:25:30.152373Z"
    }
   },
   "cell_type": "code",
   "source": "empty_count",
   "id": "412b7a1b241cdd10",
   "outputs": [
    {
     "data": {
      "text/plain": [
       "13"
      ]
     },
     "execution_count": 1703,
     "metadata": {},
     "output_type": "execute_result"
    }
   ],
   "execution_count": 1703
  },
  {
   "metadata": {},
   "cell_type": "markdown",
   "source": [
    "### 4. **Read the data with `csv.reader()` and convert numeric fields to floats, using `np.nan` for invalid conversions.**\n",
    "\n",
    "> Goal: Manual type cleaning and conversion."
   ],
   "id": "c51468dc0c42c63e"
  },
  {
   "metadata": {
    "ExecuteTime": {
     "end_time": "2025-05-09T22:25:30.215651Z",
     "start_time": "2025-05-09T22:25:30.212739Z"
    }
   },
   "cell_type": "code",
   "source": [
    "with open('sensor_data_pipe.txt', newline='') as f:\n",
    "    reader = csv.reader(f, delimiter='|')\n",
    "    rows = list(reader)"
   ],
   "id": "9de100a13ac72255",
   "outputs": [],
   "execution_count": 1704
  },
  {
   "metadata": {
    "ExecuteTime": {
     "end_time": "2025-05-09T22:25:30.311029Z",
     "start_time": "2025-05-09T22:25:30.308030Z"
    }
   },
   "cell_type": "code",
   "source": [
    "cleaned_rows = []\n",
    "for row in rows:\n",
    "    has_data = False\n",
    "    for cell in row:\n",
    "        if cell.strip(): \n",
    "            has_data = True\n",
    "    if has_data:\n",
    "        cleaned_rows.append(row)"
   ],
   "id": "19ee24f94dba4f7d",
   "outputs": [],
   "execution_count": 1705
  },
  {
   "metadata": {
    "ExecuteTime": {
     "end_time": "2025-05-09T22:25:30.389385Z",
     "start_time": "2025-05-09T22:25:30.385898Z"
    }
   },
   "cell_type": "code",
   "source": [
    "data_rows = cleaned_rows[1:]\n",
    "data_rows[:5]        "
   ],
   "id": "423085c453ed5198",
   "outputs": [
    {
     "data": {
      "text/plain": [
       "[['1001', 'North Wing', '', '44.9', 'OK'],\n",
       " ['1002', 'Central Hub', '', '40.6', 'Warning'],\n",
       " ['1003', 'South Wing', '25.1', 'nan', ''],\n",
       " ['1004', 'West Wing', 'nan', '45.6', 'Warning'],\n",
       " ['1005', 'West Wing', '23.4', '', 'OK']]"
      ]
     },
     "execution_count": 1706,
     "metadata": {},
     "output_type": "execute_result"
    }
   ],
   "execution_count": 1706
  },
  {
   "metadata": {
    "ExecuteTime": {
     "end_time": "2025-05-09T22:25:30.510352Z",
     "start_time": "2025-05-09T22:25:30.506132Z"
    }
   },
   "cell_type": "code",
   "source": "data = pd.read_csv('sensor_data_pipe.txt', sep='|')",
   "id": "30b091533db54493",
   "outputs": [],
   "execution_count": 1707
  },
  {
   "metadata": {
    "ExecuteTime": {
     "end_time": "2025-05-09T22:25:30.588346Z",
     "start_time": "2025-05-09T22:25:30.585301Z"
    }
   },
   "cell_type": "code",
   "source": "df = pd.DataFrame(data, columns=columns)",
   "id": "5c0ef254c4418618",
   "outputs": [],
   "execution_count": 1708
  },
  {
   "metadata": {
    "ExecuteTime": {
     "end_time": "2025-05-09T22:25:30.713390Z",
     "start_time": "2025-05-09T22:25:30.708249Z"
    }
   },
   "cell_type": "code",
   "source": "df.head()",
   "id": "39274d3e8405e121",
   "outputs": [
    {
     "data": {
      "text/plain": [
       "   SensorID     Location  Temperature  Humidity   Status\n",
       "0      1001   North Wing          NaN      44.9       OK\n",
       "1      1002  Central Hub          NaN      40.6  Warning\n",
       "2      1003   South Wing         25.1       NaN      NaN\n",
       "3      1004    West Wing          NaN      45.6  Warning\n",
       "4      1005    West Wing         23.4       NaN       OK"
      ],
      "text/html": [
       "<div>\n",
       "<style scoped>\n",
       "    .dataframe tbody tr th:only-of-type {\n",
       "        vertical-align: middle;\n",
       "    }\n",
       "\n",
       "    .dataframe tbody tr th {\n",
       "        vertical-align: top;\n",
       "    }\n",
       "\n",
       "    .dataframe thead th {\n",
       "        text-align: right;\n",
       "    }\n",
       "</style>\n",
       "<table border=\"1\" class=\"dataframe\">\n",
       "  <thead>\n",
       "    <tr style=\"text-align: right;\">\n",
       "      <th></th>\n",
       "      <th>SensorID</th>\n",
       "      <th>Location</th>\n",
       "      <th>Temperature</th>\n",
       "      <th>Humidity</th>\n",
       "      <th>Status</th>\n",
       "    </tr>\n",
       "  </thead>\n",
       "  <tbody>\n",
       "    <tr>\n",
       "      <th>0</th>\n",
       "      <td>1001</td>\n",
       "      <td>North Wing</td>\n",
       "      <td>NaN</td>\n",
       "      <td>44.9</td>\n",
       "      <td>OK</td>\n",
       "    </tr>\n",
       "    <tr>\n",
       "      <th>1</th>\n",
       "      <td>1002</td>\n",
       "      <td>Central Hub</td>\n",
       "      <td>NaN</td>\n",
       "      <td>40.6</td>\n",
       "      <td>Warning</td>\n",
       "    </tr>\n",
       "    <tr>\n",
       "      <th>2</th>\n",
       "      <td>1003</td>\n",
       "      <td>South Wing</td>\n",
       "      <td>25.1</td>\n",
       "      <td>NaN</td>\n",
       "      <td>NaN</td>\n",
       "    </tr>\n",
       "    <tr>\n",
       "      <th>3</th>\n",
       "      <td>1004</td>\n",
       "      <td>West Wing</td>\n",
       "      <td>NaN</td>\n",
       "      <td>45.6</td>\n",
       "      <td>Warning</td>\n",
       "    </tr>\n",
       "    <tr>\n",
       "      <th>4</th>\n",
       "      <td>1005</td>\n",
       "      <td>West Wing</td>\n",
       "      <td>23.4</td>\n",
       "      <td>NaN</td>\n",
       "      <td>OK</td>\n",
       "    </tr>\n",
       "  </tbody>\n",
       "</table>\n",
       "</div>"
      ]
     },
     "execution_count": 1709,
     "metadata": {},
     "output_type": "execute_result"
    }
   ],
   "execution_count": 1709
  },
  {
   "metadata": {
    "ExecuteTime": {
     "end_time": "2025-05-09T22:25:30.758699Z",
     "start_time": "2025-05-09T22:25:30.755481Z"
    }
   },
   "cell_type": "code",
   "source": "numeric_columns = df.select_dtypes(include=[np.number]).columns.difference(['SensorID']).to_list()",
   "id": "b3e61fab5275175b",
   "outputs": [],
   "execution_count": 1710
  },
  {
   "metadata": {
    "ExecuteTime": {
     "end_time": "2025-05-09T22:25:30.869838Z",
     "start_time": "2025-05-09T22:25:30.865191Z"
    }
   },
   "cell_type": "code",
   "source": "numeric_columns",
   "id": "7ab3ea40fec94f8c",
   "outputs": [
    {
     "data": {
      "text/plain": [
       "['Humidity', 'Temperature']"
      ]
     },
     "execution_count": 1711,
     "metadata": {},
     "output_type": "execute_result"
    }
   ],
   "execution_count": 1711
  },
  {
   "metadata": {
    "ExecuteTime": {
     "end_time": "2025-05-09T22:25:30.993636Z",
     "start_time": "2025-05-09T22:25:30.990653Z"
    }
   },
   "cell_type": "code",
   "source": [
    "numeric_indices = []\n",
    "for column in numeric_columns:\n",
    "    numeric_indices.append(header.index(column))"
   ],
   "id": "54f77f85b6978bc",
   "outputs": [],
   "execution_count": 1712
  },
  {
   "metadata": {
    "ExecuteTime": {
     "end_time": "2025-05-09T22:25:31.166861Z",
     "start_time": "2025-05-09T22:25:31.163364Z"
    }
   },
   "cell_type": "code",
   "source": "numeric_indices",
   "id": "92173caaceab3a47",
   "outputs": [
    {
     "data": {
      "text/plain": [
       "[3, 2]"
      ]
     },
     "execution_count": 1713,
     "metadata": {},
     "output_type": "execute_result"
    }
   ],
   "execution_count": 1713
  },
  {
   "metadata": {
    "ExecuteTime": {
     "end_time": "2025-05-09T22:25:31.292982Z",
     "start_time": "2025-05-09T22:25:31.289683Z"
    }
   },
   "cell_type": "code",
   "source": [
    "converted_rows = []\n",
    "for row in data_rows:\n",
    "    cleaned_row = []\n",
    "    for i, cell in enumerate(row):\n",
    "        if i in numeric_indices:\n",
    "            try:\n",
    "                cleaned_row.append(float(cell))\n",
    "            except ValueError:\n",
    "                cleaned_row.append(np.nan)\n",
    "        else:\n",
    "            cleaned_row.append(cell.strip() if cell.strip() else np.nan)\n",
    "    converted_rows.append(cleaned_row)"
   ],
   "id": "cd8c932605bb863d",
   "outputs": [],
   "execution_count": 1714
  },
  {
   "metadata": {
    "ExecuteTime": {
     "end_time": "2025-05-09T22:25:31.406027Z",
     "start_time": "2025-05-09T22:25:31.402148Z"
    }
   },
   "cell_type": "code",
   "source": "df_cleaned_rows = pd.DataFrame(converted_rows, columns=columns)",
   "id": "84012e4cece650bb",
   "outputs": [],
   "execution_count": 1715
  },
  {
   "metadata": {
    "ExecuteTime": {
     "end_time": "2025-05-09T22:25:31.490389Z",
     "start_time": "2025-05-09T22:25:31.480968Z"
    }
   },
   "cell_type": "code",
   "source": "df_cleaned_rows",
   "id": "db12aaeb5029b62c",
   "outputs": [
    {
     "data": {
      "text/plain": [
       "   SensorID     Location  Temperature  Humidity    Status\n",
       "0      1001   North Wing          NaN      44.9        OK\n",
       "1      1002  Central Hub          NaN      40.6   Warning\n",
       "2      1003   South Wing         25.1       NaN       NaN\n",
       "3      1004    West Wing          NaN      45.6   Warning\n",
       "4      1005    West Wing         23.4       NaN        OK\n",
       "5      1006   North Wing          NaN       NaN  Critical\n",
       "6      1007   North Wing          NaN       NaN        OK\n",
       "7      1008  Central Hub          NaN       NaN       NaN\n",
       "8      1009   South Wing         27.0       NaN        OK\n",
       "9      1010   South Wing          NaN       NaN  Critical\n",
       "10     1011   South Wing         23.7       NaN        OK\n",
       "11     1012  Central Hub          NaN      54.6       NaN\n",
       "12     1013    West Wing          NaN      53.8  Critical\n",
       "13     1014   North Wing         22.3       NaN  Critical\n",
       "14     1015   North Wing          NaN       NaN   Warning\n",
       "15     1016    West Wing          NaN       NaN   Warning\n",
       "16     1017   South Wing          NaN       NaN       NaN\n",
       "17     1018  Central Hub         24.0      59.9       NaN\n",
       "18     1019    West Wing         20.9      57.2   Warning\n",
       "19     1020    West Wing          NaN       NaN       NaN\n",
       "20     1021    East Wing         29.7      53.6       NaN\n",
       "21     1022    East Wing          NaN       NaN   Warning\n",
       "22     1023    West Wing          NaN       NaN       NaN\n",
       "23     1024   South Wing         25.1       NaN       NaN\n",
       "24     1025  Central Hub          NaN       NaN       NaN\n",
       "25     1026   North Wing          NaN       NaN  Critical\n",
       "26     1027   South Wing          NaN      58.9       NaN\n",
       "27     1028   North Wing          NaN      55.3       NaN\n",
       "28     1029  Central Hub          NaN       NaN   Warning\n",
       "29     1030  Central Hub          NaN       NaN       NaN\n",
       "30     1031    East Wing          NaN      49.0   Warning\n",
       "31     1032   North Wing          NaN       NaN   Warning\n",
       "32     1033   North Wing          NaN      41.2        OK\n",
       "33     1034    East Wing         20.7       NaN   Warning\n",
       "34     1035  Central Hub          NaN      51.5       NaN\n",
       "35     1036    West Wing         21.9       NaN       NaN\n",
       "36     1037    West Wing          NaN       NaN        OK\n",
       "37     1038   North Wing          NaN      56.0   Warning\n",
       "38     1039   South Wing          NaN      42.8  Critical\n",
       "39     1040    West Wing         22.5       NaN        OK\n",
       "40     1041   North Wing          NaN      56.7   Warning\n",
       "41     1042   South Wing          NaN       NaN        OK\n",
       "42     1043   South Wing          NaN       NaN  Critical\n",
       "43     1044    West Wing          NaN       NaN       NaN\n",
       "44     1045   South Wing         21.9       NaN       NaN\n",
       "45     1046   North Wing         27.5       NaN       NaN\n",
       "46     1047  Central Hub          NaN      41.6        OK\n",
       "47     1048  Central Hub         20.7       NaN   Warning\n",
       "48     1049  Central Hub          NaN       NaN       NaN\n",
       "49     1050  Central Hub          NaN       NaN  Critical"
      ],
      "text/html": [
       "<div>\n",
       "<style scoped>\n",
       "    .dataframe tbody tr th:only-of-type {\n",
       "        vertical-align: middle;\n",
       "    }\n",
       "\n",
       "    .dataframe tbody tr th {\n",
       "        vertical-align: top;\n",
       "    }\n",
       "\n",
       "    .dataframe thead th {\n",
       "        text-align: right;\n",
       "    }\n",
       "</style>\n",
       "<table border=\"1\" class=\"dataframe\">\n",
       "  <thead>\n",
       "    <tr style=\"text-align: right;\">\n",
       "      <th></th>\n",
       "      <th>SensorID</th>\n",
       "      <th>Location</th>\n",
       "      <th>Temperature</th>\n",
       "      <th>Humidity</th>\n",
       "      <th>Status</th>\n",
       "    </tr>\n",
       "  </thead>\n",
       "  <tbody>\n",
       "    <tr>\n",
       "      <th>0</th>\n",
       "      <td>1001</td>\n",
       "      <td>North Wing</td>\n",
       "      <td>NaN</td>\n",
       "      <td>44.9</td>\n",
       "      <td>OK</td>\n",
       "    </tr>\n",
       "    <tr>\n",
       "      <th>1</th>\n",
       "      <td>1002</td>\n",
       "      <td>Central Hub</td>\n",
       "      <td>NaN</td>\n",
       "      <td>40.6</td>\n",
       "      <td>Warning</td>\n",
       "    </tr>\n",
       "    <tr>\n",
       "      <th>2</th>\n",
       "      <td>1003</td>\n",
       "      <td>South Wing</td>\n",
       "      <td>25.1</td>\n",
       "      <td>NaN</td>\n",
       "      <td>NaN</td>\n",
       "    </tr>\n",
       "    <tr>\n",
       "      <th>3</th>\n",
       "      <td>1004</td>\n",
       "      <td>West Wing</td>\n",
       "      <td>NaN</td>\n",
       "      <td>45.6</td>\n",
       "      <td>Warning</td>\n",
       "    </tr>\n",
       "    <tr>\n",
       "      <th>4</th>\n",
       "      <td>1005</td>\n",
       "      <td>West Wing</td>\n",
       "      <td>23.4</td>\n",
       "      <td>NaN</td>\n",
       "      <td>OK</td>\n",
       "    </tr>\n",
       "    <tr>\n",
       "      <th>5</th>\n",
       "      <td>1006</td>\n",
       "      <td>North Wing</td>\n",
       "      <td>NaN</td>\n",
       "      <td>NaN</td>\n",
       "      <td>Critical</td>\n",
       "    </tr>\n",
       "    <tr>\n",
       "      <th>6</th>\n",
       "      <td>1007</td>\n",
       "      <td>North Wing</td>\n",
       "      <td>NaN</td>\n",
       "      <td>NaN</td>\n",
       "      <td>OK</td>\n",
       "    </tr>\n",
       "    <tr>\n",
       "      <th>7</th>\n",
       "      <td>1008</td>\n",
       "      <td>Central Hub</td>\n",
       "      <td>NaN</td>\n",
       "      <td>NaN</td>\n",
       "      <td>NaN</td>\n",
       "    </tr>\n",
       "    <tr>\n",
       "      <th>8</th>\n",
       "      <td>1009</td>\n",
       "      <td>South Wing</td>\n",
       "      <td>27.0</td>\n",
       "      <td>NaN</td>\n",
       "      <td>OK</td>\n",
       "    </tr>\n",
       "    <tr>\n",
       "      <th>9</th>\n",
       "      <td>1010</td>\n",
       "      <td>South Wing</td>\n",
       "      <td>NaN</td>\n",
       "      <td>NaN</td>\n",
       "      <td>Critical</td>\n",
       "    </tr>\n",
       "    <tr>\n",
       "      <th>10</th>\n",
       "      <td>1011</td>\n",
       "      <td>South Wing</td>\n",
       "      <td>23.7</td>\n",
       "      <td>NaN</td>\n",
       "      <td>OK</td>\n",
       "    </tr>\n",
       "    <tr>\n",
       "      <th>11</th>\n",
       "      <td>1012</td>\n",
       "      <td>Central Hub</td>\n",
       "      <td>NaN</td>\n",
       "      <td>54.6</td>\n",
       "      <td>NaN</td>\n",
       "    </tr>\n",
       "    <tr>\n",
       "      <th>12</th>\n",
       "      <td>1013</td>\n",
       "      <td>West Wing</td>\n",
       "      <td>NaN</td>\n",
       "      <td>53.8</td>\n",
       "      <td>Critical</td>\n",
       "    </tr>\n",
       "    <tr>\n",
       "      <th>13</th>\n",
       "      <td>1014</td>\n",
       "      <td>North Wing</td>\n",
       "      <td>22.3</td>\n",
       "      <td>NaN</td>\n",
       "      <td>Critical</td>\n",
       "    </tr>\n",
       "    <tr>\n",
       "      <th>14</th>\n",
       "      <td>1015</td>\n",
       "      <td>North Wing</td>\n",
       "      <td>NaN</td>\n",
       "      <td>NaN</td>\n",
       "      <td>Warning</td>\n",
       "    </tr>\n",
       "    <tr>\n",
       "      <th>15</th>\n",
       "      <td>1016</td>\n",
       "      <td>West Wing</td>\n",
       "      <td>NaN</td>\n",
       "      <td>NaN</td>\n",
       "      <td>Warning</td>\n",
       "    </tr>\n",
       "    <tr>\n",
       "      <th>16</th>\n",
       "      <td>1017</td>\n",
       "      <td>South Wing</td>\n",
       "      <td>NaN</td>\n",
       "      <td>NaN</td>\n",
       "      <td>NaN</td>\n",
       "    </tr>\n",
       "    <tr>\n",
       "      <th>17</th>\n",
       "      <td>1018</td>\n",
       "      <td>Central Hub</td>\n",
       "      <td>24.0</td>\n",
       "      <td>59.9</td>\n",
       "      <td>NaN</td>\n",
       "    </tr>\n",
       "    <tr>\n",
       "      <th>18</th>\n",
       "      <td>1019</td>\n",
       "      <td>West Wing</td>\n",
       "      <td>20.9</td>\n",
       "      <td>57.2</td>\n",
       "      <td>Warning</td>\n",
       "    </tr>\n",
       "    <tr>\n",
       "      <th>19</th>\n",
       "      <td>1020</td>\n",
       "      <td>West Wing</td>\n",
       "      <td>NaN</td>\n",
       "      <td>NaN</td>\n",
       "      <td>NaN</td>\n",
       "    </tr>\n",
       "    <tr>\n",
       "      <th>20</th>\n",
       "      <td>1021</td>\n",
       "      <td>East Wing</td>\n",
       "      <td>29.7</td>\n",
       "      <td>53.6</td>\n",
       "      <td>NaN</td>\n",
       "    </tr>\n",
       "    <tr>\n",
       "      <th>21</th>\n",
       "      <td>1022</td>\n",
       "      <td>East Wing</td>\n",
       "      <td>NaN</td>\n",
       "      <td>NaN</td>\n",
       "      <td>Warning</td>\n",
       "    </tr>\n",
       "    <tr>\n",
       "      <th>22</th>\n",
       "      <td>1023</td>\n",
       "      <td>West Wing</td>\n",
       "      <td>NaN</td>\n",
       "      <td>NaN</td>\n",
       "      <td>NaN</td>\n",
       "    </tr>\n",
       "    <tr>\n",
       "      <th>23</th>\n",
       "      <td>1024</td>\n",
       "      <td>South Wing</td>\n",
       "      <td>25.1</td>\n",
       "      <td>NaN</td>\n",
       "      <td>NaN</td>\n",
       "    </tr>\n",
       "    <tr>\n",
       "      <th>24</th>\n",
       "      <td>1025</td>\n",
       "      <td>Central Hub</td>\n",
       "      <td>NaN</td>\n",
       "      <td>NaN</td>\n",
       "      <td>NaN</td>\n",
       "    </tr>\n",
       "    <tr>\n",
       "      <th>25</th>\n",
       "      <td>1026</td>\n",
       "      <td>North Wing</td>\n",
       "      <td>NaN</td>\n",
       "      <td>NaN</td>\n",
       "      <td>Critical</td>\n",
       "    </tr>\n",
       "    <tr>\n",
       "      <th>26</th>\n",
       "      <td>1027</td>\n",
       "      <td>South Wing</td>\n",
       "      <td>NaN</td>\n",
       "      <td>58.9</td>\n",
       "      <td>NaN</td>\n",
       "    </tr>\n",
       "    <tr>\n",
       "      <th>27</th>\n",
       "      <td>1028</td>\n",
       "      <td>North Wing</td>\n",
       "      <td>NaN</td>\n",
       "      <td>55.3</td>\n",
       "      <td>NaN</td>\n",
       "    </tr>\n",
       "    <tr>\n",
       "      <th>28</th>\n",
       "      <td>1029</td>\n",
       "      <td>Central Hub</td>\n",
       "      <td>NaN</td>\n",
       "      <td>NaN</td>\n",
       "      <td>Warning</td>\n",
       "    </tr>\n",
       "    <tr>\n",
       "      <th>29</th>\n",
       "      <td>1030</td>\n",
       "      <td>Central Hub</td>\n",
       "      <td>NaN</td>\n",
       "      <td>NaN</td>\n",
       "      <td>NaN</td>\n",
       "    </tr>\n",
       "    <tr>\n",
       "      <th>30</th>\n",
       "      <td>1031</td>\n",
       "      <td>East Wing</td>\n",
       "      <td>NaN</td>\n",
       "      <td>49.0</td>\n",
       "      <td>Warning</td>\n",
       "    </tr>\n",
       "    <tr>\n",
       "      <th>31</th>\n",
       "      <td>1032</td>\n",
       "      <td>North Wing</td>\n",
       "      <td>NaN</td>\n",
       "      <td>NaN</td>\n",
       "      <td>Warning</td>\n",
       "    </tr>\n",
       "    <tr>\n",
       "      <th>32</th>\n",
       "      <td>1033</td>\n",
       "      <td>North Wing</td>\n",
       "      <td>NaN</td>\n",
       "      <td>41.2</td>\n",
       "      <td>OK</td>\n",
       "    </tr>\n",
       "    <tr>\n",
       "      <th>33</th>\n",
       "      <td>1034</td>\n",
       "      <td>East Wing</td>\n",
       "      <td>20.7</td>\n",
       "      <td>NaN</td>\n",
       "      <td>Warning</td>\n",
       "    </tr>\n",
       "    <tr>\n",
       "      <th>34</th>\n",
       "      <td>1035</td>\n",
       "      <td>Central Hub</td>\n",
       "      <td>NaN</td>\n",
       "      <td>51.5</td>\n",
       "      <td>NaN</td>\n",
       "    </tr>\n",
       "    <tr>\n",
       "      <th>35</th>\n",
       "      <td>1036</td>\n",
       "      <td>West Wing</td>\n",
       "      <td>21.9</td>\n",
       "      <td>NaN</td>\n",
       "      <td>NaN</td>\n",
       "    </tr>\n",
       "    <tr>\n",
       "      <th>36</th>\n",
       "      <td>1037</td>\n",
       "      <td>West Wing</td>\n",
       "      <td>NaN</td>\n",
       "      <td>NaN</td>\n",
       "      <td>OK</td>\n",
       "    </tr>\n",
       "    <tr>\n",
       "      <th>37</th>\n",
       "      <td>1038</td>\n",
       "      <td>North Wing</td>\n",
       "      <td>NaN</td>\n",
       "      <td>56.0</td>\n",
       "      <td>Warning</td>\n",
       "    </tr>\n",
       "    <tr>\n",
       "      <th>38</th>\n",
       "      <td>1039</td>\n",
       "      <td>South Wing</td>\n",
       "      <td>NaN</td>\n",
       "      <td>42.8</td>\n",
       "      <td>Critical</td>\n",
       "    </tr>\n",
       "    <tr>\n",
       "      <th>39</th>\n",
       "      <td>1040</td>\n",
       "      <td>West Wing</td>\n",
       "      <td>22.5</td>\n",
       "      <td>NaN</td>\n",
       "      <td>OK</td>\n",
       "    </tr>\n",
       "    <tr>\n",
       "      <th>40</th>\n",
       "      <td>1041</td>\n",
       "      <td>North Wing</td>\n",
       "      <td>NaN</td>\n",
       "      <td>56.7</td>\n",
       "      <td>Warning</td>\n",
       "    </tr>\n",
       "    <tr>\n",
       "      <th>41</th>\n",
       "      <td>1042</td>\n",
       "      <td>South Wing</td>\n",
       "      <td>NaN</td>\n",
       "      <td>NaN</td>\n",
       "      <td>OK</td>\n",
       "    </tr>\n",
       "    <tr>\n",
       "      <th>42</th>\n",
       "      <td>1043</td>\n",
       "      <td>South Wing</td>\n",
       "      <td>NaN</td>\n",
       "      <td>NaN</td>\n",
       "      <td>Critical</td>\n",
       "    </tr>\n",
       "    <tr>\n",
       "      <th>43</th>\n",
       "      <td>1044</td>\n",
       "      <td>West Wing</td>\n",
       "      <td>NaN</td>\n",
       "      <td>NaN</td>\n",
       "      <td>NaN</td>\n",
       "    </tr>\n",
       "    <tr>\n",
       "      <th>44</th>\n",
       "      <td>1045</td>\n",
       "      <td>South Wing</td>\n",
       "      <td>21.9</td>\n",
       "      <td>NaN</td>\n",
       "      <td>NaN</td>\n",
       "    </tr>\n",
       "    <tr>\n",
       "      <th>45</th>\n",
       "      <td>1046</td>\n",
       "      <td>North Wing</td>\n",
       "      <td>27.5</td>\n",
       "      <td>NaN</td>\n",
       "      <td>NaN</td>\n",
       "    </tr>\n",
       "    <tr>\n",
       "      <th>46</th>\n",
       "      <td>1047</td>\n",
       "      <td>Central Hub</td>\n",
       "      <td>NaN</td>\n",
       "      <td>41.6</td>\n",
       "      <td>OK</td>\n",
       "    </tr>\n",
       "    <tr>\n",
       "      <th>47</th>\n",
       "      <td>1048</td>\n",
       "      <td>Central Hub</td>\n",
       "      <td>20.7</td>\n",
       "      <td>NaN</td>\n",
       "      <td>Warning</td>\n",
       "    </tr>\n",
       "    <tr>\n",
       "      <th>48</th>\n",
       "      <td>1049</td>\n",
       "      <td>Central Hub</td>\n",
       "      <td>NaN</td>\n",
       "      <td>NaN</td>\n",
       "      <td>NaN</td>\n",
       "    </tr>\n",
       "    <tr>\n",
       "      <th>49</th>\n",
       "      <td>1050</td>\n",
       "      <td>Central Hub</td>\n",
       "      <td>NaN</td>\n",
       "      <td>NaN</td>\n",
       "      <td>Critical</td>\n",
       "    </tr>\n",
       "  </tbody>\n",
       "</table>\n",
       "</div>"
      ]
     },
     "execution_count": 1716,
     "metadata": {},
     "output_type": "execute_result"
    }
   ],
   "execution_count": 1716
  },
  {
   "metadata": {},
   "cell_type": "markdown",
   "source": [
    "### 5. **Build a dictionary using `csv.reader()` but remove leading and trailing spaces in all cells before storage.**\n",
    "\n",
    "> Goal: Practice using `str.strip()` during parsing."
   ],
   "id": "101def6e2acae225"
  },
  {
   "metadata": {
    "ExecuteTime": {
     "end_time": "2025-05-09T22:25:31.577153Z",
     "start_time": "2025-05-09T22:25:31.574032Z"
    }
   },
   "cell_type": "code",
   "source": [
    "with open('sensor_data_pipe.txt', newline='') as f:\n",
    "    reader = csv.reader(f, delimiter='|')\n",
    "    rows = list(reader)"
   ],
   "id": "bde3d4a7e7e666e6",
   "outputs": [],
   "execution_count": 1717
  },
  {
   "metadata": {
    "ExecuteTime": {
     "end_time": "2025-05-09T22:25:31.639650Z",
     "start_time": "2025-05-09T22:25:31.637229Z"
    }
   },
   "cell_type": "code",
   "source": "data_rows = rows[1:]",
   "id": "2bf914fe8642562a",
   "outputs": [],
   "execution_count": 1718
  },
  {
   "metadata": {
    "ExecuteTime": {
     "end_time": "2025-05-09T22:26:11.467933Z",
     "start_time": "2025-05-09T22:26:11.464557Z"
    }
   },
   "cell_type": "code",
   "source": [
    "cleaned_rows = []\n",
    "for row in data_rows:\n",
    "    cleaned_row = []\n",
    "    for cell in row:\n",
    "        cleaned_row.append(cell.strip() if cell.strip() else np.nan)\n",
    "    cleaned_rows.append(cleaned_row)"
   ],
   "id": "2de5a4f044b6cad6",
   "outputs": [],
   "execution_count": 1721
  },
  {
   "metadata": {
    "ExecuteTime": {
     "end_time": "2025-05-09T22:26:12.118833Z",
     "start_time": "2025-05-09T22:26:12.115679Z"
    }
   },
   "cell_type": "code",
   "source": "df = pd.DataFrame(cleaned_rows, columns=columns)",
   "id": "11d4c70d85877033",
   "outputs": [],
   "execution_count": 1722
  },
  {
   "metadata": {
    "ExecuteTime": {
     "end_time": "2025-05-09T22:26:14.408708Z",
     "start_time": "2025-05-09T22:26:14.400861Z"
    }
   },
   "cell_type": "code",
   "source": "df",
   "id": "5b865eb5f976186e",
   "outputs": [
    {
     "data": {
      "text/plain": [
       "   SensorID     Location Temperature Humidity    Status\n",
       "0      1001   North Wing         NaN     44.9        OK\n",
       "1      1002  Central Hub         NaN     40.6   Warning\n",
       "2      1003   South Wing        25.1      nan       NaN\n",
       "3      1004    West Wing         nan     45.6   Warning\n",
       "4      1005    West Wing        23.4      NaN        OK\n",
       "5      1006   North Wing         NaN      nan  Critical\n",
       "6      1007   North Wing         nan      NaN        OK\n",
       "7      1008  Central Hub         nan      NaN       NaN\n",
       "8      1009   South Wing        27.0      NaN        OK\n",
       "9      1010   South Wing         NaN      nan  Critical\n",
       "10     1011   South Wing        23.7      nan        OK\n",
       "11     1012  Central Hub         nan     54.6       NaN\n",
       "12     1013    West Wing         nan     53.8  Critical\n",
       "13     1014   North Wing        22.3      NaN  Critical\n",
       "14     1015   North Wing         nan      NaN   Warning\n",
       "15     1016    West Wing         nan      NaN   Warning\n",
       "16     1017   South Wing         nan      nan       NaN\n",
       "17     1018  Central Hub        24.0     59.9       NaN\n",
       "18     1019    West Wing        20.9     57.2   Warning\n",
       "19     1020    West Wing         NaN      NaN       NaN\n",
       "20     1021    East Wing        29.7     53.6       NaN\n",
       "21     1022    East Wing         NaN      NaN   Warning\n",
       "22     1023    West Wing         nan      NaN       NaN\n",
       "23     1024   South Wing        25.1      NaN       NaN\n",
       "24     1025  Central Hub         NaN      nan       NaN\n",
       "25     1026   North Wing         NaN      NaN  Critical\n",
       "26     1027   South Wing         nan     58.9       NaN\n",
       "27     1028   North Wing         nan     55.3       NaN\n",
       "28     1029  Central Hub         nan      NaN   Warning\n",
       "29     1030  Central Hub         nan      NaN       NaN\n",
       "30     1031    East Wing         nan     49.0   Warning\n",
       "31     1032   North Wing         nan      nan   Warning\n",
       "32     1033   North Wing         nan     41.2        OK\n",
       "33     1034    East Wing        20.7      NaN   Warning\n",
       "34     1035  Central Hub         nan     51.5       NaN\n",
       "35     1036    West Wing        21.9      NaN       NaN\n",
       "36     1037    West Wing         nan      nan        OK\n",
       "37     1038   North Wing         NaN     56.0   Warning\n",
       "38     1039   South Wing         NaN     42.8  Critical\n",
       "39     1040    West Wing        22.5      nan        OK\n",
       "40     1041   North Wing         nan     56.7   Warning\n",
       "41     1042   South Wing         NaN      NaN        OK\n",
       "42     1043   South Wing         NaN      NaN  Critical\n",
       "43     1044    West Wing         nan      nan       NaN\n",
       "44     1045   South Wing        21.9      nan       NaN\n",
       "45     1046   North Wing        27.5      NaN       NaN\n",
       "46     1047  Central Hub         nan     41.6        OK\n",
       "47     1048  Central Hub        20.7      nan   Warning\n",
       "48     1049  Central Hub         nan      nan       NaN\n",
       "49     1050  Central Hub         NaN      nan  Critical"
      ],
      "text/html": [
       "<div>\n",
       "<style scoped>\n",
       "    .dataframe tbody tr th:only-of-type {\n",
       "        vertical-align: middle;\n",
       "    }\n",
       "\n",
       "    .dataframe tbody tr th {\n",
       "        vertical-align: top;\n",
       "    }\n",
       "\n",
       "    .dataframe thead th {\n",
       "        text-align: right;\n",
       "    }\n",
       "</style>\n",
       "<table border=\"1\" class=\"dataframe\">\n",
       "  <thead>\n",
       "    <tr style=\"text-align: right;\">\n",
       "      <th></th>\n",
       "      <th>SensorID</th>\n",
       "      <th>Location</th>\n",
       "      <th>Temperature</th>\n",
       "      <th>Humidity</th>\n",
       "      <th>Status</th>\n",
       "    </tr>\n",
       "  </thead>\n",
       "  <tbody>\n",
       "    <tr>\n",
       "      <th>0</th>\n",
       "      <td>1001</td>\n",
       "      <td>North Wing</td>\n",
       "      <td>NaN</td>\n",
       "      <td>44.9</td>\n",
       "      <td>OK</td>\n",
       "    </tr>\n",
       "    <tr>\n",
       "      <th>1</th>\n",
       "      <td>1002</td>\n",
       "      <td>Central Hub</td>\n",
       "      <td>NaN</td>\n",
       "      <td>40.6</td>\n",
       "      <td>Warning</td>\n",
       "    </tr>\n",
       "    <tr>\n",
       "      <th>2</th>\n",
       "      <td>1003</td>\n",
       "      <td>South Wing</td>\n",
       "      <td>25.1</td>\n",
       "      <td>nan</td>\n",
       "      <td>NaN</td>\n",
       "    </tr>\n",
       "    <tr>\n",
       "      <th>3</th>\n",
       "      <td>1004</td>\n",
       "      <td>West Wing</td>\n",
       "      <td>nan</td>\n",
       "      <td>45.6</td>\n",
       "      <td>Warning</td>\n",
       "    </tr>\n",
       "    <tr>\n",
       "      <th>4</th>\n",
       "      <td>1005</td>\n",
       "      <td>West Wing</td>\n",
       "      <td>23.4</td>\n",
       "      <td>NaN</td>\n",
       "      <td>OK</td>\n",
       "    </tr>\n",
       "    <tr>\n",
       "      <th>5</th>\n",
       "      <td>1006</td>\n",
       "      <td>North Wing</td>\n",
       "      <td>NaN</td>\n",
       "      <td>nan</td>\n",
       "      <td>Critical</td>\n",
       "    </tr>\n",
       "    <tr>\n",
       "      <th>6</th>\n",
       "      <td>1007</td>\n",
       "      <td>North Wing</td>\n",
       "      <td>nan</td>\n",
       "      <td>NaN</td>\n",
       "      <td>OK</td>\n",
       "    </tr>\n",
       "    <tr>\n",
       "      <th>7</th>\n",
       "      <td>1008</td>\n",
       "      <td>Central Hub</td>\n",
       "      <td>nan</td>\n",
       "      <td>NaN</td>\n",
       "      <td>NaN</td>\n",
       "    </tr>\n",
       "    <tr>\n",
       "      <th>8</th>\n",
       "      <td>1009</td>\n",
       "      <td>South Wing</td>\n",
       "      <td>27.0</td>\n",
       "      <td>NaN</td>\n",
       "      <td>OK</td>\n",
       "    </tr>\n",
       "    <tr>\n",
       "      <th>9</th>\n",
       "      <td>1010</td>\n",
       "      <td>South Wing</td>\n",
       "      <td>NaN</td>\n",
       "      <td>nan</td>\n",
       "      <td>Critical</td>\n",
       "    </tr>\n",
       "    <tr>\n",
       "      <th>10</th>\n",
       "      <td>1011</td>\n",
       "      <td>South Wing</td>\n",
       "      <td>23.7</td>\n",
       "      <td>nan</td>\n",
       "      <td>OK</td>\n",
       "    </tr>\n",
       "    <tr>\n",
       "      <th>11</th>\n",
       "      <td>1012</td>\n",
       "      <td>Central Hub</td>\n",
       "      <td>nan</td>\n",
       "      <td>54.6</td>\n",
       "      <td>NaN</td>\n",
       "    </tr>\n",
       "    <tr>\n",
       "      <th>12</th>\n",
       "      <td>1013</td>\n",
       "      <td>West Wing</td>\n",
       "      <td>nan</td>\n",
       "      <td>53.8</td>\n",
       "      <td>Critical</td>\n",
       "    </tr>\n",
       "    <tr>\n",
       "      <th>13</th>\n",
       "      <td>1014</td>\n",
       "      <td>North Wing</td>\n",
       "      <td>22.3</td>\n",
       "      <td>NaN</td>\n",
       "      <td>Critical</td>\n",
       "    </tr>\n",
       "    <tr>\n",
       "      <th>14</th>\n",
       "      <td>1015</td>\n",
       "      <td>North Wing</td>\n",
       "      <td>nan</td>\n",
       "      <td>NaN</td>\n",
       "      <td>Warning</td>\n",
       "    </tr>\n",
       "    <tr>\n",
       "      <th>15</th>\n",
       "      <td>1016</td>\n",
       "      <td>West Wing</td>\n",
       "      <td>nan</td>\n",
       "      <td>NaN</td>\n",
       "      <td>Warning</td>\n",
       "    </tr>\n",
       "    <tr>\n",
       "      <th>16</th>\n",
       "      <td>1017</td>\n",
       "      <td>South Wing</td>\n",
       "      <td>nan</td>\n",
       "      <td>nan</td>\n",
       "      <td>NaN</td>\n",
       "    </tr>\n",
       "    <tr>\n",
       "      <th>17</th>\n",
       "      <td>1018</td>\n",
       "      <td>Central Hub</td>\n",
       "      <td>24.0</td>\n",
       "      <td>59.9</td>\n",
       "      <td>NaN</td>\n",
       "    </tr>\n",
       "    <tr>\n",
       "      <th>18</th>\n",
       "      <td>1019</td>\n",
       "      <td>West Wing</td>\n",
       "      <td>20.9</td>\n",
       "      <td>57.2</td>\n",
       "      <td>Warning</td>\n",
       "    </tr>\n",
       "    <tr>\n",
       "      <th>19</th>\n",
       "      <td>1020</td>\n",
       "      <td>West Wing</td>\n",
       "      <td>NaN</td>\n",
       "      <td>NaN</td>\n",
       "      <td>NaN</td>\n",
       "    </tr>\n",
       "    <tr>\n",
       "      <th>20</th>\n",
       "      <td>1021</td>\n",
       "      <td>East Wing</td>\n",
       "      <td>29.7</td>\n",
       "      <td>53.6</td>\n",
       "      <td>NaN</td>\n",
       "    </tr>\n",
       "    <tr>\n",
       "      <th>21</th>\n",
       "      <td>1022</td>\n",
       "      <td>East Wing</td>\n",
       "      <td>NaN</td>\n",
       "      <td>NaN</td>\n",
       "      <td>Warning</td>\n",
       "    </tr>\n",
       "    <tr>\n",
       "      <th>22</th>\n",
       "      <td>1023</td>\n",
       "      <td>West Wing</td>\n",
       "      <td>nan</td>\n",
       "      <td>NaN</td>\n",
       "      <td>NaN</td>\n",
       "    </tr>\n",
       "    <tr>\n",
       "      <th>23</th>\n",
       "      <td>1024</td>\n",
       "      <td>South Wing</td>\n",
       "      <td>25.1</td>\n",
       "      <td>NaN</td>\n",
       "      <td>NaN</td>\n",
       "    </tr>\n",
       "    <tr>\n",
       "      <th>24</th>\n",
       "      <td>1025</td>\n",
       "      <td>Central Hub</td>\n",
       "      <td>NaN</td>\n",
       "      <td>nan</td>\n",
       "      <td>NaN</td>\n",
       "    </tr>\n",
       "    <tr>\n",
       "      <th>25</th>\n",
       "      <td>1026</td>\n",
       "      <td>North Wing</td>\n",
       "      <td>NaN</td>\n",
       "      <td>NaN</td>\n",
       "      <td>Critical</td>\n",
       "    </tr>\n",
       "    <tr>\n",
       "      <th>26</th>\n",
       "      <td>1027</td>\n",
       "      <td>South Wing</td>\n",
       "      <td>nan</td>\n",
       "      <td>58.9</td>\n",
       "      <td>NaN</td>\n",
       "    </tr>\n",
       "    <tr>\n",
       "      <th>27</th>\n",
       "      <td>1028</td>\n",
       "      <td>North Wing</td>\n",
       "      <td>nan</td>\n",
       "      <td>55.3</td>\n",
       "      <td>NaN</td>\n",
       "    </tr>\n",
       "    <tr>\n",
       "      <th>28</th>\n",
       "      <td>1029</td>\n",
       "      <td>Central Hub</td>\n",
       "      <td>nan</td>\n",
       "      <td>NaN</td>\n",
       "      <td>Warning</td>\n",
       "    </tr>\n",
       "    <tr>\n",
       "      <th>29</th>\n",
       "      <td>1030</td>\n",
       "      <td>Central Hub</td>\n",
       "      <td>nan</td>\n",
       "      <td>NaN</td>\n",
       "      <td>NaN</td>\n",
       "    </tr>\n",
       "    <tr>\n",
       "      <th>30</th>\n",
       "      <td>1031</td>\n",
       "      <td>East Wing</td>\n",
       "      <td>nan</td>\n",
       "      <td>49.0</td>\n",
       "      <td>Warning</td>\n",
       "    </tr>\n",
       "    <tr>\n",
       "      <th>31</th>\n",
       "      <td>1032</td>\n",
       "      <td>North Wing</td>\n",
       "      <td>nan</td>\n",
       "      <td>nan</td>\n",
       "      <td>Warning</td>\n",
       "    </tr>\n",
       "    <tr>\n",
       "      <th>32</th>\n",
       "      <td>1033</td>\n",
       "      <td>North Wing</td>\n",
       "      <td>nan</td>\n",
       "      <td>41.2</td>\n",
       "      <td>OK</td>\n",
       "    </tr>\n",
       "    <tr>\n",
       "      <th>33</th>\n",
       "      <td>1034</td>\n",
       "      <td>East Wing</td>\n",
       "      <td>20.7</td>\n",
       "      <td>NaN</td>\n",
       "      <td>Warning</td>\n",
       "    </tr>\n",
       "    <tr>\n",
       "      <th>34</th>\n",
       "      <td>1035</td>\n",
       "      <td>Central Hub</td>\n",
       "      <td>nan</td>\n",
       "      <td>51.5</td>\n",
       "      <td>NaN</td>\n",
       "    </tr>\n",
       "    <tr>\n",
       "      <th>35</th>\n",
       "      <td>1036</td>\n",
       "      <td>West Wing</td>\n",
       "      <td>21.9</td>\n",
       "      <td>NaN</td>\n",
       "      <td>NaN</td>\n",
       "    </tr>\n",
       "    <tr>\n",
       "      <th>36</th>\n",
       "      <td>1037</td>\n",
       "      <td>West Wing</td>\n",
       "      <td>nan</td>\n",
       "      <td>nan</td>\n",
       "      <td>OK</td>\n",
       "    </tr>\n",
       "    <tr>\n",
       "      <th>37</th>\n",
       "      <td>1038</td>\n",
       "      <td>North Wing</td>\n",
       "      <td>NaN</td>\n",
       "      <td>56.0</td>\n",
       "      <td>Warning</td>\n",
       "    </tr>\n",
       "    <tr>\n",
       "      <th>38</th>\n",
       "      <td>1039</td>\n",
       "      <td>South Wing</td>\n",
       "      <td>NaN</td>\n",
       "      <td>42.8</td>\n",
       "      <td>Critical</td>\n",
       "    </tr>\n",
       "    <tr>\n",
       "      <th>39</th>\n",
       "      <td>1040</td>\n",
       "      <td>West Wing</td>\n",
       "      <td>22.5</td>\n",
       "      <td>nan</td>\n",
       "      <td>OK</td>\n",
       "    </tr>\n",
       "    <tr>\n",
       "      <th>40</th>\n",
       "      <td>1041</td>\n",
       "      <td>North Wing</td>\n",
       "      <td>nan</td>\n",
       "      <td>56.7</td>\n",
       "      <td>Warning</td>\n",
       "    </tr>\n",
       "    <tr>\n",
       "      <th>41</th>\n",
       "      <td>1042</td>\n",
       "      <td>South Wing</td>\n",
       "      <td>NaN</td>\n",
       "      <td>NaN</td>\n",
       "      <td>OK</td>\n",
       "    </tr>\n",
       "    <tr>\n",
       "      <th>42</th>\n",
       "      <td>1043</td>\n",
       "      <td>South Wing</td>\n",
       "      <td>NaN</td>\n",
       "      <td>NaN</td>\n",
       "      <td>Critical</td>\n",
       "    </tr>\n",
       "    <tr>\n",
       "      <th>43</th>\n",
       "      <td>1044</td>\n",
       "      <td>West Wing</td>\n",
       "      <td>nan</td>\n",
       "      <td>nan</td>\n",
       "      <td>NaN</td>\n",
       "    </tr>\n",
       "    <tr>\n",
       "      <th>44</th>\n",
       "      <td>1045</td>\n",
       "      <td>South Wing</td>\n",
       "      <td>21.9</td>\n",
       "      <td>nan</td>\n",
       "      <td>NaN</td>\n",
       "    </tr>\n",
       "    <tr>\n",
       "      <th>45</th>\n",
       "      <td>1046</td>\n",
       "      <td>North Wing</td>\n",
       "      <td>27.5</td>\n",
       "      <td>NaN</td>\n",
       "      <td>NaN</td>\n",
       "    </tr>\n",
       "    <tr>\n",
       "      <th>46</th>\n",
       "      <td>1047</td>\n",
       "      <td>Central Hub</td>\n",
       "      <td>nan</td>\n",
       "      <td>41.6</td>\n",
       "      <td>OK</td>\n",
       "    </tr>\n",
       "    <tr>\n",
       "      <th>47</th>\n",
       "      <td>1048</td>\n",
       "      <td>Central Hub</td>\n",
       "      <td>20.7</td>\n",
       "      <td>nan</td>\n",
       "      <td>Warning</td>\n",
       "    </tr>\n",
       "    <tr>\n",
       "      <th>48</th>\n",
       "      <td>1049</td>\n",
       "      <td>Central Hub</td>\n",
       "      <td>nan</td>\n",
       "      <td>nan</td>\n",
       "      <td>NaN</td>\n",
       "    </tr>\n",
       "    <tr>\n",
       "      <th>49</th>\n",
       "      <td>1050</td>\n",
       "      <td>Central Hub</td>\n",
       "      <td>NaN</td>\n",
       "      <td>nan</td>\n",
       "      <td>Critical</td>\n",
       "    </tr>\n",
       "  </tbody>\n",
       "</table>\n",
       "</div>"
      ]
     },
     "execution_count": 1723,
     "metadata": {},
     "output_type": "execute_result"
    }
   ],
   "execution_count": 1723
  },
  {
   "metadata": {},
   "cell_type": "markdown",
   "source": [
    "## **Part D – Cleaning, Grouping, and Summarizing**\n",
    "\n",
    "### 6. **Create a new column called `StatusFlag` where:**\n",
    "\n",
    "* `'OK'` → `1`\n",
    "* All other statuses → `0`\n",
    "\n",
    "> Then compute the total `StatusFlag` count per `Location`.\n"
   ],
   "id": "27db09d06a9c8a05"
  },
  {
   "metadata": {
    "ExecuteTime": {
     "end_time": "2025-05-09T22:28:09.410746Z",
     "start_time": "2025-05-09T22:28:09.406050Z"
    }
   },
   "cell_type": "code",
   "source": "data = pd.read_csv('sensor_data_pipe.txt', sep='|')",
   "id": "8b070b584e6aff8d",
   "outputs": [],
   "execution_count": 1724
  },
  {
   "metadata": {
    "ExecuteTime": {
     "end_time": "2025-05-09T22:28:13.653829Z",
     "start_time": "2025-05-09T22:28:13.651230Z"
    }
   },
   "cell_type": "code",
   "source": "df = pd.DataFrame(data, columns=columns)",
   "id": "18293c9453a60cad",
   "outputs": [],
   "execution_count": 1725
  },
  {
   "metadata": {
    "ExecuteTime": {
     "end_time": "2025-05-09T22:28:17.249278Z",
     "start_time": "2025-05-09T22:28:17.243721Z"
    }
   },
   "cell_type": "code",
   "source": "df.head()",
   "id": "c8d7f2dd31941c43",
   "outputs": [
    {
     "data": {
      "text/plain": [
       "   SensorID     Location  Temperature  Humidity   Status\n",
       "0      1001   North Wing          NaN      44.9       OK\n",
       "1      1002  Central Hub          NaN      40.6  Warning\n",
       "2      1003   South Wing         25.1       NaN      NaN\n",
       "3      1004    West Wing          NaN      45.6  Warning\n",
       "4      1005    West Wing         23.4       NaN       OK"
      ],
      "text/html": [
       "<div>\n",
       "<style scoped>\n",
       "    .dataframe tbody tr th:only-of-type {\n",
       "        vertical-align: middle;\n",
       "    }\n",
       "\n",
       "    .dataframe tbody tr th {\n",
       "        vertical-align: top;\n",
       "    }\n",
       "\n",
       "    .dataframe thead th {\n",
       "        text-align: right;\n",
       "    }\n",
       "</style>\n",
       "<table border=\"1\" class=\"dataframe\">\n",
       "  <thead>\n",
       "    <tr style=\"text-align: right;\">\n",
       "      <th></th>\n",
       "      <th>SensorID</th>\n",
       "      <th>Location</th>\n",
       "      <th>Temperature</th>\n",
       "      <th>Humidity</th>\n",
       "      <th>Status</th>\n",
       "    </tr>\n",
       "  </thead>\n",
       "  <tbody>\n",
       "    <tr>\n",
       "      <th>0</th>\n",
       "      <td>1001</td>\n",
       "      <td>North Wing</td>\n",
       "      <td>NaN</td>\n",
       "      <td>44.9</td>\n",
       "      <td>OK</td>\n",
       "    </tr>\n",
       "    <tr>\n",
       "      <th>1</th>\n",
       "      <td>1002</td>\n",
       "      <td>Central Hub</td>\n",
       "      <td>NaN</td>\n",
       "      <td>40.6</td>\n",
       "      <td>Warning</td>\n",
       "    </tr>\n",
       "    <tr>\n",
       "      <th>2</th>\n",
       "      <td>1003</td>\n",
       "      <td>South Wing</td>\n",
       "      <td>25.1</td>\n",
       "      <td>NaN</td>\n",
       "      <td>NaN</td>\n",
       "    </tr>\n",
       "    <tr>\n",
       "      <th>3</th>\n",
       "      <td>1004</td>\n",
       "      <td>West Wing</td>\n",
       "      <td>NaN</td>\n",
       "      <td>45.6</td>\n",
       "      <td>Warning</td>\n",
       "    </tr>\n",
       "    <tr>\n",
       "      <th>4</th>\n",
       "      <td>1005</td>\n",
       "      <td>West Wing</td>\n",
       "      <td>23.4</td>\n",
       "      <td>NaN</td>\n",
       "      <td>OK</td>\n",
       "    </tr>\n",
       "  </tbody>\n",
       "</table>\n",
       "</div>"
      ]
     },
     "execution_count": 1726,
     "metadata": {},
     "output_type": "execute_result"
    }
   ],
   "execution_count": 1726
  },
  {
   "metadata": {
    "ExecuteTime": {
     "end_time": "2025-05-09T22:37:36.732661Z",
     "start_time": "2025-05-09T22:37:36.729386Z"
    }
   },
   "cell_type": "code",
   "source": "df['StatusFlag'] = df.Status.apply(lambda x: 1 if x == 'OK' else 0)",
   "id": "e78ad65cb42c97e6",
   "outputs": [],
   "execution_count": 1735
  },
  {
   "metadata": {
    "ExecuteTime": {
     "end_time": "2025-05-09T22:38:05.760321Z",
     "start_time": "2025-05-09T22:38:05.743933Z"
    }
   },
   "cell_type": "code",
   "source": "flag_counts = df.groupby('Location')['StatusFlag'].sum()",
   "id": "e268cbce0888bcc3",
   "outputs": [],
   "execution_count": 1736
  },
  {
   "metadata": {
    "ExecuteTime": {
     "end_time": "2025-05-09T22:38:18.583590Z",
     "start_time": "2025-05-09T22:38:18.578353Z"
    }
   },
   "cell_type": "code",
   "source": "flag_counts",
   "id": "2a323a700f94f76e",
   "outputs": [
    {
     "data": {
      "text/plain": [
       "Location\n",
       "Central Hub    1\n",
       "East Wing      0\n",
       "North Wing     3\n",
       "South Wing     3\n",
       "West Wing      3\n",
       "Name: StatusFlag, dtype: int64"
      ]
     },
     "execution_count": 1738,
     "metadata": {},
     "output_type": "execute_result"
    }
   ],
   "execution_count": 1738
  },
  {
   "metadata": {},
   "cell_type": "markdown",
   "source": [
    "### 7. **Compute the median `Temperature` and `Humidity` per `Location`, excluding rows with missing values.**\n",
    "\n",
    "> Use `.median()` on a grouped DataFrame."
   ],
   "id": "4661764c91b933c2"
  },
  {
   "metadata": {
    "ExecuteTime": {
     "end_time": "2025-05-09T22:39:52.493775Z",
     "start_time": "2025-05-09T22:39:52.489606Z"
    }
   },
   "cell_type": "code",
   "source": "data = pd.read_csv('sensor_data_pipe.txt', sep='|')",
   "id": "14aa6ff1a67855ff",
   "outputs": [],
   "execution_count": 1739
  },
  {
   "metadata": {
    "ExecuteTime": {
     "end_time": "2025-05-09T22:39:57.481761Z",
     "start_time": "2025-05-09T22:39:57.478653Z"
    }
   },
   "cell_type": "code",
   "source": "df = pd.DataFrame(data, columns=columns)",
   "id": "13aac204357abdff",
   "outputs": [],
   "execution_count": 1740
  },
  {
   "metadata": {
    "ExecuteTime": {
     "end_time": "2025-05-09T22:44:14.533408Z",
     "start_time": "2025-05-09T22:44:14.527628Z"
    }
   },
   "cell_type": "code",
   "source": "df.groupby('Location', dropna=True)[['Temperature', 'Humidity']].median()",
   "id": "117f5c076e9d98f",
   "outputs": [
    {
     "data": {
      "text/plain": [
       "             Temperature  Humidity\n",
       "Location                          \n",
       "Central Hub        22.35     51.50\n",
       "East Wing          25.20     51.30\n",
       "North Wing         24.90     55.30\n",
       "South Wing         25.10     50.85\n",
       "West Wing          22.20     53.80"
      ],
      "text/html": [
       "<div>\n",
       "<style scoped>\n",
       "    .dataframe tbody tr th:only-of-type {\n",
       "        vertical-align: middle;\n",
       "    }\n",
       "\n",
       "    .dataframe tbody tr th {\n",
       "        vertical-align: top;\n",
       "    }\n",
       "\n",
       "    .dataframe thead th {\n",
       "        text-align: right;\n",
       "    }\n",
       "</style>\n",
       "<table border=\"1\" class=\"dataframe\">\n",
       "  <thead>\n",
       "    <tr style=\"text-align: right;\">\n",
       "      <th></th>\n",
       "      <th>Temperature</th>\n",
       "      <th>Humidity</th>\n",
       "    </tr>\n",
       "    <tr>\n",
       "      <th>Location</th>\n",
       "      <th></th>\n",
       "      <th></th>\n",
       "    </tr>\n",
       "  </thead>\n",
       "  <tbody>\n",
       "    <tr>\n",
       "      <th>Central Hub</th>\n",
       "      <td>22.35</td>\n",
       "      <td>51.50</td>\n",
       "    </tr>\n",
       "    <tr>\n",
       "      <th>East Wing</th>\n",
       "      <td>25.20</td>\n",
       "      <td>51.30</td>\n",
       "    </tr>\n",
       "    <tr>\n",
       "      <th>North Wing</th>\n",
       "      <td>24.90</td>\n",
       "      <td>55.30</td>\n",
       "    </tr>\n",
       "    <tr>\n",
       "      <th>South Wing</th>\n",
       "      <td>25.10</td>\n",
       "      <td>50.85</td>\n",
       "    </tr>\n",
       "    <tr>\n",
       "      <th>West Wing</th>\n",
       "      <td>22.20</td>\n",
       "      <td>53.80</td>\n",
       "    </tr>\n",
       "  </tbody>\n",
       "</table>\n",
       "</div>"
      ]
     },
     "execution_count": 1747,
     "metadata": {},
     "output_type": "execute_result"
    }
   ],
   "execution_count": 1747
  },
  {
   "metadata": {},
   "cell_type": "markdown",
   "source": [
    "### 8. **Find the location with the highest average `Temperature`, excluding rows with missing or non-numeric data.**\n",
    "\n",
    "> Tip: Use `groupby().mean()` after cleaning.\n"
   ],
   "id": "7f2675955b950676"
  },
  {
   "metadata": {
    "ExecuteTime": {
     "end_time": "2025-05-09T22:46:08.132489Z",
     "start_time": "2025-05-09T22:46:08.126155Z"
    }
   },
   "cell_type": "code",
   "source": "data = pd.read_csv('sensor_data_pipe.txt', sep='|')",
   "id": "2b2a80aa569b488a",
   "outputs": [],
   "execution_count": 1748
  },
  {
   "metadata": {
    "ExecuteTime": {
     "end_time": "2025-05-09T22:52:28.237511Z",
     "start_time": "2025-05-09T22:52:28.234632Z"
    }
   },
   "cell_type": "code",
   "source": "df = pd.DataFrame(data, columns=columns)",
   "id": "3fc4498f3a02bae8",
   "outputs": [],
   "execution_count": 1761
  },
  {
   "metadata": {
    "ExecuteTime": {
     "end_time": "2025-05-09T22:54:01.719942Z",
     "start_time": "2025-05-09T22:54:01.716740Z"
    }
   },
   "cell_type": "code",
   "source": "location_temp = df.groupby('Location', dropna=True)['Temperature'].mean()",
   "id": "47c981523036248b",
   "outputs": [],
   "execution_count": 1765
  },
  {
   "metadata": {
    "ExecuteTime": {
     "end_time": "2025-05-09T22:58:22.104393Z",
     "start_time": "2025-05-09T22:58:22.099911Z"
    }
   },
   "cell_type": "code",
   "source": "location_temp",
   "id": "90e2f50133c0f26c",
   "outputs": [
    {
     "data": {
      "text/plain": [
       "Location\n",
       "Central Hub    22.350\n",
       "East Wing      25.200\n",
       "North Wing     24.900\n",
       "South Wing     24.560\n",
       "West Wing      22.175\n",
       "Name: Temperature, dtype: float64"
      ]
     },
     "execution_count": 1774,
     "metadata": {},
     "output_type": "execute_result"
    }
   ],
   "execution_count": 1774
  },
  {
   "metadata": {
    "ExecuteTime": {
     "end_time": "2025-05-09T22:58:23.100730Z",
     "start_time": "2025-05-09T22:58:23.098381Z"
    }
   },
   "cell_type": "code",
   "source": "idx_max = location_temp.idxmax()",
   "id": "36c92297f9025079",
   "outputs": [],
   "execution_count": 1775
  },
  {
   "metadata": {
    "ExecuteTime": {
     "end_time": "2025-05-09T22:55:57.370923Z",
     "start_time": "2025-05-09T22:55:57.367633Z"
    }
   },
   "cell_type": "code",
   "source": "idx_max",
   "id": "b6a5c17038372dde",
   "outputs": [
    {
     "data": {
      "text/plain": [
       "'East Wing'"
      ]
     },
     "execution_count": 1771,
     "metadata": {},
     "output_type": "execute_result"
    }
   ],
   "execution_count": 1771
  },
  {
   "metadata": {},
   "cell_type": "markdown",
   "source": [
    "### 9. **Create a summary table showing counts of each `Status` (`OK`, `Warning`, `Critical`) per `Location`.**\n",
    "\n",
    "> Hint: Use `pd.crosstab()` or `groupby(['Location', 'Status']).size().unstack(fill_value=0)`"
   ],
   "id": "e4677d5461e7e170"
  },
  {
   "metadata": {
    "ExecuteTime": {
     "end_time": "2025-05-09T22:59:33.382453Z",
     "start_time": "2025-05-09T22:59:33.378216Z"
    }
   },
   "cell_type": "code",
   "source": "data = pd.read_csv('sensor_data_pipe.txt', sep='|')",
   "id": "56d62afad130a712",
   "outputs": [],
   "execution_count": 1776
  },
  {
   "metadata": {
    "ExecuteTime": {
     "end_time": "2025-05-09T22:59:45.043093Z",
     "start_time": "2025-05-09T22:59:45.039809Z"
    }
   },
   "cell_type": "code",
   "source": "df = pd.DataFrame(data, columns=columns)",
   "id": "6f24cb1263222d1f",
   "outputs": [],
   "execution_count": 1777
  },
  {
   "metadata": {
    "ExecuteTime": {
     "end_time": "2025-05-09T23:00:55.809882Z",
     "start_time": "2025-05-09T23:00:55.795096Z"
    }
   },
   "cell_type": "code",
   "source": "df.groupby(['Location', 'Status']).size().unstack(fill_value=0)",
   "id": "d71f8a023c24e727",
   "outputs": [
    {
     "data": {
      "text/plain": [
       "Status       Critical  OK  Warning\n",
       "Location                          \n",
       "Central Hub         1   1        3\n",
       "East Wing           0   0        3\n",
       "North Wing          3   3        4\n",
       "South Wing          3   3        0\n",
       "West Wing           1   3        3"
      ],
      "text/html": [
       "<div>\n",
       "<style scoped>\n",
       "    .dataframe tbody tr th:only-of-type {\n",
       "        vertical-align: middle;\n",
       "    }\n",
       "\n",
       "    .dataframe tbody tr th {\n",
       "        vertical-align: top;\n",
       "    }\n",
       "\n",
       "    .dataframe thead th {\n",
       "        text-align: right;\n",
       "    }\n",
       "</style>\n",
       "<table border=\"1\" class=\"dataframe\">\n",
       "  <thead>\n",
       "    <tr style=\"text-align: right;\">\n",
       "      <th>Status</th>\n",
       "      <th>Critical</th>\n",
       "      <th>OK</th>\n",
       "      <th>Warning</th>\n",
       "    </tr>\n",
       "    <tr>\n",
       "      <th>Location</th>\n",
       "      <th></th>\n",
       "      <th></th>\n",
       "      <th></th>\n",
       "    </tr>\n",
       "  </thead>\n",
       "  <tbody>\n",
       "    <tr>\n",
       "      <th>Central Hub</th>\n",
       "      <td>1</td>\n",
       "      <td>1</td>\n",
       "      <td>3</td>\n",
       "    </tr>\n",
       "    <tr>\n",
       "      <th>East Wing</th>\n",
       "      <td>0</td>\n",
       "      <td>0</td>\n",
       "      <td>3</td>\n",
       "    </tr>\n",
       "    <tr>\n",
       "      <th>North Wing</th>\n",
       "      <td>3</td>\n",
       "      <td>3</td>\n",
       "      <td>4</td>\n",
       "    </tr>\n",
       "    <tr>\n",
       "      <th>South Wing</th>\n",
       "      <td>3</td>\n",
       "      <td>3</td>\n",
       "      <td>0</td>\n",
       "    </tr>\n",
       "    <tr>\n",
       "      <th>West Wing</th>\n",
       "      <td>1</td>\n",
       "      <td>3</td>\n",
       "      <td>3</td>\n",
       "    </tr>\n",
       "  </tbody>\n",
       "</table>\n",
       "</div>"
      ]
     },
     "execution_count": 1778,
     "metadata": {},
     "output_type": "execute_result"
    }
   ],
   "execution_count": 1778
  },
  {
   "metadata": {
    "ExecuteTime": {
     "end_time": "2025-05-09T23:03:22.157629Z",
     "start_time": "2025-05-09T23:03:22.124893Z"
    }
   },
   "cell_type": "code",
   "source": [
    "# alternative solution\n",
    "pd.crosstab(index=df['Location'], columns=df['Status'], dropna=True, margins=True)"
   ],
   "id": "857c13f6cc0cbe6b",
   "outputs": [
    {
     "data": {
      "text/plain": [
       "Status       Critical  OK  Warning  All\n",
       "Location                               \n",
       "Central Hub         1   1        3    5\n",
       "East Wing           0   0        3    3\n",
       "North Wing          3   3        4   10\n",
       "South Wing          3   3        0    6\n",
       "West Wing           1   3        3    7\n",
       "All                 8  10       13   31"
      ],
      "text/html": [
       "<div>\n",
       "<style scoped>\n",
       "    .dataframe tbody tr th:only-of-type {\n",
       "        vertical-align: middle;\n",
       "    }\n",
       "\n",
       "    .dataframe tbody tr th {\n",
       "        vertical-align: top;\n",
       "    }\n",
       "\n",
       "    .dataframe thead th {\n",
       "        text-align: right;\n",
       "    }\n",
       "</style>\n",
       "<table border=\"1\" class=\"dataframe\">\n",
       "  <thead>\n",
       "    <tr style=\"text-align: right;\">\n",
       "      <th>Status</th>\n",
       "      <th>Critical</th>\n",
       "      <th>OK</th>\n",
       "      <th>Warning</th>\n",
       "      <th>All</th>\n",
       "    </tr>\n",
       "    <tr>\n",
       "      <th>Location</th>\n",
       "      <th></th>\n",
       "      <th></th>\n",
       "      <th></th>\n",
       "      <th></th>\n",
       "    </tr>\n",
       "  </thead>\n",
       "  <tbody>\n",
       "    <tr>\n",
       "      <th>Central Hub</th>\n",
       "      <td>1</td>\n",
       "      <td>1</td>\n",
       "      <td>3</td>\n",
       "      <td>5</td>\n",
       "    </tr>\n",
       "    <tr>\n",
       "      <th>East Wing</th>\n",
       "      <td>0</td>\n",
       "      <td>0</td>\n",
       "      <td>3</td>\n",
       "      <td>3</td>\n",
       "    </tr>\n",
       "    <tr>\n",
       "      <th>North Wing</th>\n",
       "      <td>3</td>\n",
       "      <td>3</td>\n",
       "      <td>4</td>\n",
       "      <td>10</td>\n",
       "    </tr>\n",
       "    <tr>\n",
       "      <th>South Wing</th>\n",
       "      <td>3</td>\n",
       "      <td>3</td>\n",
       "      <td>0</td>\n",
       "      <td>6</td>\n",
       "    </tr>\n",
       "    <tr>\n",
       "      <th>West Wing</th>\n",
       "      <td>1</td>\n",
       "      <td>3</td>\n",
       "      <td>3</td>\n",
       "      <td>7</td>\n",
       "    </tr>\n",
       "    <tr>\n",
       "      <th>All</th>\n",
       "      <td>8</td>\n",
       "      <td>10</td>\n",
       "      <td>13</td>\n",
       "      <td>31</td>\n",
       "    </tr>\n",
       "  </tbody>\n",
       "</table>\n",
       "</div>"
      ]
     },
     "execution_count": 1781,
     "metadata": {},
     "output_type": "execute_result"
    }
   ],
   "execution_count": 1781
  },
  {
   "metadata": {},
   "cell_type": "markdown",
   "source": [
    "#### Aggregation Example:\n",
    "If you want to sum Temperature per location and status:"
   ],
   "id": "faa064b89f83cf57"
  },
  {
   "metadata": {
    "ExecuteTime": {
     "end_time": "2025-05-09T23:04:50.027060Z",
     "start_time": "2025-05-09T23:04:50.018214Z"
    }
   },
   "cell_type": "code",
   "source": "pd.crosstab(index=df['Location'], columns=df['Status'], values=df['Temperature'], aggfunc='mean')",
   "id": "fffb53b07978cd66",
   "outputs": [
    {
     "data": {
      "text/plain": [
       "Status       Critical     OK  Warning\n",
       "Location                             \n",
       "Central Hub       NaN    NaN     20.7\n",
       "East Wing         NaN    NaN     20.7\n",
       "North Wing       22.3    NaN      NaN\n",
       "South Wing        NaN  25.35      NaN\n",
       "West Wing         NaN  22.95     20.9"
      ],
      "text/html": [
       "<div>\n",
       "<style scoped>\n",
       "    .dataframe tbody tr th:only-of-type {\n",
       "        vertical-align: middle;\n",
       "    }\n",
       "\n",
       "    .dataframe tbody tr th {\n",
       "        vertical-align: top;\n",
       "    }\n",
       "\n",
       "    .dataframe thead th {\n",
       "        text-align: right;\n",
       "    }\n",
       "</style>\n",
       "<table border=\"1\" class=\"dataframe\">\n",
       "  <thead>\n",
       "    <tr style=\"text-align: right;\">\n",
       "      <th>Status</th>\n",
       "      <th>Critical</th>\n",
       "      <th>OK</th>\n",
       "      <th>Warning</th>\n",
       "    </tr>\n",
       "    <tr>\n",
       "      <th>Location</th>\n",
       "      <th></th>\n",
       "      <th></th>\n",
       "      <th></th>\n",
       "    </tr>\n",
       "  </thead>\n",
       "  <tbody>\n",
       "    <tr>\n",
       "      <th>Central Hub</th>\n",
       "      <td>NaN</td>\n",
       "      <td>NaN</td>\n",
       "      <td>20.7</td>\n",
       "    </tr>\n",
       "    <tr>\n",
       "      <th>East Wing</th>\n",
       "      <td>NaN</td>\n",
       "      <td>NaN</td>\n",
       "      <td>20.7</td>\n",
       "    </tr>\n",
       "    <tr>\n",
       "      <th>North Wing</th>\n",
       "      <td>22.3</td>\n",
       "      <td>NaN</td>\n",
       "      <td>NaN</td>\n",
       "    </tr>\n",
       "    <tr>\n",
       "      <th>South Wing</th>\n",
       "      <td>NaN</td>\n",
       "      <td>25.35</td>\n",
       "      <td>NaN</td>\n",
       "    </tr>\n",
       "    <tr>\n",
       "      <th>West Wing</th>\n",
       "      <td>NaN</td>\n",
       "      <td>22.95</td>\n",
       "      <td>20.9</td>\n",
       "    </tr>\n",
       "  </tbody>\n",
       "</table>\n",
       "</div>"
      ]
     },
     "execution_count": 1782,
     "metadata": {},
     "output_type": "execute_result"
    }
   ],
   "execution_count": 1782
  },
  {
   "metadata": {},
   "cell_type": "markdown",
   "source": [
    "### 10. **Replace all `'Critical'` statuses with `'CR'`, `'Warning'` with `'WRN'`, and `'OK'` with `'OK'`, then group by `Status` and count rows.**\n",
    "\n",
    "> Goal: Practice `.replace()` and summarization."
   ],
   "id": "b44225885aeb304"
  },
  {
   "metadata": {
    "ExecuteTime": {
     "end_time": "2025-05-09T23:09:37.745283Z",
     "start_time": "2025-05-09T23:09:37.739260Z"
    }
   },
   "cell_type": "code",
   "source": [
    "df['Status'] = df[\"Status\"].replace(\n",
    "    {\n",
    "        'Critical': 'CR',\n",
    "        'Warning': 'WRN',\n",
    "        'OK': 'OK',\n",
    "    }\n",
    ")"
   ],
   "id": "b3d721b89b98d438",
   "outputs": [],
   "execution_count": 1783
  },
  {
   "metadata": {
    "ExecuteTime": {
     "end_time": "2025-05-09T23:10:12.109677Z",
     "start_time": "2025-05-09T23:10:12.106648Z"
    }
   },
   "cell_type": "code",
   "source": "status_counts = df['Status'].value_counts()",
   "id": "ed969b578d95224e",
   "outputs": [],
   "execution_count": 1784
  },
  {
   "metadata": {
    "ExecuteTime": {
     "end_time": "2025-05-09T23:10:15.595791Z",
     "start_time": "2025-05-09T23:10:15.591618Z"
    }
   },
   "cell_type": "code",
   "source": "status_counts",
   "id": "48905e07bd5d9c48",
   "outputs": [
    {
     "data": {
      "text/plain": [
       "Status\n",
       "WRN    13\n",
       "OK     10\n",
       "CR      8\n",
       "Name: count, dtype: int64"
      ]
     },
     "execution_count": 1785,
     "metadata": {},
     "output_type": "execute_result"
    }
   ],
   "execution_count": 1785
  },
  {
   "metadata": {
    "ExecuteTime": {
     "end_time": "2025-05-09T23:10:57.760551Z",
     "start_time": "2025-05-09T23:10:57.755109Z"
    }
   },
   "cell_type": "code",
   "source": "status_counts_df = df.groupby('Status').size().reset_index(name='Count')",
   "id": "d8f29addf358ebdb",
   "outputs": [],
   "execution_count": 1786
  },
  {
   "metadata": {
    "ExecuteTime": {
     "end_time": "2025-05-09T23:11:02.518693Z",
     "start_time": "2025-05-09T23:11:02.513415Z"
    }
   },
   "cell_type": "code",
   "source": "status_counts_df",
   "id": "9bd1847221f9739e",
   "outputs": [
    {
     "data": {
      "text/plain": [
       "  Status  Count\n",
       "0     CR      8\n",
       "1     OK     10\n",
       "2    WRN     13"
      ],
      "text/html": [
       "<div>\n",
       "<style scoped>\n",
       "    .dataframe tbody tr th:only-of-type {\n",
       "        vertical-align: middle;\n",
       "    }\n",
       "\n",
       "    .dataframe tbody tr th {\n",
       "        vertical-align: top;\n",
       "    }\n",
       "\n",
       "    .dataframe thead th {\n",
       "        text-align: right;\n",
       "    }\n",
       "</style>\n",
       "<table border=\"1\" class=\"dataframe\">\n",
       "  <thead>\n",
       "    <tr style=\"text-align: right;\">\n",
       "      <th></th>\n",
       "      <th>Status</th>\n",
       "      <th>Count</th>\n",
       "    </tr>\n",
       "  </thead>\n",
       "  <tbody>\n",
       "    <tr>\n",
       "      <th>0</th>\n",
       "      <td>CR</td>\n",
       "      <td>8</td>\n",
       "    </tr>\n",
       "    <tr>\n",
       "      <th>1</th>\n",
       "      <td>OK</td>\n",
       "      <td>10</td>\n",
       "    </tr>\n",
       "    <tr>\n",
       "      <th>2</th>\n",
       "      <td>WRN</td>\n",
       "      <td>13</td>\n",
       "    </tr>\n",
       "  </tbody>\n",
       "</table>\n",
       "</div>"
      ]
     },
     "execution_count": 1787,
     "metadata": {},
     "output_type": "execute_result"
    }
   ],
   "execution_count": 1787
  },
  {
   "metadata": {},
   "cell_type": "code",
   "outputs": [],
   "execution_count": null,
   "source": "",
   "id": "3c70420776277803"
  }
 ],
 "metadata": {
  "kernelspec": {
   "display_name": "Python 3",
   "language": "python",
   "name": "python3"
  },
  "language_info": {
   "codemirror_mode": {
    "name": "ipython",
    "version": 2
   },
   "file_extension": ".py",
   "mimetype": "text/x-python",
   "name": "python",
   "nbconvert_exporter": "python",
   "pygments_lexer": "ipython2",
   "version": "2.7.6"
  }
 },
 "nbformat": 4,
 "nbformat_minor": 5
}
